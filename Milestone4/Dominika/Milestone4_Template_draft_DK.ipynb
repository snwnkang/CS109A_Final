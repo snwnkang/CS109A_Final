{
 "cells": [
  {
   "cell_type": "markdown",
   "metadata": {
    "colab_type": "text",
    "id": "view-in-github"
   },
   "source": [
    "<a href=\"https://colab.research.google.com/github/snwnkang/CS109A_Final/blob/main/Milestone4_Template.ipynb\" target=\"_parent\"><img src=\"https://colab.research.google.com/assets/colab-badge.svg\" alt=\"Open In Colab\"/></a>"
   ]
  },
  {
   "cell_type": "code",
   "execution_count": 1,
   "metadata": {
    "id": "MU9kyTMkQlo_",
    "tags": []
   },
   "outputs": [],
   "source": [
    "import sys\n",
    "import numpy as np\n",
    "import scipy as sp\n",
    "import pandas as pd\n",
    "import sklearn as sk\n",
    "import matplotlib.pyplot as plt\n",
    "from sklearn.model_selection import train_test_split, GridSearchCV\n",
    "from sklearn.tree import DecisionTreeClassifier, DecisionTreeRegressor\n",
    "from sklearn.linear_model import LinearRegression, Lasso,  RidgeCV, LassoCV, LogisticRegressionCV\n",
    "from sklearn.ensemble import AdaBoostClassifier, GradientBoostingRegressor, RandomForestClassifier, RandomForestRegressor\n",
    "from sklearn.metrics import accuracy_score, f1_score, r2_score, mean_squared_error\n",
    "from sklearn import datasets\n",
    "from sklearn.preprocessing import StandardScaler\n",
    "from sklearn.preprocessing import PolynomialFeatures\n",
    "\n",
    "import time\n",
    "\n",
    "from warnings import simplefilter\n",
    "simplefilter('ignore', category=UserWarning) # ignore 'fit without feature names' warning\n",
    "simplefilter('ignore', category=FutureWarning) # ignore XGBoost warning about is_categorical_dtype"
   ]
  },
  {
   "cell_type": "markdown",
   "metadata": {
    "id": "-oACdMc3THKu"
   },
   "source": [
    "<h1>Data Importing<h1>\n",
    "<ul>\n",
    "<li>full_df contains everything, including the one-hot-encoded/labeled variables and the response all together\n",
    "<li>pred contains only the predictors\n",
    "<li>resp contains the response variable Operational Energy\n",
    "<ul>\n",
    "<p>The steps below are to roughly prepare the data for usage, getting rid of the index columns and verifying the data is correct<p>"
   ]
  },
  {
   "cell_type": "code",
   "execution_count": 2,
   "metadata": {
    "id": "y4TGT2EhTFTf",
    "tags": []
   },
   "outputs": [],
   "source": [
    "full_df = pd.read_csv(\"https://raw.githubusercontent.com/snwnkang/CS109A_Final/main/data/Milestone4_data/Full_data.csv\")\n",
    "pred = pd.read_csv(\"https://raw.githubusercontent.com/snwnkang/CS109A_Final/main/data/Milestone4_data/Predictors_data.csv\")\n",
    "resp = pd.read_csv(\"https://raw.githubusercontent.com/snwnkang/CS109A_Final/main/data/Milestone4_data/Response_data.csv\")"
   ]
  },
  {
   "cell_type": "code",
   "execution_count": 3,
   "metadata": {
    "id": "G0Bz1FH6TrSj",
    "tags": []
   },
   "outputs": [],
   "source": [
    "#Dropping index columns\n",
    "full_df = full_df.drop('Unnamed: 0', axis=1)\n",
    "pred = pred.drop('Unnamed: 0', axis=1)\n",
    "resp = resp.drop('Unnamed: 0', axis=1)"
   ]
  },
  {
   "cell_type": "code",
   "execution_count": 4,
   "metadata": {
    "colab": {
     "base_uri": "https://localhost:8080/",
     "height": 236
    },
    "id": "padcDndoTaIV",
    "outputId": "7e619d3c-a9ee-46f5-a839-a452c182e670",
    "tags": []
   },
   "outputs": [
    {
     "data": {
      "text/html": [
       "<div>\n",
       "<style scoped>\n",
       "    .dataframe tbody tr th:only-of-type {\n",
       "        vertical-align: middle;\n",
       "    }\n",
       "\n",
       "    .dataframe tbody tr th {\n",
       "        vertical-align: top;\n",
       "    }\n",
       "\n",
       "    .dataframe thead th {\n",
       "        text-align: right;\n",
       "    }\n",
       "</style>\n",
       "<table border=\"1\" class=\"dataframe\">\n",
       "  <thead>\n",
       "    <tr style=\"text-align: right;\">\n",
       "      <th></th>\n",
       "      <th>Orientation</th>\n",
       "      <th>nonMassWallR [m^2-K/W]</th>\n",
       "      <th>MassWallR [m^2-K/W]</th>\n",
       "      <th>RoofR [m^2-K/W]</th>\n",
       "      <th>ExteriorFloorR [m^2-K/W]</th>\n",
       "      <th>WWRnorth</th>\n",
       "      <th>WWRwest</th>\n",
       "      <th>WWRsouth</th>\n",
       "      <th>WWReast</th>\n",
       "      <th>SHGC</th>\n",
       "      <th>...</th>\n",
       "      <th>Midrise Apartment</th>\n",
       "      <th>Retail</th>\n",
       "      <th>Secondary School</th>\n",
       "      <th>Supermarket</th>\n",
       "      <th>Warehouse</th>\n",
       "      <th>Mass</th>\n",
       "      <th>Steel framed</th>\n",
       "      <th>Wood framed</th>\n",
       "      <th>Metal</th>\n",
       "      <th>OE</th>\n",
       "    </tr>\n",
       "  </thead>\n",
       "  <tbody>\n",
       "    <tr>\n",
       "      <th>0</th>\n",
       "      <td>348</td>\n",
       "      <td>2.88</td>\n",
       "      <td>0.00</td>\n",
       "      <td>8.38</td>\n",
       "      <td>5.38</td>\n",
       "      <td>0.23</td>\n",
       "      <td>0.11</td>\n",
       "      <td>0.58</td>\n",
       "      <td>0.15</td>\n",
       "      <td>0.36</td>\n",
       "      <td>...</td>\n",
       "      <td>0</td>\n",
       "      <td>1</td>\n",
       "      <td>0</td>\n",
       "      <td>0</td>\n",
       "      <td>0</td>\n",
       "      <td>0</td>\n",
       "      <td>0</td>\n",
       "      <td>0</td>\n",
       "      <td>1</td>\n",
       "      <td>141.615293</td>\n",
       "    </tr>\n",
       "    <tr>\n",
       "      <th>1</th>\n",
       "      <td>96</td>\n",
       "      <td>3.58</td>\n",
       "      <td>0.00</td>\n",
       "      <td>10.49</td>\n",
       "      <td>6.61</td>\n",
       "      <td>0.32</td>\n",
       "      <td>0.24</td>\n",
       "      <td>0.28</td>\n",
       "      <td>0.48</td>\n",
       "      <td>0.40</td>\n",
       "      <td>...</td>\n",
       "      <td>0</td>\n",
       "      <td>1</td>\n",
       "      <td>0</td>\n",
       "      <td>0</td>\n",
       "      <td>0</td>\n",
       "      <td>0</td>\n",
       "      <td>0</td>\n",
       "      <td>0</td>\n",
       "      <td>1</td>\n",
       "      <td>127.674846</td>\n",
       "    </tr>\n",
       "    <tr>\n",
       "      <th>2</th>\n",
       "      <td>182</td>\n",
       "      <td>2.21</td>\n",
       "      <td>0.00</td>\n",
       "      <td>5.52</td>\n",
       "      <td>3.43</td>\n",
       "      <td>0.38</td>\n",
       "      <td>0.37</td>\n",
       "      <td>0.56</td>\n",
       "      <td>0.13</td>\n",
       "      <td>0.38</td>\n",
       "      <td>...</td>\n",
       "      <td>0</td>\n",
       "      <td>0</td>\n",
       "      <td>0</td>\n",
       "      <td>0</td>\n",
       "      <td>0</td>\n",
       "      <td>1</td>\n",
       "      <td>0</td>\n",
       "      <td>0</td>\n",
       "      <td>0</td>\n",
       "      <td>255.768779</td>\n",
       "    </tr>\n",
       "    <tr>\n",
       "      <th>3</th>\n",
       "      <td>359</td>\n",
       "      <td>0.00</td>\n",
       "      <td>2.03</td>\n",
       "      <td>5.52</td>\n",
       "      <td>3.08</td>\n",
       "      <td>0.42</td>\n",
       "      <td>0.38</td>\n",
       "      <td>0.37</td>\n",
       "      <td>0.49</td>\n",
       "      <td>0.38</td>\n",
       "      <td>...</td>\n",
       "      <td>1</td>\n",
       "      <td>0</td>\n",
       "      <td>0</td>\n",
       "      <td>0</td>\n",
       "      <td>0</td>\n",
       "      <td>1</td>\n",
       "      <td>0</td>\n",
       "      <td>0</td>\n",
       "      <td>0</td>\n",
       "      <td>126.355396</td>\n",
       "    </tr>\n",
       "    <tr>\n",
       "      <th>4</th>\n",
       "      <td>317</td>\n",
       "      <td>2.02</td>\n",
       "      <td>0.00</td>\n",
       "      <td>4.40</td>\n",
       "      <td>4.68</td>\n",
       "      <td>0.90</td>\n",
       "      <td>0.90</td>\n",
       "      <td>0.90</td>\n",
       "      <td>0.90</td>\n",
       "      <td>0.25</td>\n",
       "      <td>...</td>\n",
       "      <td>0</td>\n",
       "      <td>0</td>\n",
       "      <td>0</td>\n",
       "      <td>0</td>\n",
       "      <td>0</td>\n",
       "      <td>0</td>\n",
       "      <td>1</td>\n",
       "      <td>0</td>\n",
       "      <td>0</td>\n",
       "      <td>124.733609</td>\n",
       "    </tr>\n",
       "  </tbody>\n",
       "</table>\n",
       "<p>5 rows × 35 columns</p>\n",
       "</div>"
      ],
      "text/plain": [
       "   Orientation  nonMassWallR [m^2-K/W]  MassWallR [m^2-K/W]  RoofR [m^2-K/W]  \\\n",
       "0          348                    2.88                 0.00             8.38   \n",
       "1           96                    3.58                 0.00            10.49   \n",
       "2          182                    2.21                 0.00             5.52   \n",
       "3          359                    0.00                 2.03             5.52   \n",
       "4          317                    2.02                 0.00             4.40   \n",
       "\n",
       "   ExteriorFloorR [m^2-K/W]  WWRnorth  WWRwest  WWRsouth  WWReast  SHGC  ...  \\\n",
       "0                      5.38      0.23     0.11      0.58     0.15  0.36  ...   \n",
       "1                      6.61      0.32     0.24      0.28     0.48  0.40  ...   \n",
       "2                      3.43      0.38     0.37      0.56     0.13  0.38  ...   \n",
       "3                      3.08      0.42     0.38      0.37     0.49  0.38  ...   \n",
       "4                      4.68      0.90     0.90      0.90     0.90  0.25  ...   \n",
       "\n",
       "   Midrise Apartment  Retail  Secondary School  Supermarket  Warehouse  Mass  \\\n",
       "0                  0       1                 0            0          0     0   \n",
       "1                  0       1                 0            0          0     0   \n",
       "2                  0       0                 0            0          0     1   \n",
       "3                  1       0                 0            0          0     1   \n",
       "4                  0       0                 0            0          0     0   \n",
       "\n",
       "   Steel framed  Wood framed  Metal          OE  \n",
       "0             0            0      1  141.615293  \n",
       "1             0            0      1  127.674846  \n",
       "2             0            0      0  255.768779  \n",
       "3             0            0      0  126.355396  \n",
       "4             1            0      0  124.733609  \n",
       "\n",
       "[5 rows x 35 columns]"
      ]
     },
     "execution_count": 4,
     "metadata": {},
     "output_type": "execute_result"
    }
   ],
   "source": [
    "full_df.head(5)"
   ]
  },
  {
   "cell_type": "code",
   "execution_count": 5,
   "metadata": {
    "colab": {
     "base_uri": "https://localhost:8080/",
     "height": 236
    },
    "id": "Z476zgPpTeZq",
    "outputId": "ad93aedf-e4e5-4e7e-f812-d8a264e20ba1",
    "tags": []
   },
   "outputs": [
    {
     "data": {
      "text/html": [
       "<div>\n",
       "<style scoped>\n",
       "    .dataframe tbody tr th:only-of-type {\n",
       "        vertical-align: middle;\n",
       "    }\n",
       "\n",
       "    .dataframe tbody tr th {\n",
       "        vertical-align: top;\n",
       "    }\n",
       "\n",
       "    .dataframe thead th {\n",
       "        text-align: right;\n",
       "    }\n",
       "</style>\n",
       "<table border=\"1\" class=\"dataframe\">\n",
       "  <thead>\n",
       "    <tr style=\"text-align: right;\">\n",
       "      <th></th>\n",
       "      <th>Orientation</th>\n",
       "      <th>nonMassWallR [m^2-K/W]</th>\n",
       "      <th>MassWallR [m^2-K/W]</th>\n",
       "      <th>RoofR [m^2-K/W]</th>\n",
       "      <th>ExteriorFloorR [m^2-K/W]</th>\n",
       "      <th>WWRnorth</th>\n",
       "      <th>WWRwest</th>\n",
       "      <th>WWRsouth</th>\n",
       "      <th>WWReast</th>\n",
       "      <th>SHGC</th>\n",
       "      <th>...</th>\n",
       "      <th>Medium Office</th>\n",
       "      <th>Midrise Apartment</th>\n",
       "      <th>Retail</th>\n",
       "      <th>Secondary School</th>\n",
       "      <th>Supermarket</th>\n",
       "      <th>Warehouse</th>\n",
       "      <th>Mass</th>\n",
       "      <th>Steel framed</th>\n",
       "      <th>Wood framed</th>\n",
       "      <th>Metal</th>\n",
       "    </tr>\n",
       "  </thead>\n",
       "  <tbody>\n",
       "    <tr>\n",
       "      <th>0</th>\n",
       "      <td>348</td>\n",
       "      <td>2.88</td>\n",
       "      <td>0.00</td>\n",
       "      <td>8.38</td>\n",
       "      <td>5.38</td>\n",
       "      <td>0.23</td>\n",
       "      <td>0.11</td>\n",
       "      <td>0.58</td>\n",
       "      <td>0.15</td>\n",
       "      <td>0.36</td>\n",
       "      <td>...</td>\n",
       "      <td>0</td>\n",
       "      <td>0</td>\n",
       "      <td>1</td>\n",
       "      <td>0</td>\n",
       "      <td>0</td>\n",
       "      <td>0</td>\n",
       "      <td>0</td>\n",
       "      <td>0</td>\n",
       "      <td>0</td>\n",
       "      <td>1</td>\n",
       "    </tr>\n",
       "    <tr>\n",
       "      <th>1</th>\n",
       "      <td>96</td>\n",
       "      <td>3.58</td>\n",
       "      <td>0.00</td>\n",
       "      <td>10.49</td>\n",
       "      <td>6.61</td>\n",
       "      <td>0.32</td>\n",
       "      <td>0.24</td>\n",
       "      <td>0.28</td>\n",
       "      <td>0.48</td>\n",
       "      <td>0.40</td>\n",
       "      <td>...</td>\n",
       "      <td>0</td>\n",
       "      <td>0</td>\n",
       "      <td>1</td>\n",
       "      <td>0</td>\n",
       "      <td>0</td>\n",
       "      <td>0</td>\n",
       "      <td>0</td>\n",
       "      <td>0</td>\n",
       "      <td>0</td>\n",
       "      <td>1</td>\n",
       "    </tr>\n",
       "    <tr>\n",
       "      <th>2</th>\n",
       "      <td>182</td>\n",
       "      <td>2.21</td>\n",
       "      <td>0.00</td>\n",
       "      <td>5.52</td>\n",
       "      <td>3.43</td>\n",
       "      <td>0.38</td>\n",
       "      <td>0.37</td>\n",
       "      <td>0.56</td>\n",
       "      <td>0.13</td>\n",
       "      <td>0.38</td>\n",
       "      <td>...</td>\n",
       "      <td>0</td>\n",
       "      <td>0</td>\n",
       "      <td>0</td>\n",
       "      <td>0</td>\n",
       "      <td>0</td>\n",
       "      <td>0</td>\n",
       "      <td>1</td>\n",
       "      <td>0</td>\n",
       "      <td>0</td>\n",
       "      <td>0</td>\n",
       "    </tr>\n",
       "    <tr>\n",
       "      <th>3</th>\n",
       "      <td>359</td>\n",
       "      <td>0.00</td>\n",
       "      <td>2.03</td>\n",
       "      <td>5.52</td>\n",
       "      <td>3.08</td>\n",
       "      <td>0.42</td>\n",
       "      <td>0.38</td>\n",
       "      <td>0.37</td>\n",
       "      <td>0.49</td>\n",
       "      <td>0.38</td>\n",
       "      <td>...</td>\n",
       "      <td>0</td>\n",
       "      <td>1</td>\n",
       "      <td>0</td>\n",
       "      <td>0</td>\n",
       "      <td>0</td>\n",
       "      <td>0</td>\n",
       "      <td>1</td>\n",
       "      <td>0</td>\n",
       "      <td>0</td>\n",
       "      <td>0</td>\n",
       "    </tr>\n",
       "    <tr>\n",
       "      <th>4</th>\n",
       "      <td>317</td>\n",
       "      <td>2.02</td>\n",
       "      <td>0.00</td>\n",
       "      <td>4.40</td>\n",
       "      <td>4.68</td>\n",
       "      <td>0.90</td>\n",
       "      <td>0.90</td>\n",
       "      <td>0.90</td>\n",
       "      <td>0.90</td>\n",
       "      <td>0.25</td>\n",
       "      <td>...</td>\n",
       "      <td>1</td>\n",
       "      <td>0</td>\n",
       "      <td>0</td>\n",
       "      <td>0</td>\n",
       "      <td>0</td>\n",
       "      <td>0</td>\n",
       "      <td>0</td>\n",
       "      <td>1</td>\n",
       "      <td>0</td>\n",
       "      <td>0</td>\n",
       "    </tr>\n",
       "  </tbody>\n",
       "</table>\n",
       "<p>5 rows × 34 columns</p>\n",
       "</div>"
      ],
      "text/plain": [
       "   Orientation  nonMassWallR [m^2-K/W]  MassWallR [m^2-K/W]  RoofR [m^2-K/W]  \\\n",
       "0          348                    2.88                 0.00             8.38   \n",
       "1           96                    3.58                 0.00            10.49   \n",
       "2          182                    2.21                 0.00             5.52   \n",
       "3          359                    0.00                 2.03             5.52   \n",
       "4          317                    2.02                 0.00             4.40   \n",
       "\n",
       "   ExteriorFloorR [m^2-K/W]  WWRnorth  WWRwest  WWRsouth  WWReast  SHGC  ...  \\\n",
       "0                      5.38      0.23     0.11      0.58     0.15  0.36  ...   \n",
       "1                      6.61      0.32     0.24      0.28     0.48  0.40  ...   \n",
       "2                      3.43      0.38     0.37      0.56     0.13  0.38  ...   \n",
       "3                      3.08      0.42     0.38      0.37     0.49  0.38  ...   \n",
       "4                      4.68      0.90     0.90      0.90     0.90  0.25  ...   \n",
       "\n",
       "   Medium Office  Midrise Apartment  Retail  Secondary School  Supermarket  \\\n",
       "0              0                  0       1                 0            0   \n",
       "1              0                  0       1                 0            0   \n",
       "2              0                  0       0                 0            0   \n",
       "3              0                  1       0                 0            0   \n",
       "4              1                  0       0                 0            0   \n",
       "\n",
       "   Warehouse  Mass  Steel framed  Wood framed  Metal  \n",
       "0          0     0             0            0      1  \n",
       "1          0     0             0            0      1  \n",
       "2          0     1             0            0      0  \n",
       "3          0     1             0            0      0  \n",
       "4          0     0             1            0      0  \n",
       "\n",
       "[5 rows x 34 columns]"
      ]
     },
     "execution_count": 5,
     "metadata": {},
     "output_type": "execute_result"
    }
   ],
   "source": [
    "pred.head(5)"
   ]
  },
  {
   "cell_type": "code",
   "execution_count": 6,
   "metadata": {
    "colab": {
     "base_uri": "https://localhost:8080/",
     "height": 206
    },
    "id": "pIzspUxCThsG",
    "outputId": "9d040d3f-0663-4a2d-d3ed-7d282006b725",
    "tags": []
   },
   "outputs": [
    {
     "data": {
      "text/html": [
       "<div>\n",
       "<style scoped>\n",
       "    .dataframe tbody tr th:only-of-type {\n",
       "        vertical-align: middle;\n",
       "    }\n",
       "\n",
       "    .dataframe tbody tr th {\n",
       "        vertical-align: top;\n",
       "    }\n",
       "\n",
       "    .dataframe thead th {\n",
       "        text-align: right;\n",
       "    }\n",
       "</style>\n",
       "<table border=\"1\" class=\"dataframe\">\n",
       "  <thead>\n",
       "    <tr style=\"text-align: right;\">\n",
       "      <th></th>\n",
       "      <th>OE</th>\n",
       "    </tr>\n",
       "  </thead>\n",
       "  <tbody>\n",
       "    <tr>\n",
       "      <th>0</th>\n",
       "      <td>141.615293</td>\n",
       "    </tr>\n",
       "    <tr>\n",
       "      <th>1</th>\n",
       "      <td>127.674846</td>\n",
       "    </tr>\n",
       "    <tr>\n",
       "      <th>2</th>\n",
       "      <td>255.768779</td>\n",
       "    </tr>\n",
       "    <tr>\n",
       "      <th>3</th>\n",
       "      <td>126.355396</td>\n",
       "    </tr>\n",
       "    <tr>\n",
       "      <th>4</th>\n",
       "      <td>124.733609</td>\n",
       "    </tr>\n",
       "  </tbody>\n",
       "</table>\n",
       "</div>"
      ],
      "text/plain": [
       "           OE\n",
       "0  141.615293\n",
       "1  127.674846\n",
       "2  255.768779\n",
       "3  126.355396\n",
       "4  124.733609"
      ]
     },
     "execution_count": 6,
     "metadata": {},
     "output_type": "execute_result"
    }
   ],
   "source": [
    "resp.head(5)"
   ]
  },
  {
   "cell_type": "markdown",
   "metadata": {
    "id": "pV1pUC6pUwuv"
   },
   "source": [
    "<hr>\n",
    "<hr>\n",
    "<h1> Start your Models here! <h1>\n",
    "<hr>\n",
    "<hr>"
   ]
  },
  {
   "cell_type": "code",
   "execution_count": 7,
   "metadata": {
    "tags": []
   },
   "outputs": [],
   "source": [
    "# Separate predictors and response\n",
    "X, y = pred, resp\n",
    "# Train/Test split\n",
    "X_train, X_test, y_train, y_test = train_test_split(X, y, test_size=0.2, random_state=42)"
   ]
  },
  {
   "cell_type": "code",
   "execution_count": 8,
   "metadata": {
    "tags": []
   },
   "outputs": [],
   "source": [
    "# I will do polynomial regression with Lasso "
   ]
  },
  {
   "cell_type": "code",
   "execution_count": 9,
   "metadata": {
    "tags": []
   },
   "outputs": [
    {
     "data": {
      "text/plain": [
       "(26000, 34)"
      ]
     },
     "execution_count": 9,
     "metadata": {},
     "output_type": "execute_result"
    }
   ],
   "source": [
    "X_train.shape"
   ]
  },
  {
   "cell_type": "code",
   "execution_count": 10,
   "metadata": {
    "id": "ek_qbDcDTiY1",
    "tags": []
   },
   "outputs": [
    {
     "data": {
      "text/plain": [
       "Index(['Orientation', 'nonMassWallR [m^2-K/W]', 'MassWallR [m^2-K/W]',\n",
       "       'RoofR [m^2-K/W]', 'ExteriorFloorR [m^2-K/W]', 'WWRnorth', 'WWRwest',\n",
       "       'WWRsouth', 'WWReast', 'SHGC', 'WindowR [m^2-K/W]', 'numFloor',\n",
       "       'AspectRatio', 'VolumeToFacadeRatio',\n",
       "       'Packaged Single Zone - gas boiler', 'Packaged Single Zone - heat pump',\n",
       "       'Variable Air Volume air-cooled chiller - gas boiler',\n",
       "       'Variable Air Volume air-cooled chiller - heat pump',\n",
       "       'Variable Air Volume chiller with central - gas boiler',\n",
       "       'Variable Air Volume chiller with central - heat pump', 'Courthouse',\n",
       "       'Full Service Restaurant', 'Hospital', 'Large Hotel', 'Medium Office',\n",
       "       'Midrise Apartment', 'Retail', 'Secondary School', 'Supermarket',\n",
       "       'Warehouse', 'Mass', 'Steel framed', 'Wood framed', 'Metal'],\n",
       "      dtype='object')"
      ]
     },
     "execution_count": 10,
     "metadata": {},
     "output_type": "execute_result"
    }
   ],
   "source": [
    "X_train.columns"
   ]
  },
  {
   "cell_type": "code",
   "execution_count": 11,
   "metadata": {
    "tags": []
   },
   "outputs": [],
   "source": [
    "#dopping one of each categorical predictors\n",
    "X_train_used = X_train.drop(columns=[\"Packaged Single Zone - gas boiler\" , \"Courthouse\", \"Metal\"])"
   ]
  },
  {
   "cell_type": "code",
   "execution_count": 12,
   "metadata": {
    "tags": []
   },
   "outputs": [],
   "source": [
    "X_test_used = X_test.drop(columns=[\"Packaged Single Zone - gas boiler\" , \"Courthouse\", \"Metal\"])"
   ]
  },
  {
   "cell_type": "code",
   "execution_count": 13,
   "metadata": {
    "tags": []
   },
   "outputs": [
    {
     "data": {
      "text/plain": [
       "((26000, 31), (6500, 31))"
      ]
     },
     "execution_count": 13,
     "metadata": {},
     "output_type": "execute_result"
    }
   ],
   "source": [
    "X_train_used.shape, X_test_used.shape"
   ]
  },
  {
   "cell_type": "code",
   "execution_count": 14,
   "metadata": {
    "tags": []
   },
   "outputs": [
    {
     "data": {
      "text/plain": [
       "Index(['Orientation', 'nonMassWallR [m^2-K/W]', 'MassWallR [m^2-K/W]',\n",
       "       'RoofR [m^2-K/W]', 'ExteriorFloorR [m^2-K/W]', 'WWRnorth', 'WWRwest',\n",
       "       'WWRsouth', 'WWReast', 'SHGC', 'WindowR [m^2-K/W]', 'numFloor',\n",
       "       'AspectRatio', 'VolumeToFacadeRatio',\n",
       "       'Packaged Single Zone - heat pump',\n",
       "       'Variable Air Volume air-cooled chiller - gas boiler',\n",
       "       'Variable Air Volume air-cooled chiller - heat pump',\n",
       "       'Variable Air Volume chiller with central - gas boiler',\n",
       "       'Variable Air Volume chiller with central - heat pump',\n",
       "       'Full Service Restaurant', 'Hospital', 'Large Hotel', 'Medium Office',\n",
       "       'Midrise Apartment', 'Retail', 'Secondary School', 'Supermarket',\n",
       "       'Warehouse', 'Mass', 'Steel framed', 'Wood framed'],\n",
       "      dtype='object')"
      ]
     },
     "execution_count": 14,
     "metadata": {},
     "output_type": "execute_result"
    }
   ],
   "source": [
    "X_train_used.columns"
   ]
  },
  {
   "cell_type": "code",
   "execution_count": 15,
   "metadata": {
    "tags": []
   },
   "outputs": [
    {
     "data": {
      "text/html": [
       "<div>\n",
       "<style scoped>\n",
       "    .dataframe tbody tr th:only-of-type {\n",
       "        vertical-align: middle;\n",
       "    }\n",
       "\n",
       "    .dataframe tbody tr th {\n",
       "        vertical-align: top;\n",
       "    }\n",
       "\n",
       "    .dataframe thead th {\n",
       "        text-align: right;\n",
       "    }\n",
       "</style>\n",
       "<table border=\"1\" class=\"dataframe\">\n",
       "  <thead>\n",
       "    <tr style=\"text-align: right;\">\n",
       "      <th></th>\n",
       "      <th>Orientation</th>\n",
       "      <th>nonMassWallR [m^2-K/W]</th>\n",
       "      <th>MassWallR [m^2-K/W]</th>\n",
       "      <th>RoofR [m^2-K/W]</th>\n",
       "      <th>ExteriorFloorR [m^2-K/W]</th>\n",
       "      <th>WWRnorth</th>\n",
       "      <th>WWRwest</th>\n",
       "      <th>WWRsouth</th>\n",
       "      <th>WWReast</th>\n",
       "      <th>SHGC</th>\n",
       "      <th>...</th>\n",
       "      <th>Large Hotel</th>\n",
       "      <th>Medium Office</th>\n",
       "      <th>Midrise Apartment</th>\n",
       "      <th>Retail</th>\n",
       "      <th>Secondary School</th>\n",
       "      <th>Supermarket</th>\n",
       "      <th>Warehouse</th>\n",
       "      <th>Mass</th>\n",
       "      <th>Steel framed</th>\n",
       "      <th>Wood framed</th>\n",
       "    </tr>\n",
       "  </thead>\n",
       "  <tbody>\n",
       "    <tr>\n",
       "      <th>4825</th>\n",
       "      <td>293</td>\n",
       "      <td>3.6</td>\n",
       "      <td>0.0</td>\n",
       "      <td>5.81</td>\n",
       "      <td>5.56</td>\n",
       "      <td>0.85</td>\n",
       "      <td>0.85</td>\n",
       "      <td>0.85</td>\n",
       "      <td>0.85</td>\n",
       "      <td>0.38</td>\n",
       "      <td>...</td>\n",
       "      <td>0</td>\n",
       "      <td>0</td>\n",
       "      <td>0</td>\n",
       "      <td>1</td>\n",
       "      <td>0</td>\n",
       "      <td>0</td>\n",
       "      <td>0</td>\n",
       "      <td>0</td>\n",
       "      <td>1</td>\n",
       "      <td>0</td>\n",
       "    </tr>\n",
       "  </tbody>\n",
       "</table>\n",
       "<p>1 rows × 31 columns</p>\n",
       "</div>"
      ],
      "text/plain": [
       "      Orientation  nonMassWallR [m^2-K/W]  MassWallR [m^2-K/W]  \\\n",
       "4825          293                     3.6                  0.0   \n",
       "\n",
       "      RoofR [m^2-K/W]  ExteriorFloorR [m^2-K/W]  WWRnorth  WWRwest  WWRsouth  \\\n",
       "4825             5.81                      5.56      0.85     0.85      0.85   \n",
       "\n",
       "      WWReast  SHGC  ...  Large Hotel  Medium Office  Midrise Apartment  \\\n",
       "4825     0.85  0.38  ...            0              0                  0   \n",
       "\n",
       "      Retail  Secondary School  Supermarket  Warehouse  Mass  Steel framed  \\\n",
       "4825       1                 0            0          0     0             1   \n",
       "\n",
       "      Wood framed  \n",
       "4825            0  \n",
       "\n",
       "[1 rows x 31 columns]"
      ]
     },
     "execution_count": 15,
     "metadata": {},
     "output_type": "execute_result"
    }
   ],
   "source": [
    "X_train_used.head(1)"
   ]
  },
  {
   "cell_type": "code",
   "execution_count": 16,
   "metadata": {
    "tags": []
   },
   "outputs": [],
   "source": [
    "#extracting quatitative variables\n",
    "X_train_used_quant = X_train_used.drop(columns=['Packaged Single Zone - heat pump',\n",
    "       'Variable Air Volume air-cooled chiller - gas boiler',\n",
    "       'Variable Air Volume air-cooled chiller - heat pump',\n",
    "       'Variable Air Volume chiller with central - gas boiler',\n",
    "       'Variable Air Volume chiller with central - heat pump',\n",
    "       'Full Service Restaurant', 'Hospital', 'Large Hotel', 'Medium Office',\n",
    "       'Midrise Apartment', 'Retail', 'Secondary School', 'Supermarket',\n",
    "       'Warehouse', 'Mass', 'Steel framed', 'Wood framed'])"
   ]
  },
  {
   "cell_type": "code",
   "execution_count": 17,
   "metadata": {
    "tags": []
   },
   "outputs": [],
   "source": [
    "X_test_used_quant = X_test_used.drop(columns=['Packaged Single Zone - heat pump',\n",
    "       'Variable Air Volume air-cooled chiller - gas boiler',\n",
    "       'Variable Air Volume air-cooled chiller - heat pump',\n",
    "       'Variable Air Volume chiller with central - gas boiler',\n",
    "       'Variable Air Volume chiller with central - heat pump',\n",
    "       'Full Service Restaurant', 'Hospital', 'Large Hotel', 'Medium Office',\n",
    "       'Midrise Apartment', 'Retail', 'Secondary School', 'Supermarket',\n",
    "       'Warehouse', 'Mass', 'Steel framed', 'Wood framed'])"
   ]
  },
  {
   "cell_type": "code",
   "execution_count": 18,
   "metadata": {
    "tags": []
   },
   "outputs": [
    {
     "data": {
      "text/plain": [
       "((26000, 14), (6500, 14))"
      ]
     },
     "execution_count": 18,
     "metadata": {},
     "output_type": "execute_result"
    }
   ],
   "source": [
    "X_train_used_quant.shape , X_test_used_quant.shape"
   ]
  },
  {
   "cell_type": "code",
   "execution_count": 19,
   "metadata": {
    "tags": []
   },
   "outputs": [],
   "source": [
    "X_train_used_cat = X_train_used.drop(columns=['Orientation', 'nonMassWallR [m^2-K/W]', 'MassWallR [m^2-K/W]',\n",
    "       'RoofR [m^2-K/W]', 'ExteriorFloorR [m^2-K/W]', 'WWRnorth', 'WWRwest',\n",
    "       'WWRsouth', 'WWReast', 'SHGC', 'WindowR [m^2-K/W]', 'numFloor',\n",
    "       'AspectRatio', 'VolumeToFacadeRatio'])"
   ]
  },
  {
   "cell_type": "code",
   "execution_count": 20,
   "metadata": {
    "tags": []
   },
   "outputs": [],
   "source": [
    "X_test_used_cat = X_test_used.drop(columns=['Orientation', 'nonMassWallR [m^2-K/W]', 'MassWallR [m^2-K/W]',\n",
    "       'RoofR [m^2-K/W]', 'ExteriorFloorR [m^2-K/W]', 'WWRnorth', 'WWRwest',\n",
    "       'WWRsouth', 'WWReast', 'SHGC', 'WindowR [m^2-K/W]', 'numFloor',\n",
    "       'AspectRatio', 'VolumeToFacadeRatio'])"
   ]
  },
  {
   "cell_type": "code",
   "execution_count": 21,
   "metadata": {
    "tags": []
   },
   "outputs": [
    {
     "data": {
      "text/plain": [
       "((26000, 17), (6500, 17))"
      ]
     },
     "execution_count": 21,
     "metadata": {},
     "output_type": "execute_result"
    }
   ],
   "source": [
    "X_train_used_cat.shape , X_test_used_cat.shape"
   ]
  },
  {
   "cell_type": "code",
   "execution_count": 22,
   "metadata": {
    "tags": []
   },
   "outputs": [],
   "source": [
    "#Scaling quantitative preditcors"
   ]
  },
  {
   "cell_type": "code",
   "execution_count": 23,
   "metadata": {
    "tags": []
   },
   "outputs": [],
   "source": [
    "scaler = StandardScaler().fit(X_train_used_quant)\n",
    "X_train_quant_sc = scaler.transform(X_train_used_quant)\n",
    "X_test_quant_sc = scaler.transform(X_test_used_quant)"
   ]
  },
  {
   "cell_type": "code",
   "execution_count": 24,
   "metadata": {
    "tags": []
   },
   "outputs": [
    {
     "data": {
      "text/plain": [
       "((26000, 14), (6500, 14))"
      ]
     },
     "execution_count": 24,
     "metadata": {},
     "output_type": "execute_result"
    }
   ],
   "source": [
    "X_train_quant_sc.shape , X_test_quant_sc.shape"
   ]
  },
  {
   "cell_type": "code",
   "execution_count": 25,
   "metadata": {
    "tags": []
   },
   "outputs": [],
   "source": [
    "# Finding the best hyper-parameter alpha"
   ]
  },
  {
   "cell_type": "code",
   "execution_count": 26,
   "metadata": {
    "tags": []
   },
   "outputs": [],
   "source": [
    "# I will test the alpha values by convention tested in class\n",
    "alpha_list = [1e-5, 1e-4, 1e-3, 1e-2, 1e-1]"
   ]
  },
  {
   "cell_type": "code",
   "execution_count": 27,
   "metadata": {
    "tags": []
   },
   "outputs": [],
   "source": [
    "# I will test for polynomial to the 30th degree to find the alpha, \n",
    "# again based on convention of what we did in class\n",
    "max_degree = 5"
   ]
  },
  {
   "cell_type": "code",
   "execution_count": 28,
   "metadata": {
    "tags": []
   },
   "outputs": [],
   "source": [
    "# Setting those up, the way we have done in class\n",
    "include_bias = False\n",
    "fit_intercept = True\n",
    "max_iter = 100"
   ]
  },
  {
   "cell_type": "code",
   "execution_count": 29,
   "metadata": {
    "tags": []
   },
   "outputs": [],
   "source": [
    "poly = PolynomialFeatures(max_degree, include_bias=include_bias).fit(X_train_quant_sc)"
   ]
  },
  {
   "cell_type": "code",
   "execution_count": 30,
   "metadata": {
    "tags": []
   },
   "outputs": [
    {
     "data": {
      "text/plain": [
       "(26000, 11627)"
      ]
     },
     "execution_count": 30,
     "metadata": {},
     "output_type": "execute_result"
    }
   ],
   "source": [
    "X_train_quant_sc_poly = poly.transform(X_train_quant_sc)\n",
    "X_train_quant_sc_poly.shape"
   ]
  },
  {
   "cell_type": "code",
   "execution_count": 31,
   "metadata": {
    "tags": []
   },
   "outputs": [
    {
     "data": {
      "text/plain": [
       "(6500, 11627)"
      ]
     },
     "execution_count": 31,
     "metadata": {},
     "output_type": "execute_result"
    }
   ],
   "source": [
    "X_test_quant_sc_poly = poly.transform(X_test_quant_sc)\n",
    "X_test_quant_sc_poly.shape"
   ]
  },
  {
   "cell_type": "code",
   "execution_count": 32,
   "metadata": {
    "tags": []
   },
   "outputs": [
    {
     "data": {
      "text/plain": [
       "(26000, 17)"
      ]
     },
     "execution_count": 32,
     "metadata": {},
     "output_type": "execute_result"
    }
   ],
   "source": [
    "X_train_used_cat.shape"
   ]
  },
  {
   "cell_type": "code",
   "execution_count": 33,
   "metadata": {
    "tags": []
   },
   "outputs": [],
   "source": [
    "X_train_quant_sc_poly = pd.DataFrame(X_train_quant_sc_poly)\n",
    "X_train_used_cat = pd.DataFrame(X_train_used_cat, columns = X_test_used_cat.columns)"
   ]
  },
  {
   "cell_type": "code",
   "execution_count": 34,
   "metadata": {
    "tags": []
   },
   "outputs": [
    {
     "data": {
      "text/html": [
       "<div>\n",
       "<style scoped>\n",
       "    .dataframe tbody tr th:only-of-type {\n",
       "        vertical-align: middle;\n",
       "    }\n",
       "\n",
       "    .dataframe tbody tr th {\n",
       "        vertical-align: top;\n",
       "    }\n",
       "\n",
       "    .dataframe thead th {\n",
       "        text-align: right;\n",
       "    }\n",
       "</style>\n",
       "<table border=\"1\" class=\"dataframe\">\n",
       "  <thead>\n",
       "    <tr style=\"text-align: right;\">\n",
       "      <th></th>\n",
       "      <th>Packaged Single Zone - heat pump</th>\n",
       "      <th>Variable Air Volume air-cooled chiller - gas boiler</th>\n",
       "      <th>Variable Air Volume air-cooled chiller - heat pump</th>\n",
       "      <th>Variable Air Volume chiller with central - gas boiler</th>\n",
       "      <th>Variable Air Volume chiller with central - heat pump</th>\n",
       "      <th>Full Service Restaurant</th>\n",
       "      <th>Hospital</th>\n",
       "      <th>Large Hotel</th>\n",
       "      <th>Medium Office</th>\n",
       "      <th>Midrise Apartment</th>\n",
       "      <th>Retail</th>\n",
       "      <th>Secondary School</th>\n",
       "      <th>Supermarket</th>\n",
       "      <th>Warehouse</th>\n",
       "      <th>Mass</th>\n",
       "      <th>Steel framed</th>\n",
       "      <th>Wood framed</th>\n",
       "    </tr>\n",
       "  </thead>\n",
       "  <tbody>\n",
       "    <tr>\n",
       "      <th>4825</th>\n",
       "      <td>0</td>\n",
       "      <td>0</td>\n",
       "      <td>1</td>\n",
       "      <td>0</td>\n",
       "      <td>0</td>\n",
       "      <td>0</td>\n",
       "      <td>0</td>\n",
       "      <td>0</td>\n",
       "      <td>0</td>\n",
       "      <td>0</td>\n",
       "      <td>1</td>\n",
       "      <td>0</td>\n",
       "      <td>0</td>\n",
       "      <td>0</td>\n",
       "      <td>0</td>\n",
       "      <td>1</td>\n",
       "      <td>0</td>\n",
       "    </tr>\n",
       "    <tr>\n",
       "      <th>23440</th>\n",
       "      <td>0</td>\n",
       "      <td>0</td>\n",
       "      <td>0</td>\n",
       "      <td>0</td>\n",
       "      <td>1</td>\n",
       "      <td>0</td>\n",
       "      <td>0</td>\n",
       "      <td>1</td>\n",
       "      <td>0</td>\n",
       "      <td>0</td>\n",
       "      <td>0</td>\n",
       "      <td>0</td>\n",
       "      <td>0</td>\n",
       "      <td>0</td>\n",
       "      <td>0</td>\n",
       "      <td>1</td>\n",
       "      <td>0</td>\n",
       "    </tr>\n",
       "    <tr>\n",
       "      <th>11879</th>\n",
       "      <td>0</td>\n",
       "      <td>0</td>\n",
       "      <td>0</td>\n",
       "      <td>0</td>\n",
       "      <td>1</td>\n",
       "      <td>0</td>\n",
       "      <td>0</td>\n",
       "      <td>0</td>\n",
       "      <td>1</td>\n",
       "      <td>0</td>\n",
       "      <td>0</td>\n",
       "      <td>0</td>\n",
       "      <td>0</td>\n",
       "      <td>0</td>\n",
       "      <td>1</td>\n",
       "      <td>0</td>\n",
       "      <td>0</td>\n",
       "    </tr>\n",
       "    <tr>\n",
       "      <th>11758</th>\n",
       "      <td>0</td>\n",
       "      <td>1</td>\n",
       "      <td>0</td>\n",
       "      <td>0</td>\n",
       "      <td>0</td>\n",
       "      <td>0</td>\n",
       "      <td>0</td>\n",
       "      <td>0</td>\n",
       "      <td>0</td>\n",
       "      <td>0</td>\n",
       "      <td>0</td>\n",
       "      <td>0</td>\n",
       "      <td>0</td>\n",
       "      <td>0</td>\n",
       "      <td>1</td>\n",
       "      <td>0</td>\n",
       "      <td>0</td>\n",
       "    </tr>\n",
       "    <tr>\n",
       "      <th>5937</th>\n",
       "      <td>1</td>\n",
       "      <td>0</td>\n",
       "      <td>0</td>\n",
       "      <td>0</td>\n",
       "      <td>0</td>\n",
       "      <td>0</td>\n",
       "      <td>0</td>\n",
       "      <td>0</td>\n",
       "      <td>0</td>\n",
       "      <td>0</td>\n",
       "      <td>0</td>\n",
       "      <td>1</td>\n",
       "      <td>0</td>\n",
       "      <td>0</td>\n",
       "      <td>0</td>\n",
       "      <td>0</td>\n",
       "      <td>0</td>\n",
       "    </tr>\n",
       "  </tbody>\n",
       "</table>\n",
       "</div>"
      ],
      "text/plain": [
       "       Packaged Single Zone - heat pump  \\\n",
       "4825                                  0   \n",
       "23440                                 0   \n",
       "11879                                 0   \n",
       "11758                                 0   \n",
       "5937                                  1   \n",
       "\n",
       "       Variable Air Volume air-cooled chiller - gas boiler  \\\n",
       "4825                                                   0     \n",
       "23440                                                  0     \n",
       "11879                                                  0     \n",
       "11758                                                  1     \n",
       "5937                                                   0     \n",
       "\n",
       "       Variable Air Volume air-cooled chiller - heat pump  \\\n",
       "4825                                                   1    \n",
       "23440                                                  0    \n",
       "11879                                                  0    \n",
       "11758                                                  0    \n",
       "5937                                                   0    \n",
       "\n",
       "       Variable Air Volume chiller with central - gas boiler  \\\n",
       "4825                                                   0       \n",
       "23440                                                  0       \n",
       "11879                                                  0       \n",
       "11758                                                  0       \n",
       "5937                                                   0       \n",
       "\n",
       "       Variable Air Volume chiller with central - heat pump  \\\n",
       "4825                                                   0      \n",
       "23440                                                  1      \n",
       "11879                                                  1      \n",
       "11758                                                  0      \n",
       "5937                                                   0      \n",
       "\n",
       "       Full Service Restaurant  Hospital  Large Hotel  Medium Office  \\\n",
       "4825                         0         0            0              0   \n",
       "23440                        0         0            1              0   \n",
       "11879                        0         0            0              1   \n",
       "11758                        0         0            0              0   \n",
       "5937                         0         0            0              0   \n",
       "\n",
       "       Midrise Apartment  Retail  Secondary School  Supermarket  Warehouse  \\\n",
       "4825                   0       1                 0            0          0   \n",
       "23440                  0       0                 0            0          0   \n",
       "11879                  0       0                 0            0          0   \n",
       "11758                  0       0                 0            0          0   \n",
       "5937                   0       0                 1            0          0   \n",
       "\n",
       "       Mass  Steel framed  Wood framed  \n",
       "4825      0             1            0  \n",
       "23440     0             1            0  \n",
       "11879     1             0            0  \n",
       "11758     1             0            0  \n",
       "5937      0             0            0  "
      ]
     },
     "execution_count": 34,
     "metadata": {},
     "output_type": "execute_result"
    }
   ],
   "source": [
    "X_train_used_cat.head()"
   ]
  },
  {
   "cell_type": "code",
   "execution_count": 35,
   "metadata": {
    "tags": []
   },
   "outputs": [
    {
     "data": {
      "text/plain": [
       "(26000, 11627)"
      ]
     },
     "execution_count": 35,
     "metadata": {},
     "output_type": "execute_result"
    }
   ],
   "source": [
    "X_train_quant_sc_poly.shape"
   ]
  },
  {
   "cell_type": "code",
   "execution_count": 36,
   "metadata": {
    "tags": []
   },
   "outputs": [],
   "source": [
    "X_train_quant_sc_poly.columns = X_train_quant_sc_poly.columns.astype(str)"
   ]
  },
  {
   "cell_type": "code",
   "execution_count": 37,
   "metadata": {
    "tags": []
   },
   "outputs": [],
   "source": [
    "X_train_used_cat.columns = X_train_used_cat.columns.astype(str)"
   ]
  },
  {
   "cell_type": "code",
   "execution_count": 38,
   "metadata": {
    "tags": []
   },
   "outputs": [
    {
     "data": {
      "text/plain": [
       "(26000, 17)"
      ]
     },
     "execution_count": 38,
     "metadata": {},
     "output_type": "execute_result"
    }
   ],
   "source": [
    "X_train_used_cat.shape"
   ]
  },
  {
   "cell_type": "code",
   "execution_count": 39,
   "metadata": {
    "tags": []
   },
   "outputs": [],
   "source": [
    "X_train_used_cat_reset = X_train_used_cat.reset_index(drop=True)\n",
    "X_train_quant_sc_poly_reset = X_train_quant_sc_poly.reset_index(drop=True)"
   ]
  },
  {
   "cell_type": "code",
   "execution_count": 40,
   "metadata": {
    "tags": []
   },
   "outputs": [],
   "source": [
    "X_train_quant_sc_poly_cat = pd.concat([X_train_used_cat_reset, X_train_quant_sc_poly_reset], axis=1)"
   ]
  },
  {
   "cell_type": "code",
   "execution_count": 41,
   "metadata": {
    "tags": []
   },
   "outputs": [
    {
     "data": {
      "text/plain": [
       "(26000, 11644)"
      ]
     },
     "execution_count": 41,
     "metadata": {},
     "output_type": "execute_result"
    }
   ],
   "source": [
    "X_train_quant_sc_poly_cat.shape"
   ]
  },
  {
   "cell_type": "code",
   "execution_count": 42,
   "metadata": {
    "tags": []
   },
   "outputs": [],
   "source": [
    "lasso = LassoCV(alphas=alpha_list, cv=10, fit_intercept=fit_intercept, max_iter=10)\n",
    "lasso.fit(X_train_quant_sc_poly_cat, y_train);\n",
    "lassoCV_val_mses_mean = lasso.mse_path_.mean(axis=1)\n",
    "lassoCV_val_mses_std = lasso.mse_path_.std(axis=1)\n",
    "best_alpha = lasso.alpha_"
   ]
  },
  {
   "cell_type": "code",
   "execution_count": 43,
   "metadata": {
    "tags": []
   },
   "outputs": [
    {
     "data": {
      "text/plain": [
       "0.01"
      ]
     },
     "execution_count": 43,
     "metadata": {},
     "output_type": "execute_result"
    }
   ],
   "source": [
    "best_alpha"
   ]
  },
  {
   "cell_type": "code",
   "execution_count": 44,
   "metadata": {
    "tags": []
   },
   "outputs": [],
   "source": [
    "# Showing the mean validation MSE values for each regularization parameter alpha , identifying the best alpha "
   ]
  },
  {
   "cell_type": "code",
   "execution_count": 45,
   "metadata": {
    "tags": []
   },
   "outputs": [
    {
     "data": {
      "image/png": "[encoded data removed]",
      "text/plain": [
       "<Figure size 1500x600 with 1 Axes>"
      ]
     },
     "metadata": {},
     "output_type": "display_data"
    }
   ],
   "source": [
    "fig, axes = plt.subplots(1, 1, figsize=(15, 6))\n",
    "axes.plot(lasso.alphas_, lassoCV_val_mses_mean, 'o--')\n",
    "axes.set(\n",
    "    xlabel=r'$\\alpha$ (Regularization Parameter)',\n",
    "    ylabel='Mean Validation MSE',\n",
    "    title=r'Mean Validation MSE as a Function of $\\alpha$',\n",
    ")\n",
    "plt.suptitle(\"LASSO CV\")\n",
    "plt.tight_layout()\n",
    "plt.show()\n"
   ]
  },
  {
   "cell_type": "code",
   "execution_count": 46,
   "metadata": {
    "tags": []
   },
   "outputs": [],
   "source": [
    "y_train_df = pd.DataFrame(y_train)"
   ]
  },
  {
   "cell_type": "code",
   "execution_count": 47,
   "metadata": {
    "tags": []
   },
   "outputs": [],
   "source": [
    "X_train_quant_sc = pd.DataFrame(X_train_quant_sc, columns = X_train_used_quant.columns)"
   ]
  },
  {
   "cell_type": "code",
   "execution_count": 48,
   "metadata": {
    "tags": []
   },
   "outputs": [
    {
     "data": {
      "text/html": [
       "<div>\n",
       "<style scoped>\n",
       "    .dataframe tbody tr th:only-of-type {\n",
       "        vertical-align: middle;\n",
       "    }\n",
       "\n",
       "    .dataframe tbody tr th {\n",
       "        vertical-align: top;\n",
       "    }\n",
       "\n",
       "    .dataframe thead th {\n",
       "        text-align: right;\n",
       "    }\n",
       "</style>\n",
       "<table border=\"1\" class=\"dataframe\">\n",
       "  <thead>\n",
       "    <tr style=\"text-align: right;\">\n",
       "      <th></th>\n",
       "      <th>Orientation</th>\n",
       "      <th>nonMassWallR [m^2-K/W]</th>\n",
       "      <th>MassWallR [m^2-K/W]</th>\n",
       "      <th>RoofR [m^2-K/W]</th>\n",
       "      <th>ExteriorFloorR [m^2-K/W]</th>\n",
       "      <th>WWRnorth</th>\n",
       "      <th>WWRwest</th>\n",
       "      <th>WWRsouth</th>\n",
       "      <th>WWReast</th>\n",
       "      <th>SHGC</th>\n",
       "      <th>WindowR [m^2-K/W]</th>\n",
       "      <th>numFloor</th>\n",
       "      <th>AspectRatio</th>\n",
       "      <th>VolumeToFacadeRatio</th>\n",
       "    </tr>\n",
       "  </thead>\n",
       "  <tbody>\n",
       "    <tr>\n",
       "      <th>0</th>\n",
       "      <td>1.088787</td>\n",
       "      <td>0.825661</td>\n",
       "      <td>-0.392304</td>\n",
       "      <td>-0.079627</td>\n",
       "      <td>0.801900</td>\n",
       "      <td>1.260001</td>\n",
       "      <td>1.260247</td>\n",
       "      <td>1.259521</td>\n",
       "      <td>1.258402</td>\n",
       "      <td>0.702575</td>\n",
       "      <td>0.200791</td>\n",
       "      <td>-0.544257</td>\n",
       "      <td>1.331518</td>\n",
       "      <td>0.395801</td>\n",
       "    </tr>\n",
       "    <tr>\n",
       "      <th>1</th>\n",
       "      <td>1.146264</td>\n",
       "      <td>1.546578</td>\n",
       "      <td>-0.392304</td>\n",
       "      <td>0.573531</td>\n",
       "      <td>0.801900</td>\n",
       "      <td>1.335460</td>\n",
       "      <td>1.335758</td>\n",
       "      <td>1.335066</td>\n",
       "      <td>1.333921</td>\n",
       "      <td>0.990877</td>\n",
       "      <td>1.806627</td>\n",
       "      <td>2.613379</td>\n",
       "      <td>0.703869</td>\n",
       "      <td>-0.027066</td>\n",
       "    </tr>\n",
       "    <tr>\n",
       "      <th>2</th>\n",
       "      <td>0.102100</td>\n",
       "      <td>-1.622739</td>\n",
       "      <td>4.256687</td>\n",
       "      <td>0.283923</td>\n",
       "      <td>0.295233</td>\n",
       "      <td>-0.815102</td>\n",
       "      <td>-0.514270</td>\n",
       "      <td>-1.346758</td>\n",
       "      <td>-1.460288</td>\n",
       "      <td>0.990877</td>\n",
       "      <td>1.806627</td>\n",
       "      <td>1.034561</td>\n",
       "      <td>-0.522573</td>\n",
       "      <td>-0.396007</td>\n",
       "    </tr>\n",
       "    <tr>\n",
       "      <th>3</th>\n",
       "      <td>0.178736</td>\n",
       "      <td>-1.622739</td>\n",
       "      <td>1.447666</td>\n",
       "      <td>-0.800566</td>\n",
       "      <td>-0.993954</td>\n",
       "      <td>-1.494227</td>\n",
       "      <td>-1.495917</td>\n",
       "      <td>-1.157897</td>\n",
       "      <td>-0.780616</td>\n",
       "      <td>-1.171387</td>\n",
       "      <td>-0.702491</td>\n",
       "      <td>-0.807393</td>\n",
       "      <td>-0.096926</td>\n",
       "      <td>-0.819147</td>\n",
       "    </tr>\n",
       "    <tr>\n",
       "      <th>4</th>\n",
       "      <td>0.054202</td>\n",
       "      <td>0.812058</td>\n",
       "      <td>-0.392304</td>\n",
       "      <td>1.503974</td>\n",
       "      <td>0.700567</td>\n",
       "      <td>-0.022790</td>\n",
       "      <td>-0.891827</td>\n",
       "      <td>-0.553542</td>\n",
       "      <td>-0.818375</td>\n",
       "      <td>0.702575</td>\n",
       "      <td>0.000062</td>\n",
       "      <td>-0.807393</td>\n",
       "      <td>0.631725</td>\n",
       "      <td>-0.009625</td>\n",
       "    </tr>\n",
       "  </tbody>\n",
       "</table>\n",
       "</div>"
      ],
      "text/plain": [
       "   Orientation  nonMassWallR [m^2-K/W]  MassWallR [m^2-K/W]  RoofR [m^2-K/W]  \\\n",
       "0     1.088787                0.825661            -0.392304        -0.079627   \n",
       "1     1.146264                1.546578            -0.392304         0.573531   \n",
       "2     0.102100               -1.622739             4.256687         0.283923   \n",
       "3     0.178736               -1.622739             1.447666        -0.800566   \n",
       "4     0.054202                0.812058            -0.392304         1.503974   \n",
       "\n",
       "   ExteriorFloorR [m^2-K/W]  WWRnorth   WWRwest  WWRsouth   WWReast      SHGC  \\\n",
       "0                  0.801900  1.260001  1.260247  1.259521  1.258402  0.702575   \n",
       "1                  0.801900  1.335460  1.335758  1.335066  1.333921  0.990877   \n",
       "2                  0.295233 -0.815102 -0.514270 -1.346758 -1.460288  0.990877   \n",
       "3                 -0.993954 -1.494227 -1.495917 -1.157897 -0.780616 -1.171387   \n",
       "4                  0.700567 -0.022790 -0.891827 -0.553542 -0.818375  0.702575   \n",
       "\n",
       "   WindowR [m^2-K/W]  numFloor  AspectRatio  VolumeToFacadeRatio  \n",
       "0           0.200791 -0.544257     1.331518             0.395801  \n",
       "1           1.806627  2.613379     0.703869            -0.027066  \n",
       "2           1.806627  1.034561    -0.522573            -0.396007  \n",
       "3          -0.702491 -0.807393    -0.096926            -0.819147  \n",
       "4           0.000062 -0.807393     0.631725            -0.009625  "
      ]
     },
     "execution_count": 48,
     "metadata": {},
     "output_type": "execute_result"
    }
   ],
   "source": [
    "X_train_quant_sc.head()"
   ]
  },
  {
   "cell_type": "code",
   "execution_count": 49,
   "metadata": {
    "tags": []
   },
   "outputs": [],
   "source": [
    "X_train_used_cat = X_train_used_cat.reset_index(drop=True)\n",
    "X_train_quant_sc = X_train_quant_sc.reset_index(drop=True)\n",
    "y_train_df = y_train_df.reset_index(drop=True)"
   ]
  },
  {
   "cell_type": "code",
   "execution_count": 50,
   "metadata": {
    "tags": []
   },
   "outputs": [
    {
     "data": {
      "text/html": [
       "<div>\n",
       "<style scoped>\n",
       "    .dataframe tbody tr th:only-of-type {\n",
       "        vertical-align: middle;\n",
       "    }\n",
       "\n",
       "    .dataframe tbody tr th {\n",
       "        vertical-align: top;\n",
       "    }\n",
       "\n",
       "    .dataframe thead th {\n",
       "        text-align: right;\n",
       "    }\n",
       "</style>\n",
       "<table border=\"1\" class=\"dataframe\">\n",
       "  <thead>\n",
       "    <tr style=\"text-align: right;\">\n",
       "      <th></th>\n",
       "      <th>OE</th>\n",
       "    </tr>\n",
       "  </thead>\n",
       "  <tbody>\n",
       "    <tr>\n",
       "      <th>0</th>\n",
       "      <td>152.328363</td>\n",
       "    </tr>\n",
       "    <tr>\n",
       "      <th>1</th>\n",
       "      <td>297.979379</td>\n",
       "    </tr>\n",
       "    <tr>\n",
       "      <th>2</th>\n",
       "      <td>92.739612</td>\n",
       "    </tr>\n",
       "    <tr>\n",
       "      <th>3</th>\n",
       "      <td>61.615198</td>\n",
       "    </tr>\n",
       "    <tr>\n",
       "      <th>4</th>\n",
       "      <td>190.840377</td>\n",
       "    </tr>\n",
       "  </tbody>\n",
       "</table>\n",
       "</div>"
      ],
      "text/plain": [
       "           OE\n",
       "0  152.328363\n",
       "1  297.979379\n",
       "2   92.739612\n",
       "3   61.615198\n",
       "4  190.840377"
      ]
     },
     "execution_count": 50,
     "metadata": {},
     "output_type": "execute_result"
    }
   ],
   "source": [
    "y_train_df.head()"
   ]
  },
  {
   "cell_type": "code",
   "execution_count": 51,
   "metadata": {
    "tags": []
   },
   "outputs": [
    {
     "data": {
      "text/plain": [
       "(26000, 32)"
      ]
     },
     "execution_count": 51,
     "metadata": {},
     "output_type": "execute_result"
    }
   ],
   "source": [
    "df_train = pd.concat([X_train_used_cat, X_train_quant_sc , y_train_df], axis = 1)\n",
    "df_train.shape"
   ]
  },
  {
   "cell_type": "code",
   "execution_count": 52,
   "metadata": {
    "tags": []
   },
   "outputs": [
    {
     "data": {
      "text/html": [
       "<div>\n",
       "<style scoped>\n",
       "    .dataframe tbody tr th:only-of-type {\n",
       "        vertical-align: middle;\n",
       "    }\n",
       "\n",
       "    .dataframe tbody tr th {\n",
       "        vertical-align: top;\n",
       "    }\n",
       "\n",
       "    .dataframe thead th {\n",
       "        text-align: right;\n",
       "    }\n",
       "</style>\n",
       "<table border=\"1\" class=\"dataframe\">\n",
       "  <thead>\n",
       "    <tr style=\"text-align: right;\">\n",
       "      <th></th>\n",
       "      <th>Packaged Single Zone - heat pump</th>\n",
       "      <th>Variable Air Volume air-cooled chiller - gas boiler</th>\n",
       "      <th>Variable Air Volume air-cooled chiller - heat pump</th>\n",
       "      <th>Variable Air Volume chiller with central - gas boiler</th>\n",
       "      <th>Variable Air Volume chiller with central - heat pump</th>\n",
       "      <th>Full Service Restaurant</th>\n",
       "      <th>Hospital</th>\n",
       "      <th>Large Hotel</th>\n",
       "      <th>Medium Office</th>\n",
       "      <th>Midrise Apartment</th>\n",
       "      <th>...</th>\n",
       "      <th>WWRnorth</th>\n",
       "      <th>WWRwest</th>\n",
       "      <th>WWRsouth</th>\n",
       "      <th>WWReast</th>\n",
       "      <th>SHGC</th>\n",
       "      <th>WindowR [m^2-K/W]</th>\n",
       "      <th>numFloor</th>\n",
       "      <th>AspectRatio</th>\n",
       "      <th>VolumeToFacadeRatio</th>\n",
       "      <th>OE</th>\n",
       "    </tr>\n",
       "  </thead>\n",
       "  <tbody>\n",
       "    <tr>\n",
       "      <th>0</th>\n",
       "      <td>0</td>\n",
       "      <td>0</td>\n",
       "      <td>1</td>\n",
       "      <td>0</td>\n",
       "      <td>0</td>\n",
       "      <td>0</td>\n",
       "      <td>0</td>\n",
       "      <td>0</td>\n",
       "      <td>0</td>\n",
       "      <td>0</td>\n",
       "      <td>...</td>\n",
       "      <td>1.260001</td>\n",
       "      <td>1.260247</td>\n",
       "      <td>1.259521</td>\n",
       "      <td>1.258402</td>\n",
       "      <td>0.702575</td>\n",
       "      <td>0.200791</td>\n",
       "      <td>-0.544257</td>\n",
       "      <td>1.331518</td>\n",
       "      <td>0.395801</td>\n",
       "      <td>152.328363</td>\n",
       "    </tr>\n",
       "  </tbody>\n",
       "</table>\n",
       "<p>1 rows × 32 columns</p>\n",
       "</div>"
      ],
      "text/plain": [
       "   Packaged Single Zone - heat pump  \\\n",
       "0                                 0   \n",
       "\n",
       "   Variable Air Volume air-cooled chiller - gas boiler  \\\n",
       "0                                                  0     \n",
       "\n",
       "   Variable Air Volume air-cooled chiller - heat pump  \\\n",
       "0                                                  1    \n",
       "\n",
       "   Variable Air Volume chiller with central - gas boiler  \\\n",
       "0                                                  0       \n",
       "\n",
       "   Variable Air Volume chiller with central - heat pump  \\\n",
       "0                                                  0      \n",
       "\n",
       "   Full Service Restaurant  Hospital  Large Hotel  Medium Office  \\\n",
       "0                        0         0            0              0   \n",
       "\n",
       "   Midrise Apartment  ...  WWRnorth   WWRwest  WWRsouth   WWReast      SHGC  \\\n",
       "0                  0  ...  1.260001  1.260247  1.259521  1.258402  0.702575   \n",
       "\n",
       "   WindowR [m^2-K/W]  numFloor  AspectRatio  VolumeToFacadeRatio          OE  \n",
       "0           0.200791 -0.544257     1.331518             0.395801  152.328363  \n",
       "\n",
       "[1 rows x 32 columns]"
      ]
     },
     "execution_count": 52,
     "metadata": {},
     "output_type": "execute_result"
    }
   ],
   "source": [
    "df_train.head(1)"
   ]
  },
  {
   "cell_type": "code",
   "execution_count": 53,
   "metadata": {
    "tags": []
   },
   "outputs": [
    {
     "data": {
      "text/plain": [
       "Index(['Orientation', 'nonMassWallR [m^2-K/W]', 'MassWallR [m^2-K/W]',\n",
       "       'RoofR [m^2-K/W]', 'ExteriorFloorR [m^2-K/W]', 'WWRnorth', 'WWRwest',\n",
       "       'WWRsouth', 'WWReast', 'SHGC', 'WindowR [m^2-K/W]', 'numFloor',\n",
       "       'AspectRatio', 'VolumeToFacadeRatio'],\n",
       "      dtype='object')"
      ]
     },
     "execution_count": 53,
     "metadata": {},
     "output_type": "execute_result"
    }
   ],
   "source": [
    "X_train_quant_sc.columns"
   ]
  },
  {
   "cell_type": "code",
   "execution_count": 54,
   "metadata": {
    "tags": []
   },
   "outputs": [
    {
     "data": {
      "text/plain": [
       "Index(['Packaged Single Zone - heat pump',\n",
       "       'Variable Air Volume air-cooled chiller - gas boiler',\n",
       "       'Variable Air Volume air-cooled chiller - heat pump',\n",
       "       'Variable Air Volume chiller with central - gas boiler',\n",
       "       'Variable Air Volume chiller with central - heat pump',\n",
       "       'Full Service Restaurant', 'Hospital', 'Large Hotel', 'Medium Office',\n",
       "       'Midrise Apartment', 'Retail', 'Secondary School', 'Supermarket',\n",
       "       'Warehouse', 'Mass', 'Steel framed', 'Wood framed'],\n",
       "      dtype='object')"
      ]
     },
     "execution_count": 54,
     "metadata": {},
     "output_type": "execute_result"
    }
   ],
   "source": [
    "X_train_used_cat.columns"
   ]
  },
  {
   "cell_type": "code",
   "execution_count": 55,
   "metadata": {
    "tags": []
   },
   "outputs": [
    {
     "data": {
      "image/png": "[encoded data removed]",
      "text/plain": [
       "<Figure size 1000x500 with 1 Axes>"
      ]
     },
     "metadata": {},
     "output_type": "display_data"
    }
   ],
   "source": [
    "# Fitting the lasso model\n",
    "numboot = 2\n",
    "max_degree = [1, 2, 3]\n",
    "\n",
    "significant_degrees = {}\n",
    "\n",
    "# Perform bootstraps\n",
    "for d in max_degree:\n",
    "    df_boot = df_train.sample(frac=1, replace=True)\n",
    "    x_train_quant_boot = df_boot[['Orientation', 'nonMassWallR [m^2-K/W]', 'MassWallR [m^2-K/W]',\n",
    "       'RoofR [m^2-K/W]', 'ExteriorFloorR [m^2-K/W]', 'WWRnorth', 'WWRwest',\n",
    "       'WWRsouth', 'WWReast', 'SHGC', 'WindowR [m^2-K/W]', 'numFloor',\n",
    "       'AspectRatio', 'VolumeToFacadeRatio']]\n",
    "    x_poly_train_boot = PolynomialFeatures(\n",
    "        d, include_bias=include_bias\n",
    "    ).fit_transform(x_train_quant_boot)\n",
    "    x_train_cat_boot = df_boot[['Packaged Single Zone - heat pump',\n",
    "       'Variable Air Volume air-cooled chiller - gas boiler',\n",
    "       'Variable Air Volume air-cooled chiller - heat pump',\n",
    "       'Variable Air Volume chiller with central - gas boiler',\n",
    "       'Variable Air Volume chiller with central - heat pump',\n",
    "       'Full Service Restaurant', 'Hospital', 'Large Hotel', 'Medium Office',\n",
    "       'Midrise Apartment', 'Retail', 'Secondary School', 'Supermarket',\n",
    "       'Warehouse', 'Mass', 'Steel framed', 'Wood framed']]\n",
    "    x_poly_train_boot = pd.DataFrame(x_poly_train_boot)\n",
    "    x_train_cat_boot = pd.DataFrame(x_train_cat_boot)\n",
    "    x_poly_train_boot = x_poly_train_boot.reset_index(drop=True)\n",
    "    x_train_cat_boot = x_train_cat_boot.reset_index(drop=True)\n",
    "    x_train_boot = pd.concat([x_poly_train_boot, x_train_cat_boot], axis=1) \n",
    "    x_train_boot.columns = x_train_boot.columns.astype(str)\n",
    "    y_train_boot = df_boot.OE\n",
    "\n",
    "    lasso = Lasso(\n",
    "        fit_intercept=True,\n",
    "        max_iter=10,\n",
    "        alpha=best_alpha,\n",
    "    )\n",
    "    lasso.fit(x_train_boot, y_train_boot)\n",
    "    \n",
    "    if fit_intercept:\n",
    "        coefficients = [lasso.intercept_, *lasso.coef_]\n",
    "    else:\n",
    "        coefficients = lasso.coef_\n",
    "\n",
    "    for i in np.where(np.abs(coefficients) > 0.0)[0]:\n",
    "        if i not in significant_degrees:\n",
    "            significant_degrees[i] = 1\n",
    "        else:\n",
    "            significant_degrees[i] += 1\n",
    "\n",
    "fig, ax = plt.subplots(figsize=(10, 5))\n",
    "\n",
    "lists = sorted(significant_degrees.items())\n",
    "x, y = zip(*lists)\n",
    "\n",
    "ax.bar(x, y, alpha=0.7)\n",
    "ax.set_xlabel(\"Degree\", fontsize=12)\n",
    "ax.set_ylabel(\"Frequency (counts)\", fontsize=12)\n",
    "ax.set_xticks(range(len(max_degree)))\n",
    "ax.set_title(\n",
    "    \"Number of times each degree coefficient was identified as significant at\\n\"\n",
    "    f\"$\\mid\\\\beta_i\\mid > 0.0$ over {numboot} bootstrapped $LASSO$ models \"\n",
    "    f\"with $\\\\alpha={best_alpha}$\",\n",
    "    fontsize=14,\n",
    ")\n",
    "plt.grid(\":\", alpha=0.4)\n",
    "plt.show()"
   ]
  },
  {
   "cell_type": "code",
   "execution_count": 56,
   "metadata": {
    "scrolled": true,
    "tags": []
   },
   "outputs": [
    {
     "data": {
      "text/plain": [
       "{0: 3,\n",
       " 1: 3,\n",
       " 2: 3,\n",
       " 3: 3,\n",
       " 4: 3,\n",
       " 5: 3,\n",
       " 6: 3,\n",
       " 7: 3,\n",
       " 8: 3,\n",
       " 9: 3,\n",
       " 10: 3,\n",
       " 11: 3,\n",
       " 12: 3,\n",
       " 13: 3,\n",
       " 14: 3,\n",
       " 15: 3,\n",
       " 16: 3,\n",
       " 17: 3,\n",
       " 18: 3,\n",
       " 19: 3,\n",
       " 20: 3,\n",
       " 21: 3,\n",
       " 22: 3,\n",
       " 23: 3,\n",
       " 24: 3,\n",
       " 25: 3,\n",
       " 26: 3,\n",
       " 27: 3,\n",
       " 28: 3,\n",
       " 29: 3,\n",
       " 30: 3,\n",
       " 31: 3,\n",
       " 32: 2,\n",
       " 33: 2,\n",
       " 34: 2,\n",
       " 35: 2,\n",
       " 36: 1,\n",
       " 37: 2,\n",
       " 38: 2,\n",
       " 39: 2,\n",
       " 40: 2,\n",
       " 41: 2,\n",
       " 42: 2,\n",
       " 43: 2,\n",
       " 44: 2,\n",
       " 45: 2,\n",
       " 46: 2,\n",
       " 47: 2,\n",
       " 48: 2,\n",
       " 49: 2,\n",
       " 50: 2,\n",
       " 51: 2,\n",
       " 52: 2,\n",
       " 53: 2,\n",
       " 54: 2,\n",
       " 55: 2,\n",
       " 56: 2,\n",
       " 57: 2,\n",
       " 58: 2,\n",
       " 59: 1,\n",
       " 60: 2,\n",
       " 61: 2,\n",
       " 62: 2,\n",
       " 63: 2,\n",
       " 64: 2,\n",
       " 65: 2,\n",
       " 66: 2,\n",
       " 67: 2,\n",
       " 68: 2,\n",
       " 69: 2,\n",
       " 70: 2,\n",
       " 71: 1,\n",
       " 72: 2,\n",
       " 73: 2,\n",
       " 74: 2,\n",
       " 75: 2,\n",
       " 76: 2,\n",
       " 77: 2,\n",
       " 78: 2,\n",
       " 79: 2,\n",
       " 80: 2,\n",
       " 81: 2,\n",
       " 82: 2,\n",
       " 83: 2,\n",
       " 84: 2,\n",
       " 85: 2,\n",
       " 86: 2,\n",
       " 87: 2,\n",
       " 88: 2,\n",
       " 89: 2,\n",
       " 90: 2,\n",
       " 91: 2,\n",
       " 92: 2,\n",
       " 93: 1,\n",
       " 94: 2,\n",
       " 95: 2,\n",
       " 96: 2,\n",
       " 97: 2,\n",
       " 98: 2,\n",
       " 99: 1,\n",
       " 100: 2,\n",
       " 101: 2,\n",
       " 102: 2,\n",
       " 103: 2,\n",
       " 104: 2,\n",
       " 105: 2,\n",
       " 106: 1,\n",
       " 107: 2,\n",
       " 108: 2,\n",
       " 109: 2,\n",
       " 110: 2,\n",
       " 111: 2,\n",
       " 112: 2,\n",
       " 113: 2,\n",
       " 114: 2,\n",
       " 115: 2,\n",
       " 116: 2,\n",
       " 117: 2,\n",
       " 118: 2,\n",
       " 119: 2,\n",
       " 120: 2,\n",
       " 121: 2,\n",
       " 122: 2,\n",
       " 123: 2,\n",
       " 124: 2,\n",
       " 125: 2,\n",
       " 126: 2,\n",
       " 127: 2,\n",
       " 128: 2,\n",
       " 129: 2,\n",
       " 130: 2,\n",
       " 131: 2,\n",
       " 132: 2,\n",
       " 133: 2,\n",
       " 134: 2,\n",
       " 135: 2,\n",
       " 136: 2,\n",
       " 137: 1,\n",
       " 139: 1,\n",
       " 140: 1,\n",
       " 141: 1,\n",
       " 142: 1,\n",
       " 143: 1,\n",
       " 144: 1,\n",
       " 145: 1,\n",
       " 146: 1,\n",
       " 147: 1,\n",
       " 148: 1,\n",
       " 149: 1,\n",
       " 150: 1,\n",
       " 151: 1,\n",
       " 152: 1,\n",
       " 153: 1,\n",
       " 154: 1,\n",
       " 155: 1,\n",
       " 156: 1,\n",
       " 157: 1,\n",
       " 158: 1,\n",
       " 159: 1,\n",
       " 160: 1,\n",
       " 161: 1,\n",
       " 162: 1,\n",
       " 163: 1,\n",
       " 164: 1,\n",
       " 165: 1,\n",
       " 167: 1,\n",
       " 168: 1,\n",
       " 169: 1,\n",
       " 170: 1,\n",
       " 171: 1,\n",
       " 172: 1,\n",
       " 173: 1,\n",
       " 174: 1,\n",
       " 175: 1,\n",
       " 176: 1,\n",
       " 177: 1,\n",
       " 178: 1,\n",
       " 179: 1,\n",
       " 180: 1,\n",
       " 181: 1,\n",
       " 182: 1,\n",
       " 183: 1,\n",
       " 184: 1,\n",
       " 185: 1,\n",
       " 186: 1,\n",
       " 187: 1,\n",
       " 188: 1,\n",
       " 189: 1,\n",
       " 190: 1,\n",
       " 191: 1,\n",
       " 192: 1,\n",
       " 193: 1,\n",
       " 195: 1,\n",
       " 196: 1,\n",
       " 197: 1,\n",
       " 198: 1,\n",
       " 199: 1,\n",
       " 200: 1,\n",
       " 201: 1,\n",
       " 202: 1,\n",
       " 203: 1,\n",
       " 204: 1,\n",
       " 205: 1,\n",
       " 206: 1,\n",
       " 207: 1,\n",
       " 208: 1,\n",
       " 209: 1,\n",
       " 210: 1,\n",
       " 212: 1,\n",
       " 213: 1,\n",
       " 214: 1,\n",
       " 215: 1,\n",
       " 216: 1,\n",
       " 217: 1,\n",
       " 218: 1,\n",
       " 219: 1,\n",
       " 220: 1,\n",
       " 221: 1,\n",
       " 222: 1,\n",
       " 223: 1,\n",
       " 224: 1,\n",
       " 225: 1,\n",
       " 226: 1,\n",
       " 227: 1,\n",
       " 228: 1,\n",
       " 230: 1,\n",
       " 231: 1,\n",
       " 232: 1,\n",
       " 233: 1,\n",
       " 234: 1,\n",
       " 235: 1,\n",
       " 236: 1,\n",
       " 237: 1,\n",
       " 239: 1,\n",
       " 242: 1,\n",
       " 243: 1,\n",
       " 244: 1,\n",
       " 245: 1,\n",
       " 246: 1,\n",
       " 247: 1,\n",
       " 248: 1,\n",
       " 249: 1,\n",
       " 250: 1,\n",
       " 251: 1,\n",
       " 252: 1,\n",
       " 253: 1,\n",
       " 254: 1,\n",
       " 255: 1,\n",
       " 256: 1,\n",
       " 257: 1,\n",
       " 258: 1,\n",
       " 259: 1,\n",
       " 260: 1,\n",
       " 261: 1,\n",
       " 262: 1,\n",
       " 263: 1,\n",
       " 264: 1,\n",
       " 265: 1,\n",
       " 266: 1,\n",
       " 267: 1,\n",
       " 268: 1,\n",
       " 269: 1,\n",
       " 270: 1,\n",
       " 271: 1,\n",
       " 272: 1,\n",
       " 273: 1,\n",
       " 274: 1,\n",
       " 275: 1,\n",
       " 276: 1,\n",
       " 277: 1,\n",
       " 278: 1,\n",
       " 279: 1,\n",
       " 280: 1,\n",
       " 281: 1,\n",
       " 282: 1,\n",
       " 283: 1,\n",
       " 284: 1,\n",
       " 285: 1,\n",
       " 286: 1,\n",
       " 287: 1,\n",
       " 288: 1,\n",
       " 289: 1,\n",
       " 290: 1,\n",
       " 291: 1,\n",
       " 292: 1,\n",
       " 293: 1,\n",
       " 294: 1,\n",
       " 295: 1,\n",
       " 296: 1,\n",
       " 297: 1,\n",
       " 298: 1,\n",
       " 299: 1,\n",
       " 300: 1,\n",
       " 301: 1,\n",
       " 302: 1,\n",
       " 303: 1,\n",
       " 304: 1,\n",
       " 305: 1,\n",
       " 306: 1,\n",
       " 307: 1,\n",
       " 308: 1,\n",
       " 309: 1,\n",
       " 310: 1,\n",
       " 311: 1,\n",
       " 312: 1,\n",
       " 313: 1,\n",
       " 314: 1,\n",
       " 315: 1,\n",
       " 316: 1,\n",
       " 317: 1,\n",
       " 318: 1,\n",
       " 319: 1,\n",
       " 320: 1,\n",
       " 321: 1,\n",
       " 322: 1,\n",
       " 323: 1,\n",
       " 324: 1,\n",
       " 325: 1,\n",
       " 326: 1,\n",
       " 327: 1,\n",
       " 328: 1,\n",
       " 329: 1,\n",
       " 330: 1,\n",
       " 331: 1,\n",
       " 332: 1,\n",
       " 333: 1,\n",
       " 334: 1,\n",
       " 335: 1,\n",
       " 336: 1,\n",
       " 337: 1,\n",
       " 338: 1,\n",
       " 339: 1,\n",
       " 340: 1,\n",
       " 342: 1,\n",
       " 343: 1,\n",
       " 344: 1,\n",
       " 345: 1,\n",
       " 346: 1,\n",
       " 347: 1,\n",
       " 348: 1,\n",
       " 349: 1,\n",
       " 350: 1,\n",
       " 351: 1,\n",
       " 352: 1,\n",
       " 353: 1,\n",
       " 354: 1,\n",
       " 355: 1,\n",
       " 356: 1,\n",
       " 357: 1,\n",
       " 358: 1,\n",
       " 359: 1,\n",
       " 360: 1,\n",
       " 362: 1,\n",
       " 363: 1,\n",
       " 364: 1,\n",
       " 365: 1,\n",
       " 366: 1,\n",
       " 367: 1,\n",
       " 368: 1,\n",
       " 369: 1,\n",
       " 370: 1,\n",
       " 371: 1,\n",
       " 372: 1,\n",
       " 373: 1,\n",
       " 374: 1,\n",
       " 375: 1,\n",
       " 376: 1,\n",
       " 377: 1,\n",
       " 378: 1,\n",
       " 379: 1,\n",
       " 380: 1,\n",
       " 381: 1,\n",
       " 382: 1,\n",
       " 383: 1,\n",
       " 384: 1,\n",
       " 385: 1,\n",
       " 386: 1,\n",
       " 387: 1,\n",
       " 388: 1,\n",
       " 389: 1,\n",
       " 390: 1,\n",
       " 391: 1,\n",
       " 392: 1,\n",
       " 393: 1,\n",
       " 394: 1,\n",
       " 395: 1,\n",
       " 396: 1,\n",
       " 397: 1,\n",
       " 398: 1,\n",
       " 399: 1,\n",
       " 400: 1,\n",
       " 401: 1,\n",
       " 402: 1,\n",
       " 403: 1,\n",
       " 404: 1,\n",
       " 405: 1,\n",
       " 406: 1,\n",
       " 407: 1,\n",
       " 408: 1,\n",
       " 409: 1,\n",
       " 412: 1,\n",
       " 413: 1,\n",
       " 414: 1,\n",
       " 415: 1,\n",
       " 416: 1,\n",
       " 417: 1,\n",
       " 418: 1,\n",
       " 419: 1,\n",
       " 420: 1,\n",
       " 421: 1,\n",
       " 422: 1,\n",
       " 423: 1,\n",
       " 424: 1,\n",
       " 425: 1,\n",
       " 426: 1,\n",
       " 427: 1,\n",
       " 428: 1,\n",
       " 429: 1,\n",
       " 430: 1,\n",
       " 431: 1,\n",
       " 432: 1,\n",
       " 433: 1,\n",
       " 434: 1,\n",
       " 435: 1,\n",
       " 436: 1,\n",
       " 437: 1,\n",
       " 438: 1,\n",
       " 439: 1,\n",
       " 440: 1,\n",
       " 441: 1,\n",
       " 442: 1,\n",
       " 443: 1,\n",
       " 444: 1,\n",
       " 445: 1,\n",
       " 446: 1,\n",
       " 447: 1,\n",
       " 448: 1,\n",
       " 449: 1,\n",
       " 450: 1,\n",
       " 451: 1,\n",
       " 452: 1,\n",
       " 453: 1,\n",
       " 454: 1,\n",
       " 455: 1,\n",
       " 456: 1,\n",
       " 457: 1,\n",
       " 458: 1,\n",
       " 459: 1,\n",
       " 460: 1,\n",
       " 461: 1,\n",
       " 462: 1,\n",
       " 463: 1,\n",
       " 464: 1,\n",
       " 465: 1,\n",
       " 466: 1,\n",
       " 467: 1,\n",
       " 468: 1,\n",
       " 469: 1,\n",
       " 470: 1,\n",
       " 471: 1,\n",
       " 472: 1,\n",
       " 473: 1,\n",
       " 476: 1,\n",
       " 477: 1,\n",
       " 478: 1,\n",
       " 479: 1,\n",
       " 480: 1,\n",
       " 481: 1,\n",
       " 482: 1,\n",
       " 483: 1,\n",
       " 484: 1,\n",
       " 485: 1,\n",
       " 486: 1,\n",
       " 487: 1,\n",
       " 488: 1,\n",
       " 489: 1,\n",
       " 491: 1,\n",
       " 492: 1,\n",
       " 493: 1,\n",
       " 494: 1,\n",
       " 495: 1,\n",
       " 496: 1,\n",
       " 497: 1,\n",
       " 498: 1,\n",
       " 499: 1,\n",
       " 500: 1,\n",
       " 501: 1,\n",
       " 502: 1,\n",
       " 503: 1,\n",
       " 504: 1,\n",
       " 505: 1,\n",
       " 506: 1,\n",
       " 507: 1,\n",
       " 509: 1,\n",
       " 510: 1,\n",
       " 511: 1,\n",
       " 512: 1,\n",
       " 513: 1,\n",
       " 514: 1,\n",
       " 515: 1,\n",
       " 516: 1,\n",
       " 517: 1,\n",
       " 518: 1,\n",
       " 519: 1,\n",
       " 520: 1,\n",
       " 521: 1,\n",
       " 522: 1,\n",
       " 523: 1,\n",
       " 524: 1,\n",
       " 525: 1,\n",
       " 527: 1,\n",
       " 528: 1,\n",
       " 529: 1,\n",
       " 530: 1,\n",
       " 531: 1,\n",
       " 532: 1,\n",
       " 533: 1,\n",
       " 534: 1,\n",
       " 535: 1,\n",
       " 536: 1,\n",
       " 538: 1,\n",
       " 539: 1,\n",
       " 540: 1,\n",
       " 541: 1,\n",
       " 542: 1,\n",
       " 543: 1,\n",
       " 544: 1,\n",
       " 545: 1,\n",
       " 546: 1,\n",
       " 547: 1,\n",
       " 548: 1,\n",
       " 549: 1,\n",
       " 550: 1,\n",
       " 551: 1,\n",
       " 553: 1,\n",
       " 554: 1,\n",
       " 555: 1,\n",
       " 556: 1,\n",
       " 557: 1,\n",
       " 558: 1,\n",
       " 559: 1,\n",
       " 560: 1,\n",
       " 561: 1,\n",
       " 562: 1,\n",
       " 563: 1,\n",
       " 564: 1,\n",
       " 565: 1,\n",
       " 566: 1,\n",
       " 567: 1,\n",
       " 568: 1,\n",
       " 569: 1,\n",
       " 570: 1,\n",
       " 571: 1,\n",
       " 572: 1,\n",
       " 574: 1,\n",
       " 575: 1,\n",
       " 576: 1,\n",
       " 577: 1,\n",
       " 578: 1,\n",
       " 579: 1,\n",
       " 580: 1,\n",
       " 581: 1,\n",
       " 582: 1,\n",
       " 583: 1,\n",
       " 584: 1,\n",
       " 585: 1,\n",
       " 586: 1,\n",
       " 588: 1,\n",
       " 589: 1,\n",
       " 590: 1,\n",
       " 591: 1,\n",
       " 592: 1,\n",
       " 593: 1,\n",
       " 594: 1,\n",
       " 596: 1,\n",
       " 597: 1,\n",
       " 598: 1,\n",
       " 599: 1,\n",
       " 600: 1,\n",
       " 601: 1,\n",
       " 602: 1,\n",
       " 603: 1,\n",
       " 604: 1,\n",
       " 605: 1,\n",
       " 606: 1,\n",
       " 607: 1,\n",
       " 608: 1,\n",
       " 609: 1,\n",
       " 611: 1,\n",
       " 612: 1,\n",
       " 613: 1,\n",
       " 614: 1,\n",
       " 615: 1,\n",
       " 616: 1,\n",
       " 617: 1,\n",
       " 618: 1,\n",
       " 619: 1,\n",
       " 620: 1,\n",
       " 621: 1,\n",
       " 622: 1,\n",
       " 623: 1,\n",
       " 624: 1,\n",
       " 625: 1,\n",
       " 626: 1,\n",
       " 627: 1,\n",
       " 628: 1,\n",
       " 629: 1,\n",
       " 630: 1,\n",
       " 631: 1,\n",
       " 632: 1,\n",
       " 634: 1,\n",
       " 635: 1,\n",
       " 636: 1,\n",
       " 637: 1,\n",
       " 638: 1,\n",
       " 639: 1,\n",
       " 640: 1,\n",
       " 641: 1,\n",
       " 642: 1,\n",
       " 643: 1,\n",
       " 644: 1,\n",
       " 645: 1,\n",
       " 646: 1,\n",
       " 647: 1,\n",
       " 648: 1,\n",
       " 649: 1,\n",
       " 650: 1,\n",
       " 651: 1,\n",
       " 652: 1,\n",
       " 653: 1,\n",
       " 654: 1,\n",
       " 655: 1,\n",
       " 656: 1,\n",
       " 657: 1,\n",
       " 658: 1,\n",
       " 659: 1,\n",
       " 660: 1,\n",
       " 661: 1,\n",
       " 662: 1,\n",
       " 663: 1,\n",
       " 664: 1,\n",
       " 665: 1,\n",
       " 666: 1,\n",
       " 667: 1,\n",
       " 668: 1,\n",
       " 669: 1,\n",
       " 670: 1,\n",
       " 671: 1,\n",
       " 672: 1,\n",
       " 673: 1,\n",
       " 675: 1,\n",
       " 676: 1,\n",
       " 677: 1,\n",
       " 678: 1,\n",
       " 679: 1,\n",
       " 680: 1,\n",
       " 681: 1,\n",
       " 682: 1,\n",
       " 683: 1,\n",
       " 684: 1,\n",
       " 685: 1,\n",
       " 686: 1,\n",
       " 687: 1,\n",
       " 688: 1,\n",
       " 689: 1,\n",
       " 690: 1,\n",
       " 691: 1,\n",
       " 692: 1,\n",
       " 693: 1,\n",
       " 694: 1,\n",
       " 696: 1}"
      ]
     },
     "execution_count": 56,
     "metadata": {},
     "output_type": "execute_result"
    }
   ],
   "source": [
    "significant_degrees"
   ]
  }
 ],
 "metadata": {
  "colab": {
   "authorship_tag": "ABX9TyPmmjzoL2jxVT9BJp+eVput",
   "include_colab_link": true,
   "provenance": []
  },
  "kernelspec": {
   "display_name": "Python 3 (ipykernel)",
   "language": "python",
   "name": "python3"
  },
  "language_info": {
   "codemirror_mode": {
    "name": "ipython",
    "version": 3
   },
   "file_extension": ".py",
   "mimetype": "text/x-python",
   "name": "python",
   "nbconvert_exporter": "python",
   "pygments_lexer": "ipython3",
   "version": "3.11.4"
  }
 },
 "nbformat": 4,
 "nbformat_minor": 4
}
