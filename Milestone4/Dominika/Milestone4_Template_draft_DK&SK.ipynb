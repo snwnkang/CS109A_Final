{
  "cells": [
    {
      "cell_type": "markdown",
      "metadata": {
        "id": "view-in-github"
      },
      "source": [
        "<a href=\"https://colab.research.google.com/github/snwnkang/CS109A_Final/blob/main/Milestone4_Template.ipynb\" target=\"_parent\"><img src=\"https://colab.research.google.com/assets/colab-badge.svg\" alt=\"Open In Colab\"/></a>"
      ]
    },
    {
      "cell_type": "code",
      "execution_count": 1,
      "metadata": {
        "id": "MU9kyTMkQlo_",
        "tags": []
      },
      "outputs": [],
      "source": [
        "import sys\n",
        "import numpy as np\n",
        "import scipy as sp\n",
        "import pandas as pd\n",
        "import sklearn as sk\n",
        "import matplotlib.pyplot as plt\n",
        "from sklearn.model_selection import train_test_split, GridSearchCV\n",
        "from sklearn.tree import DecisionTreeClassifier, DecisionTreeRegressor\n",
        "from sklearn.linear_model import LinearRegression, Lasso,  RidgeCV, LassoCV, LogisticRegressionCV\n",
        "from sklearn.ensemble import AdaBoostClassifier, GradientBoostingRegressor, RandomForestClassifier, RandomForestRegressor\n",
        "from sklearn.metrics import accuracy_score, f1_score, r2_score, mean_squared_error\n",
        "from sklearn import datasets\n",
        "from sklearn.preprocessing import StandardScaler\n",
        "from sklearn.preprocessing import PolynomialFeatures\n",
        "\n",
        "import time\n",
        "\n",
        "from warnings import simplefilter\n",
        "simplefilter('ignore', category=UserWarning) # ignore 'fit without feature names' warning\n",
        "simplefilter('ignore', category=FutureWarning) # ignore XGBoost warning about is_categorical_dtype"
      ]
    },
    {
      "cell_type": "markdown",
      "metadata": {
        "id": "-oACdMc3THKu"
      },
      "source": [
        "<h1>Data Importing<h1>\n",
        "<ul>\n",
        "<li>full_df contains everything, including the one-hot-encoded/labeled variables and the response all together\n",
        "<li>pred contains only the predictors\n",
        "<li>resp contains the response variable Operational Energy\n",
        "<ul>\n",
        "<p>The steps below are to roughly prepare the data for usage, getting rid of the index columns and verifying the data is correct<p>"
      ]
    },
    {
      "cell_type": "code",
      "execution_count": 2,
      "metadata": {
        "id": "y4TGT2EhTFTf",
        "tags": []
      },
      "outputs": [],
      "source": [
        "full_df = pd.read_csv(\"https://raw.githubusercontent.com/snwnkang/CS109A_Final/main/data/Milestone4_data/Full_data.csv\")\n",
        "pred = pd.read_csv(\"https://raw.githubusercontent.com/snwnkang/CS109A_Final/main/data/Milestone4_data/Predictors_data.csv\")\n",
        "resp = pd.read_csv(\"https://raw.githubusercontent.com/snwnkang/CS109A_Final/main/data/Milestone4_data/Response_data.csv\")"
      ]
    },
    {
      "cell_type": "code",
      "execution_count": 3,
      "metadata": {
        "id": "G0Bz1FH6TrSj",
        "tags": []
      },
      "outputs": [],
      "source": [
        "#Dropping index columns\n",
        "full_df = full_df.drop('Unnamed: 0', axis=1)\n",
        "pred = pred.drop('Unnamed: 0', axis=1)\n",
        "resp = resp.drop('Unnamed: 0', axis=1)"
      ]
    },
    {
      "cell_type": "code",
      "execution_count": 4,
      "metadata": {
        "colab": {
          "base_uri": "https://localhost:8080/",
          "height": 236
        },
        "id": "padcDndoTaIV",
        "outputId": "46c30db8-fa3e-4513-f8c9-b134e86eb34a",
        "tags": []
      },
      "outputs": [
        {
          "output_type": "execute_result",
          "data": {
            "text/plain": [
              "   Orientation  nonMassWallR [m^2-K/W]  MassWallR [m^2-K/W]  RoofR [m^2-K/W]  \\\n",
              "0          348                    2.88                 0.00             8.38   \n",
              "1           96                    3.58                 0.00            10.49   \n",
              "2          182                    2.21                 0.00             5.52   \n",
              "3          359                    0.00                 2.03             5.52   \n",
              "4          317                    2.02                 0.00             4.40   \n",
              "\n",
              "   ExteriorFloorR [m^2-K/W]  WWRnorth  WWRwest  WWRsouth  WWReast  SHGC  ...  \\\n",
              "0                      5.38      0.23     0.11      0.58     0.15  0.36  ...   \n",
              "1                      6.61      0.32     0.24      0.28     0.48  0.40  ...   \n",
              "2                      3.43      0.38     0.37      0.56     0.13  0.38  ...   \n",
              "3                      3.08      0.42     0.38      0.37     0.49  0.38  ...   \n",
              "4                      4.68      0.90     0.90      0.90     0.90  0.25  ...   \n",
              "\n",
              "   Midrise Apartment  Retail  Secondary School  Supermarket  Warehouse  Mass  \\\n",
              "0                  0       1                 0            0          0     0   \n",
              "1                  0       1                 0            0          0     0   \n",
              "2                  0       0                 0            0          0     1   \n",
              "3                  1       0                 0            0          0     1   \n",
              "4                  0       0                 0            0          0     0   \n",
              "\n",
              "   Steel framed  Wood framed  Metal          OE  \n",
              "0             0            0      1  141.615293  \n",
              "1             0            0      1  127.674846  \n",
              "2             0            0      0  255.768779  \n",
              "3             0            0      0  126.355396  \n",
              "4             1            0      0  124.733609  \n",
              "\n",
              "[5 rows x 35 columns]"
            ],
            "text/html": [
              "\n",
              "  <div id=\"df-c29e5dce-8d3c-4a53-9d01-2a1cd38d8200\" class=\"colab-df-container\">\n",
              "    <div>\n",
              "<style scoped>\n",
              "    .dataframe tbody tr th:only-of-type {\n",
              "        vertical-align: middle;\n",
              "    }\n",
              "\n",
              "    .dataframe tbody tr th {\n",
              "        vertical-align: top;\n",
              "    }\n",
              "\n",
              "    .dataframe thead th {\n",
              "        text-align: right;\n",
              "    }\n",
              "</style>\n",
              "<table border=\"1\" class=\"dataframe\">\n",
              "  <thead>\n",
              "    <tr style=\"text-align: right;\">\n",
              "      <th></th>\n",
              "      <th>Orientation</th>\n",
              "      <th>nonMassWallR [m^2-K/W]</th>\n",
              "      <th>MassWallR [m^2-K/W]</th>\n",
              "      <th>RoofR [m^2-K/W]</th>\n",
              "      <th>ExteriorFloorR [m^2-K/W]</th>\n",
              "      <th>WWRnorth</th>\n",
              "      <th>WWRwest</th>\n",
              "      <th>WWRsouth</th>\n",
              "      <th>WWReast</th>\n",
              "      <th>SHGC</th>\n",
              "      <th>...</th>\n",
              "      <th>Midrise Apartment</th>\n",
              "      <th>Retail</th>\n",
              "      <th>Secondary School</th>\n",
              "      <th>Supermarket</th>\n",
              "      <th>Warehouse</th>\n",
              "      <th>Mass</th>\n",
              "      <th>Steel framed</th>\n",
              "      <th>Wood framed</th>\n",
              "      <th>Metal</th>\n",
              "      <th>OE</th>\n",
              "    </tr>\n",
              "  </thead>\n",
              "  <tbody>\n",
              "    <tr>\n",
              "      <th>0</th>\n",
              "      <td>348</td>\n",
              "      <td>2.88</td>\n",
              "      <td>0.00</td>\n",
              "      <td>8.38</td>\n",
              "      <td>5.38</td>\n",
              "      <td>0.23</td>\n",
              "      <td>0.11</td>\n",
              "      <td>0.58</td>\n",
              "      <td>0.15</td>\n",
              "      <td>0.36</td>\n",
              "      <td>...</td>\n",
              "      <td>0</td>\n",
              "      <td>1</td>\n",
              "      <td>0</td>\n",
              "      <td>0</td>\n",
              "      <td>0</td>\n",
              "      <td>0</td>\n",
              "      <td>0</td>\n",
              "      <td>0</td>\n",
              "      <td>1</td>\n",
              "      <td>141.615293</td>\n",
              "    </tr>\n",
              "    <tr>\n",
              "      <th>1</th>\n",
              "      <td>96</td>\n",
              "      <td>3.58</td>\n",
              "      <td>0.00</td>\n",
              "      <td>10.49</td>\n",
              "      <td>6.61</td>\n",
              "      <td>0.32</td>\n",
              "      <td>0.24</td>\n",
              "      <td>0.28</td>\n",
              "      <td>0.48</td>\n",
              "      <td>0.40</td>\n",
              "      <td>...</td>\n",
              "      <td>0</td>\n",
              "      <td>1</td>\n",
              "      <td>0</td>\n",
              "      <td>0</td>\n",
              "      <td>0</td>\n",
              "      <td>0</td>\n",
              "      <td>0</td>\n",
              "      <td>0</td>\n",
              "      <td>1</td>\n",
              "      <td>127.674846</td>\n",
              "    </tr>\n",
              "    <tr>\n",
              "      <th>2</th>\n",
              "      <td>182</td>\n",
              "      <td>2.21</td>\n",
              "      <td>0.00</td>\n",
              "      <td>5.52</td>\n",
              "      <td>3.43</td>\n",
              "      <td>0.38</td>\n",
              "      <td>0.37</td>\n",
              "      <td>0.56</td>\n",
              "      <td>0.13</td>\n",
              "      <td>0.38</td>\n",
              "      <td>...</td>\n",
              "      <td>0</td>\n",
              "      <td>0</td>\n",
              "      <td>0</td>\n",
              "      <td>0</td>\n",
              "      <td>0</td>\n",
              "      <td>1</td>\n",
              "      <td>0</td>\n",
              "      <td>0</td>\n",
              "      <td>0</td>\n",
              "      <td>255.768779</td>\n",
              "    </tr>\n",
              "    <tr>\n",
              "      <th>3</th>\n",
              "      <td>359</td>\n",
              "      <td>0.00</td>\n",
              "      <td>2.03</td>\n",
              "      <td>5.52</td>\n",
              "      <td>3.08</td>\n",
              "      <td>0.42</td>\n",
              "      <td>0.38</td>\n",
              "      <td>0.37</td>\n",
              "      <td>0.49</td>\n",
              "      <td>0.38</td>\n",
              "      <td>...</td>\n",
              "      <td>1</td>\n",
              "      <td>0</td>\n",
              "      <td>0</td>\n",
              "      <td>0</td>\n",
              "      <td>0</td>\n",
              "      <td>1</td>\n",
              "      <td>0</td>\n",
              "      <td>0</td>\n",
              "      <td>0</td>\n",
              "      <td>126.355396</td>\n",
              "    </tr>\n",
              "    <tr>\n",
              "      <th>4</th>\n",
              "      <td>317</td>\n",
              "      <td>2.02</td>\n",
              "      <td>0.00</td>\n",
              "      <td>4.40</td>\n",
              "      <td>4.68</td>\n",
              "      <td>0.90</td>\n",
              "      <td>0.90</td>\n",
              "      <td>0.90</td>\n",
              "      <td>0.90</td>\n",
              "      <td>0.25</td>\n",
              "      <td>...</td>\n",
              "      <td>0</td>\n",
              "      <td>0</td>\n",
              "      <td>0</td>\n",
              "      <td>0</td>\n",
              "      <td>0</td>\n",
              "      <td>0</td>\n",
              "      <td>1</td>\n",
              "      <td>0</td>\n",
              "      <td>0</td>\n",
              "      <td>124.733609</td>\n",
              "    </tr>\n",
              "  </tbody>\n",
              "</table>\n",
              "<p>5 rows × 35 columns</p>\n",
              "</div>\n",
              "    <div class=\"colab-df-buttons\">\n",
              "\n",
              "  <div class=\"colab-df-container\">\n",
              "    <button class=\"colab-df-convert\" onclick=\"convertToInteractive('df-c29e5dce-8d3c-4a53-9d01-2a1cd38d8200')\"\n",
              "            title=\"Convert this dataframe to an interactive table.\"\n",
              "            style=\"display:none;\">\n",
              "\n",
              "  <svg xmlns=\"http://www.w3.org/2000/svg\" height=\"24px\" viewBox=\"0 -960 960 960\">\n",
              "    <path d=\"M120-120v-720h720v720H120Zm60-500h600v-160H180v160Zm220 220h160v-160H400v160Zm0 220h160v-160H400v160ZM180-400h160v-160H180v160Zm440 0h160v-160H620v160ZM180-180h160v-160H180v160Zm440 0h160v-160H620v160Z\"/>\n",
              "  </svg>\n",
              "    </button>\n",
              "\n",
              "  <style>\n",
              "    .colab-df-container {\n",
              "      display:flex;\n",
              "      gap: 12px;\n",
              "    }\n",
              "\n",
              "    .colab-df-convert {\n",
              "      background-color: #E8F0FE;\n",
              "      border: none;\n",
              "      border-radius: 50%;\n",
              "      cursor: pointer;\n",
              "      display: none;\n",
              "      fill: #1967D2;\n",
              "      height: 32px;\n",
              "      padding: 0 0 0 0;\n",
              "      width: 32px;\n",
              "    }\n",
              "\n",
              "    .colab-df-convert:hover {\n",
              "      background-color: #E2EBFA;\n",
              "      box-shadow: 0px 1px 2px rgba(60, 64, 67, 0.3), 0px 1px 3px 1px rgba(60, 64, 67, 0.15);\n",
              "      fill: #174EA6;\n",
              "    }\n",
              "\n",
              "    .colab-df-buttons div {\n",
              "      margin-bottom: 4px;\n",
              "    }\n",
              "\n",
              "    [theme=dark] .colab-df-convert {\n",
              "      background-color: #3B4455;\n",
              "      fill: #D2E3FC;\n",
              "    }\n",
              "\n",
              "    [theme=dark] .colab-df-convert:hover {\n",
              "      background-color: #434B5C;\n",
              "      box-shadow: 0px 1px 3px 1px rgba(0, 0, 0, 0.15);\n",
              "      filter: drop-shadow(0px 1px 2px rgba(0, 0, 0, 0.3));\n",
              "      fill: #FFFFFF;\n",
              "    }\n",
              "  </style>\n",
              "\n",
              "    <script>\n",
              "      const buttonEl =\n",
              "        document.querySelector('#df-c29e5dce-8d3c-4a53-9d01-2a1cd38d8200 button.colab-df-convert');\n",
              "      buttonEl.style.display =\n",
              "        google.colab.kernel.accessAllowed ? 'block' : 'none';\n",
              "\n",
              "      async function convertToInteractive(key) {\n",
              "        const element = document.querySelector('#df-c29e5dce-8d3c-4a53-9d01-2a1cd38d8200');\n",
              "        const dataTable =\n",
              "          await google.colab.kernel.invokeFunction('convertToInteractive',\n",
              "                                                    [key], {});\n",
              "        if (!dataTable) return;\n",
              "\n",
              "        const docLinkHtml = 'Like what you see? Visit the ' +\n",
              "          '<a target=\"_blank\" href=https://colab.research.google.com/notebooks/data_table.ipynb>data table notebook</a>'\n",
              "          + ' to learn more about interactive tables.';\n",
              "        element.innerHTML = '';\n",
              "        dataTable['output_type'] = 'display_data';\n",
              "        await google.colab.output.renderOutput(dataTable, element);\n",
              "        const docLink = document.createElement('div');\n",
              "        docLink.innerHTML = docLinkHtml;\n",
              "        element.appendChild(docLink);\n",
              "      }\n",
              "    </script>\n",
              "  </div>\n",
              "\n",
              "\n",
              "<div id=\"df-e72043fe-af89-472a-9894-0f8944534620\">\n",
              "  <button class=\"colab-df-quickchart\" onclick=\"quickchart('df-e72043fe-af89-472a-9894-0f8944534620')\"\n",
              "            title=\"Suggest charts\"\n",
              "            style=\"display:none;\">\n",
              "\n",
              "<svg xmlns=\"http://www.w3.org/2000/svg\" height=\"24px\"viewBox=\"0 0 24 24\"\n",
              "     width=\"24px\">\n",
              "    <g>\n",
              "        <path d=\"M19 3H5c-1.1 0-2 .9-2 2v14c0 1.1.9 2 2 2h14c1.1 0 2-.9 2-2V5c0-1.1-.9-2-2-2zM9 17H7v-7h2v7zm4 0h-2V7h2v10zm4 0h-2v-4h2v4z\"/>\n",
              "    </g>\n",
              "</svg>\n",
              "  </button>\n",
              "\n",
              "<style>\n",
              "  .colab-df-quickchart {\n",
              "      --bg-color: #E8F0FE;\n",
              "      --fill-color: #1967D2;\n",
              "      --hover-bg-color: #E2EBFA;\n",
              "      --hover-fill-color: #174EA6;\n",
              "      --disabled-fill-color: #AAA;\n",
              "      --disabled-bg-color: #DDD;\n",
              "  }\n",
              "\n",
              "  [theme=dark] .colab-df-quickchart {\n",
              "      --bg-color: #3B4455;\n",
              "      --fill-color: #D2E3FC;\n",
              "      --hover-bg-color: #434B5C;\n",
              "      --hover-fill-color: #FFFFFF;\n",
              "      --disabled-bg-color: #3B4455;\n",
              "      --disabled-fill-color: #666;\n",
              "  }\n",
              "\n",
              "  .colab-df-quickchart {\n",
              "    background-color: var(--bg-color);\n",
              "    border: none;\n",
              "    border-radius: 50%;\n",
              "    cursor: pointer;\n",
              "    display: none;\n",
              "    fill: var(--fill-color);\n",
              "    height: 32px;\n",
              "    padding: 0;\n",
              "    width: 32px;\n",
              "  }\n",
              "\n",
              "  .colab-df-quickchart:hover {\n",
              "    background-color: var(--hover-bg-color);\n",
              "    box-shadow: 0 1px 2px rgba(60, 64, 67, 0.3), 0 1px 3px 1px rgba(60, 64, 67, 0.15);\n",
              "    fill: var(--button-hover-fill-color);\n",
              "  }\n",
              "\n",
              "  .colab-df-quickchart-complete:disabled,\n",
              "  .colab-df-quickchart-complete:disabled:hover {\n",
              "    background-color: var(--disabled-bg-color);\n",
              "    fill: var(--disabled-fill-color);\n",
              "    box-shadow: none;\n",
              "  }\n",
              "\n",
              "  .colab-df-spinner {\n",
              "    border: 2px solid var(--fill-color);\n",
              "    border-color: transparent;\n",
              "    border-bottom-color: var(--fill-color);\n",
              "    animation:\n",
              "      spin 1s steps(1) infinite;\n",
              "  }\n",
              "\n",
              "  @keyframes spin {\n",
              "    0% {\n",
              "      border-color: transparent;\n",
              "      border-bottom-color: var(--fill-color);\n",
              "      border-left-color: var(--fill-color);\n",
              "    }\n",
              "    20% {\n",
              "      border-color: transparent;\n",
              "      border-left-color: var(--fill-color);\n",
              "      border-top-color: var(--fill-color);\n",
              "    }\n",
              "    30% {\n",
              "      border-color: transparent;\n",
              "      border-left-color: var(--fill-color);\n",
              "      border-top-color: var(--fill-color);\n",
              "      border-right-color: var(--fill-color);\n",
              "    }\n",
              "    40% {\n",
              "      border-color: transparent;\n",
              "      border-right-color: var(--fill-color);\n",
              "      border-top-color: var(--fill-color);\n",
              "    }\n",
              "    60% {\n",
              "      border-color: transparent;\n",
              "      border-right-color: var(--fill-color);\n",
              "    }\n",
              "    80% {\n",
              "      border-color: transparent;\n",
              "      border-right-color: var(--fill-color);\n",
              "      border-bottom-color: var(--fill-color);\n",
              "    }\n",
              "    90% {\n",
              "      border-color: transparent;\n",
              "      border-bottom-color: var(--fill-color);\n",
              "    }\n",
              "  }\n",
              "</style>\n",
              "\n",
              "  <script>\n",
              "    async function quickchart(key) {\n",
              "      const quickchartButtonEl =\n",
              "        document.querySelector('#' + key + ' button');\n",
              "      quickchartButtonEl.disabled = true;  // To prevent multiple clicks.\n",
              "      quickchartButtonEl.classList.add('colab-df-spinner');\n",
              "      try {\n",
              "        const charts = await google.colab.kernel.invokeFunction(\n",
              "            'suggestCharts', [key], {});\n",
              "      } catch (error) {\n",
              "        console.error('Error during call to suggestCharts:', error);\n",
              "      }\n",
              "      quickchartButtonEl.classList.remove('colab-df-spinner');\n",
              "      quickchartButtonEl.classList.add('colab-df-quickchart-complete');\n",
              "    }\n",
              "    (() => {\n",
              "      let quickchartButtonEl =\n",
              "        document.querySelector('#df-e72043fe-af89-472a-9894-0f8944534620 button');\n",
              "      quickchartButtonEl.style.display =\n",
              "        google.colab.kernel.accessAllowed ? 'block' : 'none';\n",
              "    })();\n",
              "  </script>\n",
              "</div>\n",
              "    </div>\n",
              "  </div>\n"
            ]
          },
          "metadata": {},
          "execution_count": 4
        }
      ],
      "source": [
        "full_df.head(5)"
      ]
    },
    {
      "cell_type": "code",
      "execution_count": 5,
      "metadata": {
        "colab": {
          "base_uri": "https://localhost:8080/",
          "height": 236
        },
        "id": "Z476zgPpTeZq",
        "outputId": "d1d519eb-7c81-4a32-c3f7-c9041db10a67",
        "tags": []
      },
      "outputs": [
        {
          "output_type": "execute_result",
          "data": {
            "text/plain": [
              "   Orientation  nonMassWallR [m^2-K/W]  MassWallR [m^2-K/W]  RoofR [m^2-K/W]  \\\n",
              "0          348                    2.88                 0.00             8.38   \n",
              "1           96                    3.58                 0.00            10.49   \n",
              "2          182                    2.21                 0.00             5.52   \n",
              "3          359                    0.00                 2.03             5.52   \n",
              "4          317                    2.02                 0.00             4.40   \n",
              "\n",
              "   ExteriorFloorR [m^2-K/W]  WWRnorth  WWRwest  WWRsouth  WWReast  SHGC  ...  \\\n",
              "0                      5.38      0.23     0.11      0.58     0.15  0.36  ...   \n",
              "1                      6.61      0.32     0.24      0.28     0.48  0.40  ...   \n",
              "2                      3.43      0.38     0.37      0.56     0.13  0.38  ...   \n",
              "3                      3.08      0.42     0.38      0.37     0.49  0.38  ...   \n",
              "4                      4.68      0.90     0.90      0.90     0.90  0.25  ...   \n",
              "\n",
              "   Medium Office  Midrise Apartment  Retail  Secondary School  Supermarket  \\\n",
              "0              0                  0       1                 0            0   \n",
              "1              0                  0       1                 0            0   \n",
              "2              0                  0       0                 0            0   \n",
              "3              0                  1       0                 0            0   \n",
              "4              1                  0       0                 0            0   \n",
              "\n",
              "   Warehouse  Mass  Steel framed  Wood framed  Metal  \n",
              "0          0     0             0            0      1  \n",
              "1          0     0             0            0      1  \n",
              "2          0     1             0            0      0  \n",
              "3          0     1             0            0      0  \n",
              "4          0     0             1            0      0  \n",
              "\n",
              "[5 rows x 34 columns]"
            ],
            "text/html": [
              "\n",
              "  <div id=\"df-dcaa8ea8-07ef-4e14-ad6c-2be216e54933\" class=\"colab-df-container\">\n",
              "    <div>\n",
              "<style scoped>\n",
              "    .dataframe tbody tr th:only-of-type {\n",
              "        vertical-align: middle;\n",
              "    }\n",
              "\n",
              "    .dataframe tbody tr th {\n",
              "        vertical-align: top;\n",
              "    }\n",
              "\n",
              "    .dataframe thead th {\n",
              "        text-align: right;\n",
              "    }\n",
              "</style>\n",
              "<table border=\"1\" class=\"dataframe\">\n",
              "  <thead>\n",
              "    <tr style=\"text-align: right;\">\n",
              "      <th></th>\n",
              "      <th>Orientation</th>\n",
              "      <th>nonMassWallR [m^2-K/W]</th>\n",
              "      <th>MassWallR [m^2-K/W]</th>\n",
              "      <th>RoofR [m^2-K/W]</th>\n",
              "      <th>ExteriorFloorR [m^2-K/W]</th>\n",
              "      <th>WWRnorth</th>\n",
              "      <th>WWRwest</th>\n",
              "      <th>WWRsouth</th>\n",
              "      <th>WWReast</th>\n",
              "      <th>SHGC</th>\n",
              "      <th>...</th>\n",
              "      <th>Medium Office</th>\n",
              "      <th>Midrise Apartment</th>\n",
              "      <th>Retail</th>\n",
              "      <th>Secondary School</th>\n",
              "      <th>Supermarket</th>\n",
              "      <th>Warehouse</th>\n",
              "      <th>Mass</th>\n",
              "      <th>Steel framed</th>\n",
              "      <th>Wood framed</th>\n",
              "      <th>Metal</th>\n",
              "    </tr>\n",
              "  </thead>\n",
              "  <tbody>\n",
              "    <tr>\n",
              "      <th>0</th>\n",
              "      <td>348</td>\n",
              "      <td>2.88</td>\n",
              "      <td>0.00</td>\n",
              "      <td>8.38</td>\n",
              "      <td>5.38</td>\n",
              "      <td>0.23</td>\n",
              "      <td>0.11</td>\n",
              "      <td>0.58</td>\n",
              "      <td>0.15</td>\n",
              "      <td>0.36</td>\n",
              "      <td>...</td>\n",
              "      <td>0</td>\n",
              "      <td>0</td>\n",
              "      <td>1</td>\n",
              "      <td>0</td>\n",
              "      <td>0</td>\n",
              "      <td>0</td>\n",
              "      <td>0</td>\n",
              "      <td>0</td>\n",
              "      <td>0</td>\n",
              "      <td>1</td>\n",
              "    </tr>\n",
              "    <tr>\n",
              "      <th>1</th>\n",
              "      <td>96</td>\n",
              "      <td>3.58</td>\n",
              "      <td>0.00</td>\n",
              "      <td>10.49</td>\n",
              "      <td>6.61</td>\n",
              "      <td>0.32</td>\n",
              "      <td>0.24</td>\n",
              "      <td>0.28</td>\n",
              "      <td>0.48</td>\n",
              "      <td>0.40</td>\n",
              "      <td>...</td>\n",
              "      <td>0</td>\n",
              "      <td>0</td>\n",
              "      <td>1</td>\n",
              "      <td>0</td>\n",
              "      <td>0</td>\n",
              "      <td>0</td>\n",
              "      <td>0</td>\n",
              "      <td>0</td>\n",
              "      <td>0</td>\n",
              "      <td>1</td>\n",
              "    </tr>\n",
              "    <tr>\n",
              "      <th>2</th>\n",
              "      <td>182</td>\n",
              "      <td>2.21</td>\n",
              "      <td>0.00</td>\n",
              "      <td>5.52</td>\n",
              "      <td>3.43</td>\n",
              "      <td>0.38</td>\n",
              "      <td>0.37</td>\n",
              "      <td>0.56</td>\n",
              "      <td>0.13</td>\n",
              "      <td>0.38</td>\n",
              "      <td>...</td>\n",
              "      <td>0</td>\n",
              "      <td>0</td>\n",
              "      <td>0</td>\n",
              "      <td>0</td>\n",
              "      <td>0</td>\n",
              "      <td>0</td>\n",
              "      <td>1</td>\n",
              "      <td>0</td>\n",
              "      <td>0</td>\n",
              "      <td>0</td>\n",
              "    </tr>\n",
              "    <tr>\n",
              "      <th>3</th>\n",
              "      <td>359</td>\n",
              "      <td>0.00</td>\n",
              "      <td>2.03</td>\n",
              "      <td>5.52</td>\n",
              "      <td>3.08</td>\n",
              "      <td>0.42</td>\n",
              "      <td>0.38</td>\n",
              "      <td>0.37</td>\n",
              "      <td>0.49</td>\n",
              "      <td>0.38</td>\n",
              "      <td>...</td>\n",
              "      <td>0</td>\n",
              "      <td>1</td>\n",
              "      <td>0</td>\n",
              "      <td>0</td>\n",
              "      <td>0</td>\n",
              "      <td>0</td>\n",
              "      <td>1</td>\n",
              "      <td>0</td>\n",
              "      <td>0</td>\n",
              "      <td>0</td>\n",
              "    </tr>\n",
              "    <tr>\n",
              "      <th>4</th>\n",
              "      <td>317</td>\n",
              "      <td>2.02</td>\n",
              "      <td>0.00</td>\n",
              "      <td>4.40</td>\n",
              "      <td>4.68</td>\n",
              "      <td>0.90</td>\n",
              "      <td>0.90</td>\n",
              "      <td>0.90</td>\n",
              "      <td>0.90</td>\n",
              "      <td>0.25</td>\n",
              "      <td>...</td>\n",
              "      <td>1</td>\n",
              "      <td>0</td>\n",
              "      <td>0</td>\n",
              "      <td>0</td>\n",
              "      <td>0</td>\n",
              "      <td>0</td>\n",
              "      <td>0</td>\n",
              "      <td>1</td>\n",
              "      <td>0</td>\n",
              "      <td>0</td>\n",
              "    </tr>\n",
              "  </tbody>\n",
              "</table>\n",
              "<p>5 rows × 34 columns</p>\n",
              "</div>\n",
              "    <div class=\"colab-df-buttons\">\n",
              "\n",
              "  <div class=\"colab-df-container\">\n",
              "    <button class=\"colab-df-convert\" onclick=\"convertToInteractive('df-dcaa8ea8-07ef-4e14-ad6c-2be216e54933')\"\n",
              "            title=\"Convert this dataframe to an interactive table.\"\n",
              "            style=\"display:none;\">\n",
              "\n",
              "  <svg xmlns=\"http://www.w3.org/2000/svg\" height=\"24px\" viewBox=\"0 -960 960 960\">\n",
              "    <path d=\"M120-120v-720h720v720H120Zm60-500h600v-160H180v160Zm220 220h160v-160H400v160Zm0 220h160v-160H400v160ZM180-400h160v-160H180v160Zm440 0h160v-160H620v160ZM180-180h160v-160H180v160Zm440 0h160v-160H620v160Z\"/>\n",
              "  </svg>\n",
              "    </button>\n",
              "\n",
              "  <style>\n",
              "    .colab-df-container {\n",
              "      display:flex;\n",
              "      gap: 12px;\n",
              "    }\n",
              "\n",
              "    .colab-df-convert {\n",
              "      background-color: #E8F0FE;\n",
              "      border: none;\n",
              "      border-radius: 50%;\n",
              "      cursor: pointer;\n",
              "      display: none;\n",
              "      fill: #1967D2;\n",
              "      height: 32px;\n",
              "      padding: 0 0 0 0;\n",
              "      width: 32px;\n",
              "    }\n",
              "\n",
              "    .colab-df-convert:hover {\n",
              "      background-color: #E2EBFA;\n",
              "      box-shadow: 0px 1px 2px rgba(60, 64, 67, 0.3), 0px 1px 3px 1px rgba(60, 64, 67, 0.15);\n",
              "      fill: #174EA6;\n",
              "    }\n",
              "\n",
              "    .colab-df-buttons div {\n",
              "      margin-bottom: 4px;\n",
              "    }\n",
              "\n",
              "    [theme=dark] .colab-df-convert {\n",
              "      background-color: #3B4455;\n",
              "      fill: #D2E3FC;\n",
              "    }\n",
              "\n",
              "    [theme=dark] .colab-df-convert:hover {\n",
              "      background-color: #434B5C;\n",
              "      box-shadow: 0px 1px 3px 1px rgba(0, 0, 0, 0.15);\n",
              "      filter: drop-shadow(0px 1px 2px rgba(0, 0, 0, 0.3));\n",
              "      fill: #FFFFFF;\n",
              "    }\n",
              "  </style>\n",
              "\n",
              "    <script>\n",
              "      const buttonEl =\n",
              "        document.querySelector('#df-dcaa8ea8-07ef-4e14-ad6c-2be216e54933 button.colab-df-convert');\n",
              "      buttonEl.style.display =\n",
              "        google.colab.kernel.accessAllowed ? 'block' : 'none';\n",
              "\n",
              "      async function convertToInteractive(key) {\n",
              "        const element = document.querySelector('#df-dcaa8ea8-07ef-4e14-ad6c-2be216e54933');\n",
              "        const dataTable =\n",
              "          await google.colab.kernel.invokeFunction('convertToInteractive',\n",
              "                                                    [key], {});\n",
              "        if (!dataTable) return;\n",
              "\n",
              "        const docLinkHtml = 'Like what you see? Visit the ' +\n",
              "          '<a target=\"_blank\" href=https://colab.research.google.com/notebooks/data_table.ipynb>data table notebook</a>'\n",
              "          + ' to learn more about interactive tables.';\n",
              "        element.innerHTML = '';\n",
              "        dataTable['output_type'] = 'display_data';\n",
              "        await google.colab.output.renderOutput(dataTable, element);\n",
              "        const docLink = document.createElement('div');\n",
              "        docLink.innerHTML = docLinkHtml;\n",
              "        element.appendChild(docLink);\n",
              "      }\n",
              "    </script>\n",
              "  </div>\n",
              "\n",
              "\n",
              "<div id=\"df-f8543c5b-27d3-47fe-978b-204d5a983a95\">\n",
              "  <button class=\"colab-df-quickchart\" onclick=\"quickchart('df-f8543c5b-27d3-47fe-978b-204d5a983a95')\"\n",
              "            title=\"Suggest charts\"\n",
              "            style=\"display:none;\">\n",
              "\n",
              "<svg xmlns=\"http://www.w3.org/2000/svg\" height=\"24px\"viewBox=\"0 0 24 24\"\n",
              "     width=\"24px\">\n",
              "    <g>\n",
              "        <path d=\"M19 3H5c-1.1 0-2 .9-2 2v14c0 1.1.9 2 2 2h14c1.1 0 2-.9 2-2V5c0-1.1-.9-2-2-2zM9 17H7v-7h2v7zm4 0h-2V7h2v10zm4 0h-2v-4h2v4z\"/>\n",
              "    </g>\n",
              "</svg>\n",
              "  </button>\n",
              "\n",
              "<style>\n",
              "  .colab-df-quickchart {\n",
              "      --bg-color: #E8F0FE;\n",
              "      --fill-color: #1967D2;\n",
              "      --hover-bg-color: #E2EBFA;\n",
              "      --hover-fill-color: #174EA6;\n",
              "      --disabled-fill-color: #AAA;\n",
              "      --disabled-bg-color: #DDD;\n",
              "  }\n",
              "\n",
              "  [theme=dark] .colab-df-quickchart {\n",
              "      --bg-color: #3B4455;\n",
              "      --fill-color: #D2E3FC;\n",
              "      --hover-bg-color: #434B5C;\n",
              "      --hover-fill-color: #FFFFFF;\n",
              "      --disabled-bg-color: #3B4455;\n",
              "      --disabled-fill-color: #666;\n",
              "  }\n",
              "\n",
              "  .colab-df-quickchart {\n",
              "    background-color: var(--bg-color);\n",
              "    border: none;\n",
              "    border-radius: 50%;\n",
              "    cursor: pointer;\n",
              "    display: none;\n",
              "    fill: var(--fill-color);\n",
              "    height: 32px;\n",
              "    padding: 0;\n",
              "    width: 32px;\n",
              "  }\n",
              "\n",
              "  .colab-df-quickchart:hover {\n",
              "    background-color: var(--hover-bg-color);\n",
              "    box-shadow: 0 1px 2px rgba(60, 64, 67, 0.3), 0 1px 3px 1px rgba(60, 64, 67, 0.15);\n",
              "    fill: var(--button-hover-fill-color);\n",
              "  }\n",
              "\n",
              "  .colab-df-quickchart-complete:disabled,\n",
              "  .colab-df-quickchart-complete:disabled:hover {\n",
              "    background-color: var(--disabled-bg-color);\n",
              "    fill: var(--disabled-fill-color);\n",
              "    box-shadow: none;\n",
              "  }\n",
              "\n",
              "  .colab-df-spinner {\n",
              "    border: 2px solid var(--fill-color);\n",
              "    border-color: transparent;\n",
              "    border-bottom-color: var(--fill-color);\n",
              "    animation:\n",
              "      spin 1s steps(1) infinite;\n",
              "  }\n",
              "\n",
              "  @keyframes spin {\n",
              "    0% {\n",
              "      border-color: transparent;\n",
              "      border-bottom-color: var(--fill-color);\n",
              "      border-left-color: var(--fill-color);\n",
              "    }\n",
              "    20% {\n",
              "      border-color: transparent;\n",
              "      border-left-color: var(--fill-color);\n",
              "      border-top-color: var(--fill-color);\n",
              "    }\n",
              "    30% {\n",
              "      border-color: transparent;\n",
              "      border-left-color: var(--fill-color);\n",
              "      border-top-color: var(--fill-color);\n",
              "      border-right-color: var(--fill-color);\n",
              "    }\n",
              "    40% {\n",
              "      border-color: transparent;\n",
              "      border-right-color: var(--fill-color);\n",
              "      border-top-color: var(--fill-color);\n",
              "    }\n",
              "    60% {\n",
              "      border-color: transparent;\n",
              "      border-right-color: var(--fill-color);\n",
              "    }\n",
              "    80% {\n",
              "      border-color: transparent;\n",
              "      border-right-color: var(--fill-color);\n",
              "      border-bottom-color: var(--fill-color);\n",
              "    }\n",
              "    90% {\n",
              "      border-color: transparent;\n",
              "      border-bottom-color: var(--fill-color);\n",
              "    }\n",
              "  }\n",
              "</style>\n",
              "\n",
              "  <script>\n",
              "    async function quickchart(key) {\n",
              "      const quickchartButtonEl =\n",
              "        document.querySelector('#' + key + ' button');\n",
              "      quickchartButtonEl.disabled = true;  // To prevent multiple clicks.\n",
              "      quickchartButtonEl.classList.add('colab-df-spinner');\n",
              "      try {\n",
              "        const charts = await google.colab.kernel.invokeFunction(\n",
              "            'suggestCharts', [key], {});\n",
              "      } catch (error) {\n",
              "        console.error('Error during call to suggestCharts:', error);\n",
              "      }\n",
              "      quickchartButtonEl.classList.remove('colab-df-spinner');\n",
              "      quickchartButtonEl.classList.add('colab-df-quickchart-complete');\n",
              "    }\n",
              "    (() => {\n",
              "      let quickchartButtonEl =\n",
              "        document.querySelector('#df-f8543c5b-27d3-47fe-978b-204d5a983a95 button');\n",
              "      quickchartButtonEl.style.display =\n",
              "        google.colab.kernel.accessAllowed ? 'block' : 'none';\n",
              "    })();\n",
              "  </script>\n",
              "</div>\n",
              "    </div>\n",
              "  </div>\n"
            ]
          },
          "metadata": {},
          "execution_count": 5
        }
      ],
      "source": [
        "pred.head(5)"
      ]
    },
    {
      "cell_type": "code",
      "execution_count": 6,
      "metadata": {
        "colab": {
          "base_uri": "https://localhost:8080/",
          "height": 206
        },
        "id": "pIzspUxCThsG",
        "outputId": "4782d1d6-46ca-4e50-b9f5-0580772d3713",
        "tags": []
      },
      "outputs": [
        {
          "output_type": "execute_result",
          "data": {
            "text/plain": [
              "           OE\n",
              "0  141.615293\n",
              "1  127.674846\n",
              "2  255.768779\n",
              "3  126.355396\n",
              "4  124.733609"
            ],
            "text/html": [
              "\n",
              "  <div id=\"df-8d32cb9c-0fda-48c4-8584-c27914eff5b2\" class=\"colab-df-container\">\n",
              "    <div>\n",
              "<style scoped>\n",
              "    .dataframe tbody tr th:only-of-type {\n",
              "        vertical-align: middle;\n",
              "    }\n",
              "\n",
              "    .dataframe tbody tr th {\n",
              "        vertical-align: top;\n",
              "    }\n",
              "\n",
              "    .dataframe thead th {\n",
              "        text-align: right;\n",
              "    }\n",
              "</style>\n",
              "<table border=\"1\" class=\"dataframe\">\n",
              "  <thead>\n",
              "    <tr style=\"text-align: right;\">\n",
              "      <th></th>\n",
              "      <th>OE</th>\n",
              "    </tr>\n",
              "  </thead>\n",
              "  <tbody>\n",
              "    <tr>\n",
              "      <th>0</th>\n",
              "      <td>141.615293</td>\n",
              "    </tr>\n",
              "    <tr>\n",
              "      <th>1</th>\n",
              "      <td>127.674846</td>\n",
              "    </tr>\n",
              "    <tr>\n",
              "      <th>2</th>\n",
              "      <td>255.768779</td>\n",
              "    </tr>\n",
              "    <tr>\n",
              "      <th>3</th>\n",
              "      <td>126.355396</td>\n",
              "    </tr>\n",
              "    <tr>\n",
              "      <th>4</th>\n",
              "      <td>124.733609</td>\n",
              "    </tr>\n",
              "  </tbody>\n",
              "</table>\n",
              "</div>\n",
              "    <div class=\"colab-df-buttons\">\n",
              "\n",
              "  <div class=\"colab-df-container\">\n",
              "    <button class=\"colab-df-convert\" onclick=\"convertToInteractive('df-8d32cb9c-0fda-48c4-8584-c27914eff5b2')\"\n",
              "            title=\"Convert this dataframe to an interactive table.\"\n",
              "            style=\"display:none;\">\n",
              "\n",
              "  <svg xmlns=\"http://www.w3.org/2000/svg\" height=\"24px\" viewBox=\"0 -960 960 960\">\n",
              "    <path d=\"M120-120v-720h720v720H120Zm60-500h600v-160H180v160Zm220 220h160v-160H400v160Zm0 220h160v-160H400v160ZM180-400h160v-160H180v160Zm440 0h160v-160H620v160ZM180-180h160v-160H180v160Zm440 0h160v-160H620v160Z\"/>\n",
              "  </svg>\n",
              "    </button>\n",
              "\n",
              "  <style>\n",
              "    .colab-df-container {\n",
              "      display:flex;\n",
              "      gap: 12px;\n",
              "    }\n",
              "\n",
              "    .colab-df-convert {\n",
              "      background-color: #E8F0FE;\n",
              "      border: none;\n",
              "      border-radius: 50%;\n",
              "      cursor: pointer;\n",
              "      display: none;\n",
              "      fill: #1967D2;\n",
              "      height: 32px;\n",
              "      padding: 0 0 0 0;\n",
              "      width: 32px;\n",
              "    }\n",
              "\n",
              "    .colab-df-convert:hover {\n",
              "      background-color: #E2EBFA;\n",
              "      box-shadow: 0px 1px 2px rgba(60, 64, 67, 0.3), 0px 1px 3px 1px rgba(60, 64, 67, 0.15);\n",
              "      fill: #174EA6;\n",
              "    }\n",
              "\n",
              "    .colab-df-buttons div {\n",
              "      margin-bottom: 4px;\n",
              "    }\n",
              "\n",
              "    [theme=dark] .colab-df-convert {\n",
              "      background-color: #3B4455;\n",
              "      fill: #D2E3FC;\n",
              "    }\n",
              "\n",
              "    [theme=dark] .colab-df-convert:hover {\n",
              "      background-color: #434B5C;\n",
              "      box-shadow: 0px 1px 3px 1px rgba(0, 0, 0, 0.15);\n",
              "      filter: drop-shadow(0px 1px 2px rgba(0, 0, 0, 0.3));\n",
              "      fill: #FFFFFF;\n",
              "    }\n",
              "  </style>\n",
              "\n",
              "    <script>\n",
              "      const buttonEl =\n",
              "        document.querySelector('#df-8d32cb9c-0fda-48c4-8584-c27914eff5b2 button.colab-df-convert');\n",
              "      buttonEl.style.display =\n",
              "        google.colab.kernel.accessAllowed ? 'block' : 'none';\n",
              "\n",
              "      async function convertToInteractive(key) {\n",
              "        const element = document.querySelector('#df-8d32cb9c-0fda-48c4-8584-c27914eff5b2');\n",
              "        const dataTable =\n",
              "          await google.colab.kernel.invokeFunction('convertToInteractive',\n",
              "                                                    [key], {});\n",
              "        if (!dataTable) return;\n",
              "\n",
              "        const docLinkHtml = 'Like what you see? Visit the ' +\n",
              "          '<a target=\"_blank\" href=https://colab.research.google.com/notebooks/data_table.ipynb>data table notebook</a>'\n",
              "          + ' to learn more about interactive tables.';\n",
              "        element.innerHTML = '';\n",
              "        dataTable['output_type'] = 'display_data';\n",
              "        await google.colab.output.renderOutput(dataTable, element);\n",
              "        const docLink = document.createElement('div');\n",
              "        docLink.innerHTML = docLinkHtml;\n",
              "        element.appendChild(docLink);\n",
              "      }\n",
              "    </script>\n",
              "  </div>\n",
              "\n",
              "\n",
              "<div id=\"df-1d178a65-69a5-4b7f-9f49-63f4884e00a6\">\n",
              "  <button class=\"colab-df-quickchart\" onclick=\"quickchart('df-1d178a65-69a5-4b7f-9f49-63f4884e00a6')\"\n",
              "            title=\"Suggest charts\"\n",
              "            style=\"display:none;\">\n",
              "\n",
              "<svg xmlns=\"http://www.w3.org/2000/svg\" height=\"24px\"viewBox=\"0 0 24 24\"\n",
              "     width=\"24px\">\n",
              "    <g>\n",
              "        <path d=\"M19 3H5c-1.1 0-2 .9-2 2v14c0 1.1.9 2 2 2h14c1.1 0 2-.9 2-2V5c0-1.1-.9-2-2-2zM9 17H7v-7h2v7zm4 0h-2V7h2v10zm4 0h-2v-4h2v4z\"/>\n",
              "    </g>\n",
              "</svg>\n",
              "  </button>\n",
              "\n",
              "<style>\n",
              "  .colab-df-quickchart {\n",
              "      --bg-color: #E8F0FE;\n",
              "      --fill-color: #1967D2;\n",
              "      --hover-bg-color: #E2EBFA;\n",
              "      --hover-fill-color: #174EA6;\n",
              "      --disabled-fill-color: #AAA;\n",
              "      --disabled-bg-color: #DDD;\n",
              "  }\n",
              "\n",
              "  [theme=dark] .colab-df-quickchart {\n",
              "      --bg-color: #3B4455;\n",
              "      --fill-color: #D2E3FC;\n",
              "      --hover-bg-color: #434B5C;\n",
              "      --hover-fill-color: #FFFFFF;\n",
              "      --disabled-bg-color: #3B4455;\n",
              "      --disabled-fill-color: #666;\n",
              "  }\n",
              "\n",
              "  .colab-df-quickchart {\n",
              "    background-color: var(--bg-color);\n",
              "    border: none;\n",
              "    border-radius: 50%;\n",
              "    cursor: pointer;\n",
              "    display: none;\n",
              "    fill: var(--fill-color);\n",
              "    height: 32px;\n",
              "    padding: 0;\n",
              "    width: 32px;\n",
              "  }\n",
              "\n",
              "  .colab-df-quickchart:hover {\n",
              "    background-color: var(--hover-bg-color);\n",
              "    box-shadow: 0 1px 2px rgba(60, 64, 67, 0.3), 0 1px 3px 1px rgba(60, 64, 67, 0.15);\n",
              "    fill: var(--button-hover-fill-color);\n",
              "  }\n",
              "\n",
              "  .colab-df-quickchart-complete:disabled,\n",
              "  .colab-df-quickchart-complete:disabled:hover {\n",
              "    background-color: var(--disabled-bg-color);\n",
              "    fill: var(--disabled-fill-color);\n",
              "    box-shadow: none;\n",
              "  }\n",
              "\n",
              "  .colab-df-spinner {\n",
              "    border: 2px solid var(--fill-color);\n",
              "    border-color: transparent;\n",
              "    border-bottom-color: var(--fill-color);\n",
              "    animation:\n",
              "      spin 1s steps(1) infinite;\n",
              "  }\n",
              "\n",
              "  @keyframes spin {\n",
              "    0% {\n",
              "      border-color: transparent;\n",
              "      border-bottom-color: var(--fill-color);\n",
              "      border-left-color: var(--fill-color);\n",
              "    }\n",
              "    20% {\n",
              "      border-color: transparent;\n",
              "      border-left-color: var(--fill-color);\n",
              "      border-top-color: var(--fill-color);\n",
              "    }\n",
              "    30% {\n",
              "      border-color: transparent;\n",
              "      border-left-color: var(--fill-color);\n",
              "      border-top-color: var(--fill-color);\n",
              "      border-right-color: var(--fill-color);\n",
              "    }\n",
              "    40% {\n",
              "      border-color: transparent;\n",
              "      border-right-color: var(--fill-color);\n",
              "      border-top-color: var(--fill-color);\n",
              "    }\n",
              "    60% {\n",
              "      border-color: transparent;\n",
              "      border-right-color: var(--fill-color);\n",
              "    }\n",
              "    80% {\n",
              "      border-color: transparent;\n",
              "      border-right-color: var(--fill-color);\n",
              "      border-bottom-color: var(--fill-color);\n",
              "    }\n",
              "    90% {\n",
              "      border-color: transparent;\n",
              "      border-bottom-color: var(--fill-color);\n",
              "    }\n",
              "  }\n",
              "</style>\n",
              "\n",
              "  <script>\n",
              "    async function quickchart(key) {\n",
              "      const quickchartButtonEl =\n",
              "        document.querySelector('#' + key + ' button');\n",
              "      quickchartButtonEl.disabled = true;  // To prevent multiple clicks.\n",
              "      quickchartButtonEl.classList.add('colab-df-spinner');\n",
              "      try {\n",
              "        const charts = await google.colab.kernel.invokeFunction(\n",
              "            'suggestCharts', [key], {});\n",
              "      } catch (error) {\n",
              "        console.error('Error during call to suggestCharts:', error);\n",
              "      }\n",
              "      quickchartButtonEl.classList.remove('colab-df-spinner');\n",
              "      quickchartButtonEl.classList.add('colab-df-quickchart-complete');\n",
              "    }\n",
              "    (() => {\n",
              "      let quickchartButtonEl =\n",
              "        document.querySelector('#df-1d178a65-69a5-4b7f-9f49-63f4884e00a6 button');\n",
              "      quickchartButtonEl.style.display =\n",
              "        google.colab.kernel.accessAllowed ? 'block' : 'none';\n",
              "    })();\n",
              "  </script>\n",
              "</div>\n",
              "    </div>\n",
              "  </div>\n"
            ]
          },
          "metadata": {},
          "execution_count": 6
        }
      ],
      "source": [
        "resp.head(5)"
      ]
    },
    {
      "cell_type": "markdown",
      "metadata": {
        "id": "pV1pUC6pUwuv"
      },
      "source": [
        "<hr>\n",
        "<hr>\n",
        "<h1> Start your Models here! <h1>\n",
        "<hr>\n",
        "<hr>"
      ]
    },
    {
      "cell_type": "code",
      "execution_count": 7,
      "metadata": {
        "tags": [],
        "id": "7Q_COTDE_Ljx"
      },
      "outputs": [],
      "source": [
        "# Separate predictors and response\n",
        "X, y = pred, resp\n",
        "# Train/Test split\n",
        "X_train, X_test, y_train, y_test = train_test_split(X, y, test_size=0.2, random_state=42)"
      ]
    },
    {
      "cell_type": "code",
      "execution_count": 8,
      "metadata": {
        "tags": [],
        "id": "kHmlTFcZ_Ljx"
      },
      "outputs": [],
      "source": [
        "# I will do polynomial regression with Lasso"
      ]
    },
    {
      "cell_type": "code",
      "execution_count": 9,
      "metadata": {
        "tags": [],
        "colab": {
          "base_uri": "https://localhost:8080/"
        },
        "id": "maFJT81m_Ljx",
        "outputId": "480469b3-324c-421c-8bce-6d1e0094135a"
      },
      "outputs": [
        {
          "output_type": "execute_result",
          "data": {
            "text/plain": [
              "(26000, 34)"
            ]
          },
          "metadata": {},
          "execution_count": 9
        }
      ],
      "source": [
        "X_train.shape"
      ]
    },
    {
      "cell_type": "code",
      "execution_count": 10,
      "metadata": {
        "id": "ek_qbDcDTiY1",
        "tags": [],
        "colab": {
          "base_uri": "https://localhost:8080/"
        },
        "outputId": "83d276da-e091-48fb-a285-8c6d06344d7e"
      },
      "outputs": [
        {
          "output_type": "execute_result",
          "data": {
            "text/plain": [
              "Index(['Orientation', 'nonMassWallR [m^2-K/W]', 'MassWallR [m^2-K/W]',\n",
              "       'RoofR [m^2-K/W]', 'ExteriorFloorR [m^2-K/W]', 'WWRnorth', 'WWRwest',\n",
              "       'WWRsouth', 'WWReast', 'SHGC', 'WindowR [m^2-K/W]', 'numFloor',\n",
              "       'AspectRatio', 'VolumeToFacadeRatio',\n",
              "       'Packaged Single Zone - gas boiler', 'Packaged Single Zone - heat pump',\n",
              "       'Variable Air Volume air-cooled chiller - gas boiler',\n",
              "       'Variable Air Volume air-cooled chiller - heat pump',\n",
              "       'Variable Air Volume chiller with central - gas boiler',\n",
              "       'Variable Air Volume chiller with central - heat pump', 'Courthouse',\n",
              "       'Full Service Restaurant', 'Hospital', 'Large Hotel', 'Medium Office',\n",
              "       'Midrise Apartment', 'Retail', 'Secondary School', 'Supermarket',\n",
              "       'Warehouse', 'Mass', 'Steel framed', 'Wood framed', 'Metal'],\n",
              "      dtype='object')"
            ]
          },
          "metadata": {},
          "execution_count": 10
        }
      ],
      "source": [
        "X_train.columns"
      ]
    },
    {
      "cell_type": "code",
      "execution_count": 11,
      "metadata": {
        "tags": [],
        "id": "BBKtZ9ta_Ljx"
      },
      "outputs": [],
      "source": [
        "#dopping one of each categorical predictors\n",
        "X_train_used = X_train.drop(columns=[\"Packaged Single Zone - gas boiler\" , \"Courthouse\", \"Metal\"])"
      ]
    },
    {
      "cell_type": "code",
      "execution_count": 12,
      "metadata": {
        "tags": [],
        "id": "yD8H-R9a_Ljx"
      },
      "outputs": [],
      "source": [
        "X_test_used = X_test.drop(columns=[\"Packaged Single Zone - gas boiler\" , \"Courthouse\", \"Metal\"])"
      ]
    },
    {
      "cell_type": "code",
      "execution_count": 13,
      "metadata": {
        "tags": [],
        "colab": {
          "base_uri": "https://localhost:8080/"
        },
        "id": "lbj8OIUm_Ljy",
        "outputId": "c18ab5fa-63c6-46a5-ae29-aa65eae41cb0"
      },
      "outputs": [
        {
          "output_type": "execute_result",
          "data": {
            "text/plain": [
              "((26000, 31), (6500, 31))"
            ]
          },
          "metadata": {},
          "execution_count": 13
        }
      ],
      "source": [
        "X_train_used.shape, X_test_used.shape"
      ]
    },
    {
      "cell_type": "code",
      "execution_count": 14,
      "metadata": {
        "tags": [],
        "colab": {
          "base_uri": "https://localhost:8080/"
        },
        "id": "trk88CwO_Ljy",
        "outputId": "4733e0d2-3d70-4412-bcde-fbaeebdc68ed"
      },
      "outputs": [
        {
          "output_type": "execute_result",
          "data": {
            "text/plain": [
              "Index(['Orientation', 'nonMassWallR [m^2-K/W]', 'MassWallR [m^2-K/W]',\n",
              "       'RoofR [m^2-K/W]', 'ExteriorFloorR [m^2-K/W]', 'WWRnorth', 'WWRwest',\n",
              "       'WWRsouth', 'WWReast', 'SHGC', 'WindowR [m^2-K/W]', 'numFloor',\n",
              "       'AspectRatio', 'VolumeToFacadeRatio',\n",
              "       'Packaged Single Zone - heat pump',\n",
              "       'Variable Air Volume air-cooled chiller - gas boiler',\n",
              "       'Variable Air Volume air-cooled chiller - heat pump',\n",
              "       'Variable Air Volume chiller with central - gas boiler',\n",
              "       'Variable Air Volume chiller with central - heat pump',\n",
              "       'Full Service Restaurant', 'Hospital', 'Large Hotel', 'Medium Office',\n",
              "       'Midrise Apartment', 'Retail', 'Secondary School', 'Supermarket',\n",
              "       'Warehouse', 'Mass', 'Steel framed', 'Wood framed'],\n",
              "      dtype='object')"
            ]
          },
          "metadata": {},
          "execution_count": 14
        }
      ],
      "source": [
        "X_train_used.columns"
      ]
    },
    {
      "cell_type": "code",
      "execution_count": 15,
      "metadata": {
        "tags": [],
        "colab": {
          "base_uri": "https://localhost:8080/",
          "height": 110
        },
        "id": "85V8Uaec_Ljy",
        "outputId": "bc11652c-bdbb-4174-caaa-d75f5bddc17f"
      },
      "outputs": [
        {
          "output_type": "execute_result",
          "data": {
            "text/plain": [
              "      Orientation  nonMassWallR [m^2-K/W]  MassWallR [m^2-K/W]  \\\n",
              "4825          293                     3.6                  0.0   \n",
              "\n",
              "      RoofR [m^2-K/W]  ExteriorFloorR [m^2-K/W]  WWRnorth  WWRwest  WWRsouth  \\\n",
              "4825             5.81                      5.56      0.85     0.85      0.85   \n",
              "\n",
              "      WWReast  SHGC  ...  Large Hotel  Medium Office  Midrise Apartment  \\\n",
              "4825     0.85  0.38  ...            0              0                  0   \n",
              "\n",
              "      Retail  Secondary School  Supermarket  Warehouse  Mass  Steel framed  \\\n",
              "4825       1                 0            0          0     0             1   \n",
              "\n",
              "      Wood framed  \n",
              "4825            0  \n",
              "\n",
              "[1 rows x 31 columns]"
            ],
            "text/html": [
              "\n",
              "  <div id=\"df-5c1a635a-0a20-4123-8e51-487ec7b6e306\" class=\"colab-df-container\">\n",
              "    <div>\n",
              "<style scoped>\n",
              "    .dataframe tbody tr th:only-of-type {\n",
              "        vertical-align: middle;\n",
              "    }\n",
              "\n",
              "    .dataframe tbody tr th {\n",
              "        vertical-align: top;\n",
              "    }\n",
              "\n",
              "    .dataframe thead th {\n",
              "        text-align: right;\n",
              "    }\n",
              "</style>\n",
              "<table border=\"1\" class=\"dataframe\">\n",
              "  <thead>\n",
              "    <tr style=\"text-align: right;\">\n",
              "      <th></th>\n",
              "      <th>Orientation</th>\n",
              "      <th>nonMassWallR [m^2-K/W]</th>\n",
              "      <th>MassWallR [m^2-K/W]</th>\n",
              "      <th>RoofR [m^2-K/W]</th>\n",
              "      <th>ExteriorFloorR [m^2-K/W]</th>\n",
              "      <th>WWRnorth</th>\n",
              "      <th>WWRwest</th>\n",
              "      <th>WWRsouth</th>\n",
              "      <th>WWReast</th>\n",
              "      <th>SHGC</th>\n",
              "      <th>...</th>\n",
              "      <th>Large Hotel</th>\n",
              "      <th>Medium Office</th>\n",
              "      <th>Midrise Apartment</th>\n",
              "      <th>Retail</th>\n",
              "      <th>Secondary School</th>\n",
              "      <th>Supermarket</th>\n",
              "      <th>Warehouse</th>\n",
              "      <th>Mass</th>\n",
              "      <th>Steel framed</th>\n",
              "      <th>Wood framed</th>\n",
              "    </tr>\n",
              "  </thead>\n",
              "  <tbody>\n",
              "    <tr>\n",
              "      <th>4825</th>\n",
              "      <td>293</td>\n",
              "      <td>3.6</td>\n",
              "      <td>0.0</td>\n",
              "      <td>5.81</td>\n",
              "      <td>5.56</td>\n",
              "      <td>0.85</td>\n",
              "      <td>0.85</td>\n",
              "      <td>0.85</td>\n",
              "      <td>0.85</td>\n",
              "      <td>0.38</td>\n",
              "      <td>...</td>\n",
              "      <td>0</td>\n",
              "      <td>0</td>\n",
              "      <td>0</td>\n",
              "      <td>1</td>\n",
              "      <td>0</td>\n",
              "      <td>0</td>\n",
              "      <td>0</td>\n",
              "      <td>0</td>\n",
              "      <td>1</td>\n",
              "      <td>0</td>\n",
              "    </tr>\n",
              "  </tbody>\n",
              "</table>\n",
              "<p>1 rows × 31 columns</p>\n",
              "</div>\n",
              "    <div class=\"colab-df-buttons\">\n",
              "\n",
              "  <div class=\"colab-df-container\">\n",
              "    <button class=\"colab-df-convert\" onclick=\"convertToInteractive('df-5c1a635a-0a20-4123-8e51-487ec7b6e306')\"\n",
              "            title=\"Convert this dataframe to an interactive table.\"\n",
              "            style=\"display:none;\">\n",
              "\n",
              "  <svg xmlns=\"http://www.w3.org/2000/svg\" height=\"24px\" viewBox=\"0 -960 960 960\">\n",
              "    <path d=\"M120-120v-720h720v720H120Zm60-500h600v-160H180v160Zm220 220h160v-160H400v160Zm0 220h160v-160H400v160ZM180-400h160v-160H180v160Zm440 0h160v-160H620v160ZM180-180h160v-160H180v160Zm440 0h160v-160H620v160Z\"/>\n",
              "  </svg>\n",
              "    </button>\n",
              "\n",
              "  <style>\n",
              "    .colab-df-container {\n",
              "      display:flex;\n",
              "      gap: 12px;\n",
              "    }\n",
              "\n",
              "    .colab-df-convert {\n",
              "      background-color: #E8F0FE;\n",
              "      border: none;\n",
              "      border-radius: 50%;\n",
              "      cursor: pointer;\n",
              "      display: none;\n",
              "      fill: #1967D2;\n",
              "      height: 32px;\n",
              "      padding: 0 0 0 0;\n",
              "      width: 32px;\n",
              "    }\n",
              "\n",
              "    .colab-df-convert:hover {\n",
              "      background-color: #E2EBFA;\n",
              "      box-shadow: 0px 1px 2px rgba(60, 64, 67, 0.3), 0px 1px 3px 1px rgba(60, 64, 67, 0.15);\n",
              "      fill: #174EA6;\n",
              "    }\n",
              "\n",
              "    .colab-df-buttons div {\n",
              "      margin-bottom: 4px;\n",
              "    }\n",
              "\n",
              "    [theme=dark] .colab-df-convert {\n",
              "      background-color: #3B4455;\n",
              "      fill: #D2E3FC;\n",
              "    }\n",
              "\n",
              "    [theme=dark] .colab-df-convert:hover {\n",
              "      background-color: #434B5C;\n",
              "      box-shadow: 0px 1px 3px 1px rgba(0, 0, 0, 0.15);\n",
              "      filter: drop-shadow(0px 1px 2px rgba(0, 0, 0, 0.3));\n",
              "      fill: #FFFFFF;\n",
              "    }\n",
              "  </style>\n",
              "\n",
              "    <script>\n",
              "      const buttonEl =\n",
              "        document.querySelector('#df-5c1a635a-0a20-4123-8e51-487ec7b6e306 button.colab-df-convert');\n",
              "      buttonEl.style.display =\n",
              "        google.colab.kernel.accessAllowed ? 'block' : 'none';\n",
              "\n",
              "      async function convertToInteractive(key) {\n",
              "        const element = document.querySelector('#df-5c1a635a-0a20-4123-8e51-487ec7b6e306');\n",
              "        const dataTable =\n",
              "          await google.colab.kernel.invokeFunction('convertToInteractive',\n",
              "                                                    [key], {});\n",
              "        if (!dataTable) return;\n",
              "\n",
              "        const docLinkHtml = 'Like what you see? Visit the ' +\n",
              "          '<a target=\"_blank\" href=https://colab.research.google.com/notebooks/data_table.ipynb>data table notebook</a>'\n",
              "          + ' to learn more about interactive tables.';\n",
              "        element.innerHTML = '';\n",
              "        dataTable['output_type'] = 'display_data';\n",
              "        await google.colab.output.renderOutput(dataTable, element);\n",
              "        const docLink = document.createElement('div');\n",
              "        docLink.innerHTML = docLinkHtml;\n",
              "        element.appendChild(docLink);\n",
              "      }\n",
              "    </script>\n",
              "  </div>\n",
              "\n",
              "    </div>\n",
              "  </div>\n"
            ]
          },
          "metadata": {},
          "execution_count": 15
        }
      ],
      "source": [
        "X_train_used.head(1)"
      ]
    },
    {
      "cell_type": "code",
      "execution_count": 16,
      "metadata": {
        "tags": [],
        "id": "Zr_wwTKL_Ljy"
      },
      "outputs": [],
      "source": [
        "#extracting quatitative variables\n",
        "X_train_used_quant = X_train_used.drop(columns=['Packaged Single Zone - heat pump',\n",
        "       'Variable Air Volume air-cooled chiller - gas boiler',\n",
        "       'Variable Air Volume air-cooled chiller - heat pump',\n",
        "       'Variable Air Volume chiller with central - gas boiler',\n",
        "       'Variable Air Volume chiller with central - heat pump',\n",
        "       'Full Service Restaurant', 'Hospital', 'Large Hotel', 'Medium Office',\n",
        "       'Midrise Apartment', 'Retail', 'Secondary School', 'Supermarket',\n",
        "       'Warehouse', 'Mass', 'Steel framed', 'Wood framed'])"
      ]
    },
    {
      "cell_type": "code",
      "execution_count": 17,
      "metadata": {
        "tags": [],
        "id": "Cs9M1l4B_Ljy"
      },
      "outputs": [],
      "source": [
        "X_test_used_quant = X_test_used.drop(columns=['Packaged Single Zone - heat pump',\n",
        "       'Variable Air Volume air-cooled chiller - gas boiler',\n",
        "       'Variable Air Volume air-cooled chiller - heat pump',\n",
        "       'Variable Air Volume chiller with central - gas boiler',\n",
        "       'Variable Air Volume chiller with central - heat pump',\n",
        "       'Full Service Restaurant', 'Hospital', 'Large Hotel', 'Medium Office',\n",
        "       'Midrise Apartment', 'Retail', 'Secondary School', 'Supermarket',\n",
        "       'Warehouse', 'Mass', 'Steel framed', 'Wood framed'])"
      ]
    },
    {
      "cell_type": "code",
      "execution_count": 18,
      "metadata": {
        "tags": [],
        "colab": {
          "base_uri": "https://localhost:8080/"
        },
        "id": "DECU9ztG_Ljy",
        "outputId": "864405a9-4acc-4215-cea7-305dbd0d75fc"
      },
      "outputs": [
        {
          "output_type": "execute_result",
          "data": {
            "text/plain": [
              "((26000, 14), (6500, 14))"
            ]
          },
          "metadata": {},
          "execution_count": 18
        }
      ],
      "source": [
        "X_train_used_quant.shape , X_test_used_quant.shape"
      ]
    },
    {
      "cell_type": "code",
      "execution_count": 19,
      "metadata": {
        "tags": [],
        "id": "uE17Zltj_Ljy"
      },
      "outputs": [],
      "source": [
        "X_train_used_cat = X_train_used.drop(columns=['Orientation', 'nonMassWallR [m^2-K/W]', 'MassWallR [m^2-K/W]',\n",
        "       'RoofR [m^2-K/W]', 'ExteriorFloorR [m^2-K/W]', 'WWRnorth', 'WWRwest',\n",
        "       'WWRsouth', 'WWReast', 'SHGC', 'WindowR [m^2-K/W]', 'numFloor',\n",
        "       'AspectRatio', 'VolumeToFacadeRatio'])"
      ]
    },
    {
      "cell_type": "code",
      "execution_count": 20,
      "metadata": {
        "tags": [],
        "id": "gRUDc__P_Ljy"
      },
      "outputs": [],
      "source": [
        "X_test_used_cat = X_test_used.drop(columns=['Orientation', 'nonMassWallR [m^2-K/W]', 'MassWallR [m^2-K/W]',\n",
        "       'RoofR [m^2-K/W]', 'ExteriorFloorR [m^2-K/W]', 'WWRnorth', 'WWRwest',\n",
        "       'WWRsouth', 'WWReast', 'SHGC', 'WindowR [m^2-K/W]', 'numFloor',\n",
        "       'AspectRatio', 'VolumeToFacadeRatio'])"
      ]
    },
    {
      "cell_type": "code",
      "execution_count": 21,
      "metadata": {
        "tags": [],
        "colab": {
          "base_uri": "https://localhost:8080/"
        },
        "id": "OwJUXyqw_Ljy",
        "outputId": "e5549da2-9e4a-400a-f151-9650453da7de"
      },
      "outputs": [
        {
          "output_type": "execute_result",
          "data": {
            "text/plain": [
              "((26000, 17), (6500, 17))"
            ]
          },
          "metadata": {},
          "execution_count": 21
        }
      ],
      "source": [
        "X_train_used_cat.shape , X_test_used_cat.shape"
      ]
    },
    {
      "cell_type": "code",
      "execution_count": 22,
      "metadata": {
        "tags": [],
        "id": "wQH6mqyj_Ljz"
      },
      "outputs": [],
      "source": [
        "#Scaling quantitative preditcors"
      ]
    },
    {
      "cell_type": "code",
      "execution_count": 23,
      "metadata": {
        "tags": [],
        "id": "izbYVGq5_Ljz"
      },
      "outputs": [],
      "source": [
        "scaler = StandardScaler().fit(X_train_used_quant)\n",
        "X_train_quant_sc = scaler.transform(X_train_used_quant)\n",
        "X_test_quant_sc = scaler.transform(X_test_used_quant)"
      ]
    },
    {
      "cell_type": "code",
      "execution_count": 24,
      "metadata": {
        "tags": [],
        "colab": {
          "base_uri": "https://localhost:8080/"
        },
        "id": "pZJNODbQ_Ljz",
        "outputId": "616a6fae-3eb0-4822-b84d-dfcbd33795d9"
      },
      "outputs": [
        {
          "output_type": "execute_result",
          "data": {
            "text/plain": [
              "((26000, 14), (6500, 14))"
            ]
          },
          "metadata": {},
          "execution_count": 24
        }
      ],
      "source": [
        "X_train_quant_sc.shape , X_test_quant_sc.shape"
      ]
    },
    {
      "cell_type": "code",
      "execution_count": 25,
      "metadata": {
        "tags": [],
        "id": "BR8ySO8A_Ljz"
      },
      "outputs": [],
      "source": [
        "# Finding the best hyper-parameter alpha"
      ]
    },
    {
      "cell_type": "code",
      "execution_count": 26,
      "metadata": {
        "tags": [],
        "id": "zsdboQSz_Ljz"
      },
      "outputs": [],
      "source": [
        "# I will test the alpha values by convention tested in class\n",
        "alpha_list = [1e-5, 1e-4, 1e-3, 1e-2, 1e-1]"
      ]
    },
    {
      "cell_type": "code",
      "execution_count": 27,
      "metadata": {
        "tags": [],
        "id": "rlBQvwV3_Ljz"
      },
      "outputs": [],
      "source": [
        "# I will test for polynomial to the 30th degree to find the alpha,\n",
        "# again based on convention of what we did in class\n",
        "max_degree = 5"
      ]
    },
    {
      "cell_type": "code",
      "execution_count": 28,
      "metadata": {
        "tags": [],
        "id": "ASPzFVEi_Ljz"
      },
      "outputs": [],
      "source": [
        "# Setting those up, the way we have done in class\n",
        "include_bias = False\n",
        "fit_intercept = True\n",
        "max_iter = 100"
      ]
    },
    {
      "cell_type": "code",
      "execution_count": 29,
      "metadata": {
        "tags": [],
        "id": "0iLcM7KH_Ljz"
      },
      "outputs": [],
      "source": [
        "poly = PolynomialFeatures(max_degree, include_bias=include_bias).fit(X_train_quant_sc)"
      ]
    },
    {
      "cell_type": "code",
      "execution_count": 30,
      "metadata": {
        "tags": [],
        "colab": {
          "base_uri": "https://localhost:8080/"
        },
        "id": "uyQFWnHC_Ljz",
        "outputId": "5423da5e-e515-42f8-b614-8d3fcf819031"
      },
      "outputs": [
        {
          "output_type": "execute_result",
          "data": {
            "text/plain": [
              "(26000, 11627)"
            ]
          },
          "metadata": {},
          "execution_count": 30
        }
      ],
      "source": [
        "X_train_quant_sc_poly = poly.transform(X_train_quant_sc)\n",
        "X_train_quant_sc_poly.shape"
      ]
    },
    {
      "cell_type": "code",
      "execution_count": 31,
      "metadata": {
        "tags": [],
        "colab": {
          "base_uri": "https://localhost:8080/"
        },
        "id": "r3rJ7XGo_Ljz",
        "outputId": "eac5f10d-df74-4a39-e33d-712732d1d5fa"
      },
      "outputs": [
        {
          "output_type": "execute_result",
          "data": {
            "text/plain": [
              "(6500, 11627)"
            ]
          },
          "metadata": {},
          "execution_count": 31
        }
      ],
      "source": [
        "X_test_quant_sc_poly = poly.transform(X_test_quant_sc)\n",
        "X_test_quant_sc_poly.shape"
      ]
    },
    {
      "cell_type": "code",
      "execution_count": 32,
      "metadata": {
        "tags": [],
        "colab": {
          "base_uri": "https://localhost:8080/"
        },
        "id": "VM9Wi8ar_Ljz",
        "outputId": "82774d92-19d5-422a-99f6-374192d15de5"
      },
      "outputs": [
        {
          "output_type": "execute_result",
          "data": {
            "text/plain": [
              "(26000, 17)"
            ]
          },
          "metadata": {},
          "execution_count": 32
        }
      ],
      "source": [
        "X_train_used_cat.shape"
      ]
    },
    {
      "cell_type": "code",
      "execution_count": 33,
      "metadata": {
        "tags": [],
        "id": "gQHYJB0J_Ljz"
      },
      "outputs": [],
      "source": [
        "X_train_quant_sc_poly = pd.DataFrame(X_train_quant_sc_poly)\n",
        "X_train_used_cat = pd.DataFrame(X_train_used_cat, columns = X_test_used_cat.columns)"
      ]
    },
    {
      "cell_type": "code",
      "execution_count": 34,
      "metadata": {
        "tags": [],
        "colab": {
          "base_uri": "https://localhost:8080/",
          "height": 224
        },
        "id": "PlRxcA-c_Lj0",
        "outputId": "07cb191c-b1db-469d-e09b-cd24a75435bb"
      },
      "outputs": [
        {
          "output_type": "execute_result",
          "data": {
            "text/plain": [
              "       Packaged Single Zone - heat pump  \\\n",
              "4825                                  0   \n",
              "23440                                 0   \n",
              "11879                                 0   \n",
              "11758                                 0   \n",
              "5937                                  1   \n",
              "\n",
              "       Variable Air Volume air-cooled chiller - gas boiler  \\\n",
              "4825                                                   0     \n",
              "23440                                                  0     \n",
              "11879                                                  0     \n",
              "11758                                                  1     \n",
              "5937                                                   0     \n",
              "\n",
              "       Variable Air Volume air-cooled chiller - heat pump  \\\n",
              "4825                                                   1    \n",
              "23440                                                  0    \n",
              "11879                                                  0    \n",
              "11758                                                  0    \n",
              "5937                                                   0    \n",
              "\n",
              "       Variable Air Volume chiller with central - gas boiler  \\\n",
              "4825                                                   0       \n",
              "23440                                                  0       \n",
              "11879                                                  0       \n",
              "11758                                                  0       \n",
              "5937                                                   0       \n",
              "\n",
              "       Variable Air Volume chiller with central - heat pump  \\\n",
              "4825                                                   0      \n",
              "23440                                                  1      \n",
              "11879                                                  1      \n",
              "11758                                                  0      \n",
              "5937                                                   0      \n",
              "\n",
              "       Full Service Restaurant  Hospital  Large Hotel  Medium Office  \\\n",
              "4825                         0         0            0              0   \n",
              "23440                        0         0            1              0   \n",
              "11879                        0         0            0              1   \n",
              "11758                        0         0            0              0   \n",
              "5937                         0         0            0              0   \n",
              "\n",
              "       Midrise Apartment  Retail  Secondary School  Supermarket  Warehouse  \\\n",
              "4825                   0       1                 0            0          0   \n",
              "23440                  0       0                 0            0          0   \n",
              "11879                  0       0                 0            0          0   \n",
              "11758                  0       0                 0            0          0   \n",
              "5937                   0       0                 1            0          0   \n",
              "\n",
              "       Mass  Steel framed  Wood framed  \n",
              "4825      0             1            0  \n",
              "23440     0             1            0  \n",
              "11879     1             0            0  \n",
              "11758     1             0            0  \n",
              "5937      0             0            0  "
            ],
            "text/html": [
              "\n",
              "  <div id=\"df-7f4ba8e4-eff5-49a3-8267-5621bae0af79\" class=\"colab-df-container\">\n",
              "    <div>\n",
              "<style scoped>\n",
              "    .dataframe tbody tr th:only-of-type {\n",
              "        vertical-align: middle;\n",
              "    }\n",
              "\n",
              "    .dataframe tbody tr th {\n",
              "        vertical-align: top;\n",
              "    }\n",
              "\n",
              "    .dataframe thead th {\n",
              "        text-align: right;\n",
              "    }\n",
              "</style>\n",
              "<table border=\"1\" class=\"dataframe\">\n",
              "  <thead>\n",
              "    <tr style=\"text-align: right;\">\n",
              "      <th></th>\n",
              "      <th>Packaged Single Zone - heat pump</th>\n",
              "      <th>Variable Air Volume air-cooled chiller - gas boiler</th>\n",
              "      <th>Variable Air Volume air-cooled chiller - heat pump</th>\n",
              "      <th>Variable Air Volume chiller with central - gas boiler</th>\n",
              "      <th>Variable Air Volume chiller with central - heat pump</th>\n",
              "      <th>Full Service Restaurant</th>\n",
              "      <th>Hospital</th>\n",
              "      <th>Large Hotel</th>\n",
              "      <th>Medium Office</th>\n",
              "      <th>Midrise Apartment</th>\n",
              "      <th>Retail</th>\n",
              "      <th>Secondary School</th>\n",
              "      <th>Supermarket</th>\n",
              "      <th>Warehouse</th>\n",
              "      <th>Mass</th>\n",
              "      <th>Steel framed</th>\n",
              "      <th>Wood framed</th>\n",
              "    </tr>\n",
              "  </thead>\n",
              "  <tbody>\n",
              "    <tr>\n",
              "      <th>4825</th>\n",
              "      <td>0</td>\n",
              "      <td>0</td>\n",
              "      <td>1</td>\n",
              "      <td>0</td>\n",
              "      <td>0</td>\n",
              "      <td>0</td>\n",
              "      <td>0</td>\n",
              "      <td>0</td>\n",
              "      <td>0</td>\n",
              "      <td>0</td>\n",
              "      <td>1</td>\n",
              "      <td>0</td>\n",
              "      <td>0</td>\n",
              "      <td>0</td>\n",
              "      <td>0</td>\n",
              "      <td>1</td>\n",
              "      <td>0</td>\n",
              "    </tr>\n",
              "    <tr>\n",
              "      <th>23440</th>\n",
              "      <td>0</td>\n",
              "      <td>0</td>\n",
              "      <td>0</td>\n",
              "      <td>0</td>\n",
              "      <td>1</td>\n",
              "      <td>0</td>\n",
              "      <td>0</td>\n",
              "      <td>1</td>\n",
              "      <td>0</td>\n",
              "      <td>0</td>\n",
              "      <td>0</td>\n",
              "      <td>0</td>\n",
              "      <td>0</td>\n",
              "      <td>0</td>\n",
              "      <td>0</td>\n",
              "      <td>1</td>\n",
              "      <td>0</td>\n",
              "    </tr>\n",
              "    <tr>\n",
              "      <th>11879</th>\n",
              "      <td>0</td>\n",
              "      <td>0</td>\n",
              "      <td>0</td>\n",
              "      <td>0</td>\n",
              "      <td>1</td>\n",
              "      <td>0</td>\n",
              "      <td>0</td>\n",
              "      <td>0</td>\n",
              "      <td>1</td>\n",
              "      <td>0</td>\n",
              "      <td>0</td>\n",
              "      <td>0</td>\n",
              "      <td>0</td>\n",
              "      <td>0</td>\n",
              "      <td>1</td>\n",
              "      <td>0</td>\n",
              "      <td>0</td>\n",
              "    </tr>\n",
              "    <tr>\n",
              "      <th>11758</th>\n",
              "      <td>0</td>\n",
              "      <td>1</td>\n",
              "      <td>0</td>\n",
              "      <td>0</td>\n",
              "      <td>0</td>\n",
              "      <td>0</td>\n",
              "      <td>0</td>\n",
              "      <td>0</td>\n",
              "      <td>0</td>\n",
              "      <td>0</td>\n",
              "      <td>0</td>\n",
              "      <td>0</td>\n",
              "      <td>0</td>\n",
              "      <td>0</td>\n",
              "      <td>1</td>\n",
              "      <td>0</td>\n",
              "      <td>0</td>\n",
              "    </tr>\n",
              "    <tr>\n",
              "      <th>5937</th>\n",
              "      <td>1</td>\n",
              "      <td>0</td>\n",
              "      <td>0</td>\n",
              "      <td>0</td>\n",
              "      <td>0</td>\n",
              "      <td>0</td>\n",
              "      <td>0</td>\n",
              "      <td>0</td>\n",
              "      <td>0</td>\n",
              "      <td>0</td>\n",
              "      <td>0</td>\n",
              "      <td>1</td>\n",
              "      <td>0</td>\n",
              "      <td>0</td>\n",
              "      <td>0</td>\n",
              "      <td>0</td>\n",
              "      <td>0</td>\n",
              "    </tr>\n",
              "  </tbody>\n",
              "</table>\n",
              "</div>\n",
              "    <div class=\"colab-df-buttons\">\n",
              "\n",
              "  <div class=\"colab-df-container\">\n",
              "    <button class=\"colab-df-convert\" onclick=\"convertToInteractive('df-7f4ba8e4-eff5-49a3-8267-5621bae0af79')\"\n",
              "            title=\"Convert this dataframe to an interactive table.\"\n",
              "            style=\"display:none;\">\n",
              "\n",
              "  <svg xmlns=\"http://www.w3.org/2000/svg\" height=\"24px\" viewBox=\"0 -960 960 960\">\n",
              "    <path d=\"M120-120v-720h720v720H120Zm60-500h600v-160H180v160Zm220 220h160v-160H400v160Zm0 220h160v-160H400v160ZM180-400h160v-160H180v160Zm440 0h160v-160H620v160ZM180-180h160v-160H180v160Zm440 0h160v-160H620v160Z\"/>\n",
              "  </svg>\n",
              "    </button>\n",
              "\n",
              "  <style>\n",
              "    .colab-df-container {\n",
              "      display:flex;\n",
              "      gap: 12px;\n",
              "    }\n",
              "\n",
              "    .colab-df-convert {\n",
              "      background-color: #E8F0FE;\n",
              "      border: none;\n",
              "      border-radius: 50%;\n",
              "      cursor: pointer;\n",
              "      display: none;\n",
              "      fill: #1967D2;\n",
              "      height: 32px;\n",
              "      padding: 0 0 0 0;\n",
              "      width: 32px;\n",
              "    }\n",
              "\n",
              "    .colab-df-convert:hover {\n",
              "      background-color: #E2EBFA;\n",
              "      box-shadow: 0px 1px 2px rgba(60, 64, 67, 0.3), 0px 1px 3px 1px rgba(60, 64, 67, 0.15);\n",
              "      fill: #174EA6;\n",
              "    }\n",
              "\n",
              "    .colab-df-buttons div {\n",
              "      margin-bottom: 4px;\n",
              "    }\n",
              "\n",
              "    [theme=dark] .colab-df-convert {\n",
              "      background-color: #3B4455;\n",
              "      fill: #D2E3FC;\n",
              "    }\n",
              "\n",
              "    [theme=dark] .colab-df-convert:hover {\n",
              "      background-color: #434B5C;\n",
              "      box-shadow: 0px 1px 3px 1px rgba(0, 0, 0, 0.15);\n",
              "      filter: drop-shadow(0px 1px 2px rgba(0, 0, 0, 0.3));\n",
              "      fill: #FFFFFF;\n",
              "    }\n",
              "  </style>\n",
              "\n",
              "    <script>\n",
              "      const buttonEl =\n",
              "        document.querySelector('#df-7f4ba8e4-eff5-49a3-8267-5621bae0af79 button.colab-df-convert');\n",
              "      buttonEl.style.display =\n",
              "        google.colab.kernel.accessAllowed ? 'block' : 'none';\n",
              "\n",
              "      async function convertToInteractive(key) {\n",
              "        const element = document.querySelector('#df-7f4ba8e4-eff5-49a3-8267-5621bae0af79');\n",
              "        const dataTable =\n",
              "          await google.colab.kernel.invokeFunction('convertToInteractive',\n",
              "                                                    [key], {});\n",
              "        if (!dataTable) return;\n",
              "\n",
              "        const docLinkHtml = 'Like what you see? Visit the ' +\n",
              "          '<a target=\"_blank\" href=https://colab.research.google.com/notebooks/data_table.ipynb>data table notebook</a>'\n",
              "          + ' to learn more about interactive tables.';\n",
              "        element.innerHTML = '';\n",
              "        dataTable['output_type'] = 'display_data';\n",
              "        await google.colab.output.renderOutput(dataTable, element);\n",
              "        const docLink = document.createElement('div');\n",
              "        docLink.innerHTML = docLinkHtml;\n",
              "        element.appendChild(docLink);\n",
              "      }\n",
              "    </script>\n",
              "  </div>\n",
              "\n",
              "\n",
              "<div id=\"df-91abb209-f76d-41b0-b2fb-67340c7a1f13\">\n",
              "  <button class=\"colab-df-quickchart\" onclick=\"quickchart('df-91abb209-f76d-41b0-b2fb-67340c7a1f13')\"\n",
              "            title=\"Suggest charts\"\n",
              "            style=\"display:none;\">\n",
              "\n",
              "<svg xmlns=\"http://www.w3.org/2000/svg\" height=\"24px\"viewBox=\"0 0 24 24\"\n",
              "     width=\"24px\">\n",
              "    <g>\n",
              "        <path d=\"M19 3H5c-1.1 0-2 .9-2 2v14c0 1.1.9 2 2 2h14c1.1 0 2-.9 2-2V5c0-1.1-.9-2-2-2zM9 17H7v-7h2v7zm4 0h-2V7h2v10zm4 0h-2v-4h2v4z\"/>\n",
              "    </g>\n",
              "</svg>\n",
              "  </button>\n",
              "\n",
              "<style>\n",
              "  .colab-df-quickchart {\n",
              "      --bg-color: #E8F0FE;\n",
              "      --fill-color: #1967D2;\n",
              "      --hover-bg-color: #E2EBFA;\n",
              "      --hover-fill-color: #174EA6;\n",
              "      --disabled-fill-color: #AAA;\n",
              "      --disabled-bg-color: #DDD;\n",
              "  }\n",
              "\n",
              "  [theme=dark] .colab-df-quickchart {\n",
              "      --bg-color: #3B4455;\n",
              "      --fill-color: #D2E3FC;\n",
              "      --hover-bg-color: #434B5C;\n",
              "      --hover-fill-color: #FFFFFF;\n",
              "      --disabled-bg-color: #3B4455;\n",
              "      --disabled-fill-color: #666;\n",
              "  }\n",
              "\n",
              "  .colab-df-quickchart {\n",
              "    background-color: var(--bg-color);\n",
              "    border: none;\n",
              "    border-radius: 50%;\n",
              "    cursor: pointer;\n",
              "    display: none;\n",
              "    fill: var(--fill-color);\n",
              "    height: 32px;\n",
              "    padding: 0;\n",
              "    width: 32px;\n",
              "  }\n",
              "\n",
              "  .colab-df-quickchart:hover {\n",
              "    background-color: var(--hover-bg-color);\n",
              "    box-shadow: 0 1px 2px rgba(60, 64, 67, 0.3), 0 1px 3px 1px rgba(60, 64, 67, 0.15);\n",
              "    fill: var(--button-hover-fill-color);\n",
              "  }\n",
              "\n",
              "  .colab-df-quickchart-complete:disabled,\n",
              "  .colab-df-quickchart-complete:disabled:hover {\n",
              "    background-color: var(--disabled-bg-color);\n",
              "    fill: var(--disabled-fill-color);\n",
              "    box-shadow: none;\n",
              "  }\n",
              "\n",
              "  .colab-df-spinner {\n",
              "    border: 2px solid var(--fill-color);\n",
              "    border-color: transparent;\n",
              "    border-bottom-color: var(--fill-color);\n",
              "    animation:\n",
              "      spin 1s steps(1) infinite;\n",
              "  }\n",
              "\n",
              "  @keyframes spin {\n",
              "    0% {\n",
              "      border-color: transparent;\n",
              "      border-bottom-color: var(--fill-color);\n",
              "      border-left-color: var(--fill-color);\n",
              "    }\n",
              "    20% {\n",
              "      border-color: transparent;\n",
              "      border-left-color: var(--fill-color);\n",
              "      border-top-color: var(--fill-color);\n",
              "    }\n",
              "    30% {\n",
              "      border-color: transparent;\n",
              "      border-left-color: var(--fill-color);\n",
              "      border-top-color: var(--fill-color);\n",
              "      border-right-color: var(--fill-color);\n",
              "    }\n",
              "    40% {\n",
              "      border-color: transparent;\n",
              "      border-right-color: var(--fill-color);\n",
              "      border-top-color: var(--fill-color);\n",
              "    }\n",
              "    60% {\n",
              "      border-color: transparent;\n",
              "      border-right-color: var(--fill-color);\n",
              "    }\n",
              "    80% {\n",
              "      border-color: transparent;\n",
              "      border-right-color: var(--fill-color);\n",
              "      border-bottom-color: var(--fill-color);\n",
              "    }\n",
              "    90% {\n",
              "      border-color: transparent;\n",
              "      border-bottom-color: var(--fill-color);\n",
              "    }\n",
              "  }\n",
              "</style>\n",
              "\n",
              "  <script>\n",
              "    async function quickchart(key) {\n",
              "      const quickchartButtonEl =\n",
              "        document.querySelector('#' + key + ' button');\n",
              "      quickchartButtonEl.disabled = true;  // To prevent multiple clicks.\n",
              "      quickchartButtonEl.classList.add('colab-df-spinner');\n",
              "      try {\n",
              "        const charts = await google.colab.kernel.invokeFunction(\n",
              "            'suggestCharts', [key], {});\n",
              "      } catch (error) {\n",
              "        console.error('Error during call to suggestCharts:', error);\n",
              "      }\n",
              "      quickchartButtonEl.classList.remove('colab-df-spinner');\n",
              "      quickchartButtonEl.classList.add('colab-df-quickchart-complete');\n",
              "    }\n",
              "    (() => {\n",
              "      let quickchartButtonEl =\n",
              "        document.querySelector('#df-91abb209-f76d-41b0-b2fb-67340c7a1f13 button');\n",
              "      quickchartButtonEl.style.display =\n",
              "        google.colab.kernel.accessAllowed ? 'block' : 'none';\n",
              "    })();\n",
              "  </script>\n",
              "</div>\n",
              "    </div>\n",
              "  </div>\n"
            ]
          },
          "metadata": {},
          "execution_count": 34
        }
      ],
      "source": [
        "X_train_used_cat.head()"
      ]
    },
    {
      "cell_type": "code",
      "execution_count": 35,
      "metadata": {
        "tags": [],
        "colab": {
          "base_uri": "https://localhost:8080/"
        },
        "id": "o3x_Q6se_Lj0",
        "outputId": "2e3ff529-60e2-4f41-d0f4-52d77e43c9fc"
      },
      "outputs": [
        {
          "output_type": "execute_result",
          "data": {
            "text/plain": [
              "(26000, 11627)"
            ]
          },
          "metadata": {},
          "execution_count": 35
        }
      ],
      "source": [
        "X_train_quant_sc_poly.shape"
      ]
    },
    {
      "cell_type": "code",
      "execution_count": 36,
      "metadata": {
        "tags": [],
        "id": "QpC28Nhq_Lj0"
      },
      "outputs": [],
      "source": [
        "X_train_quant_sc_poly.columns = X_train_quant_sc_poly.columns.astype(str)"
      ]
    },
    {
      "cell_type": "code",
      "execution_count": 37,
      "metadata": {
        "tags": [],
        "id": "mCNmMib8_Lj2"
      },
      "outputs": [],
      "source": [
        "X_train_used_cat.columns = X_train_used_cat.columns.astype(str)"
      ]
    },
    {
      "cell_type": "code",
      "execution_count": 38,
      "metadata": {
        "tags": [],
        "colab": {
          "base_uri": "https://localhost:8080/"
        },
        "id": "YuljvpX3_Lj2",
        "outputId": "ac607a69-3688-4f57-ea01-0b4045a45a69"
      },
      "outputs": [
        {
          "output_type": "execute_result",
          "data": {
            "text/plain": [
              "(26000, 17)"
            ]
          },
          "metadata": {},
          "execution_count": 38
        }
      ],
      "source": [
        "X_train_used_cat.shape"
      ]
    },
    {
      "cell_type": "code",
      "execution_count": 39,
      "metadata": {
        "tags": [],
        "id": "o5DuKbJO_Lj2"
      },
      "outputs": [],
      "source": [
        "X_train_used_cat_reset = X_train_used_cat.reset_index(drop=True)\n",
        "X_train_quant_sc_poly_reset = X_train_quant_sc_poly.reset_index(drop=True)"
      ]
    },
    {
      "cell_type": "code",
      "execution_count": 40,
      "metadata": {
        "tags": [],
        "id": "fRDu8AId_Lj2"
      },
      "outputs": [],
      "source": [
        "X_train_quant_sc_poly_cat = pd.concat([X_train_used_cat_reset, X_train_quant_sc_poly_reset], axis=1)"
      ]
    },
    {
      "cell_type": "code",
      "execution_count": 41,
      "metadata": {
        "tags": [],
        "colab": {
          "base_uri": "https://localhost:8080/"
        },
        "id": "zEemqaCX_Lj2",
        "outputId": "1612da1c-1f17-441b-cba7-4f572d054d4a"
      },
      "outputs": [
        {
          "output_type": "execute_result",
          "data": {
            "text/plain": [
              "(26000, 11644)"
            ]
          },
          "metadata": {},
          "execution_count": 41
        }
      ],
      "source": [
        "X_train_quant_sc_poly_cat.shape"
      ]
    },
    {
      "cell_type": "markdown",
      "source": [
        "<hr>\n",
        "--Sang--\n",
        "<hr>"
      ],
      "metadata": {
        "id": "LtAlcH1rCLi8"
      }
    },
    {
      "cell_type": "code",
      "source": [
        "max_degree = 2"
      ],
      "metadata": {
        "id": "z4-P1fDeBqlj"
      },
      "execution_count": 42,
      "outputs": []
    },
    {
      "cell_type": "code",
      "source": [
        "poly = PolynomialFeatures(max_degree, include_bias=include_bias)\n",
        "\n",
        "#Fit to the standardized quantitative training data and transform both train and test data\n",
        "X_train_quant_sc_poly = poly.fit_transform(X_train_quant_sc)\n",
        "X_test_quant_sc_poly = poly.transform(X_test_quant_sc)\n",
        "\n",
        "#Convert the transformed training data back to DataFrame and reset index for concatenation\n",
        "X_train_quant_sc_poly_df = pd.DataFrame(X_train_quant_sc_poly)\n",
        "X_train_used_cat_reset = X_train_used_cat.reset_index(drop=True)\n",
        "\n",
        "#Concatenate the categorical and polynomial features DataFrames\n",
        "X_train_poly_cat = pd.concat([X_train_used_cat_reset, X_train_quant_sc_poly_df], axis=1)\n",
        "\n",
        "#Get the shapes of the transformed data to confirm the process\n",
        "X_train_poly_cat_shape = X_train_poly_cat.shape\n",
        "X_test_quant_sc_poly_shape = X_test_quant_sc_poly.shape\n",
        "\n",
        "X_train_poly_cat_shape, X_test_quant_sc_poly_shape"
      ],
      "metadata": {
        "colab": {
          "base_uri": "https://localhost:8080/"
        },
        "id": "s_Gvqe5WBqjY",
        "outputId": "4035f2df-0005-4357-e755-329505cab36b"
      },
      "execution_count": 43,
      "outputs": [
        {
          "output_type": "execute_result",
          "data": {
            "text/plain": [
              "((26000, 136), (6500, 119))"
            ]
          },
          "metadata": {},
          "execution_count": 43
        }
      ]
    },
    {
      "cell_type": "code",
      "source": [
        "fit_intercept = True\n",
        "max_iter = 100\n",
        "\n",
        "#Initialize LassoCV with the list of alphas, fit_intercept, and max_iter\n",
        "#LassoCV will perform cross-validation to find the best alpha value\n",
        "lasso_cv = LassoCV(alphas=alpha_list, fit_intercept=fit_intercept, max_iter=max_iter, cv=5, random_state=42)\n",
        "\n",
        "#Fit the LassoCV model to the training data\n",
        "X_train_poly_cat.columns = X_train_poly_cat.columns.astype(str)\n",
        "\n",
        "#Now fit the LassoCV model to the training data\n",
        "lasso_cv.fit(X_train_poly_cat, y_train.values.ravel())\n",
        "\n",
        "#The best alpha value after cross-validation\n",
        "best_alpha = lasso_cv.alpha_\n",
        "\n",
        "#Coefficients of the Lasso model\n",
        "lasso_coefficients = lasso_cv.coef_\n",
        "\n",
        "#Performance metrics: mean squared error for each alpha\n",
        "mse_path = lasso_cv.mse_path_\n",
        "\n",
        "#Average mean squared error for each alpha\n",
        "avg_mse = mse_path.mean(axis=1)\n",
        "\n",
        "#R-squared score on the training data\n",
        "r_squared_train = lasso_cv.score(X_train_poly_cat, y_train)\n",
        "\n",
        "best_alpha, avg_mse, r_squared_train"
      ],
      "metadata": {
        "colab": {
          "base_uri": "https://localhost:8080/"
        },
        "id": "5zG7LZNWBqhD",
        "outputId": "fd7a9ffc-2226-49e9-c506-e89b96d04712"
      },
      "execution_count": 45,
      "outputs": [
        {
          "output_type": "execute_result",
          "data": {
            "text/plain": [
              "(0.01,\n",
              " array([297.76955553, 287.14796908, 287.17201641, 287.18894266,\n",
              "        287.19263782]),\n",
              " 0.9939784713678153)"
            ]
          },
          "metadata": {},
          "execution_count": 45
        }
      ]
    },
    {
      "cell_type": "code",
      "source": [
        "plt.figure(figsize=(10, 6))\n",
        "plt.semilogx(lasso_cv.alphas_, avg_mse, '-o')\n",
        "plt.xlabel('Alpha (log scale)')\n",
        "plt.ylabel('Average Mean Squared Error')\n",
        "plt.title('Average MSE vs Alpha during Lasso CV')\n",
        "plt.axvline(lasso_cv.alpha_, color='red', linestyle='--', label=f'Optimal alpha: {best_alpha}')\n",
        "plt.legend()\n",
        "plt.grid(True)\n",
        "plt.show()\n",
        "\n",
        "#Plot the coefficient magnitudes\n",
        "plt.figure(figsize=(10, 6))\n",
        "coefs = pd.Series(lasso_coefficients, index=X_train_poly_cat.columns)\n",
        "sorted_coefs = coefs.sort_values()\n",
        "top_coefs = sorted_coefs[-10:].append(sorted_coefs[:10])  #show top and bottom 10\n",
        "top_coefs.plot(kind='barh')\n",
        "plt.title('Top and Bottom 10 Coefficient Magnitudes in Lasso Model')\n",
        "plt.xlabel('Coefficient magnitude')\n",
        "plt.ylabel('Features')\n",
        "plt.grid(True)\n",
        "plt.show()\n",
        "\n",
        "#R-squared score on the training data\n",
        "plt.figure(figsize=(10, 6))\n",
        "r_squared_values = [lasso_cv.score(X_train_poly_cat, y_train) for alpha in lasso_cv.alphas_]\n",
        "plt.semilogx(lasso_cv.alphas_, r_squared_values, '-o')\n",
        "plt.xlabel('Alpha (log scale)')\n",
        "plt.ylabel('R-squared')\n",
        "plt.title('R-squared vs Alpha during Lasso CV')\n",
        "plt.axvline(lasso_cv.alpha_, color='red', linestyle='--', label=f'Optimal alpha: {best_alpha}')\n",
        "plt.legend()\n",
        "plt.grid(True)\n",
        "plt.show()"
      ],
      "metadata": {
        "colab": {
          "base_uri": "https://localhost:8080/",
          "height": 1000
        },
        "id": "8cYa7xKWBqex",
        "outputId": "d4ec422d-2e0a-434f-f4f9-8c3b5d6d1723"
      },
      "execution_count": 46,
      "outputs": [
        {
          "output_type": "display_data",
          "data": {
            "text/plain": [
              "<Figure size 1000x600 with 1 Axes>"
            ],
            "image/png": "[encoded data removed]"
          },
          "metadata": {}
        },
        {
          "output_type": "display_data",
          "data": {
            "text/plain": [
              "<Figure size 1000x600 with 1 Axes>"
            ],
            "image/png": "[encoded data removed]"
          },
          "metadata": {}
        },
        {
          "output_type": "display_data",
          "data": {
            "text/plain": [
              "<Figure size 1000x600 with 1 Axes>"
            ],
            "image/png": "[encoded data removed]"
          },
          "metadata": {}
        }
      ]
    },
    {
      "cell_type": "markdown",
      "source": [
        "**Average MSE vs Alpha during Lasso CV:**\n",
        "\n",
        "The first plot shows the relationship between different alpha values and the average Mean Squared Error (MSE) across cross-validation folds.\n",
        "The red dashed line indicates the optimal alpha value (0.01), which is the regularization strength that resulted in the lowest average MSE.\n",
        "We see that as alpha increases beyond this optimal value, the average MSE increases sharply, indicating that too much regularization is detrimental to the model's performance.\n",
        "\n",
        "**Top and Bottom 10 Coefficient Magnitudes in Lasso Model:**\n",
        "\n",
        "The second plot shows the magnitudes of the top and bottom 10 coefficients in the Lasso model.\n",
        "The features on the left have negative coefficients, and those on the right have positive coefficients.\n",
        "Large positive values indicate a strong positive impact on the response variable, while large negative values indicate a strong negative impact.\n",
        "This visualization helps in understanding which features are most influential in the Lasso model. It's important to note that the sign of the coefficient indicates the direction of the relationship, while the magnitude indicates the strength.\n",
        "\n",
        "**R-squared vs Alpha during Lasso CV:**\n",
        "\n",
        "The third plot illustrates how the R-squared value of the model varies with different alpha values.\n",
        "In this plot, we can see that the R-squared value remains fairly consistent across the range of alphas, suggesting that the model's explanatory power is robust to the regularization strength, up until the optimal alpha is reached.\n",
        "Beyond the optimal alpha, the model's explanatory power isn't shown, but we could expect it to decrease as the model becomes overly regularized."
      ],
      "metadata": {
        "id": "h90Aed6eFU7V"
      }
    },
    {
      "cell_type": "code",
      "source": [
        "X_test_poly = poly.transform(X_test_quant_sc)  #Transform the test set with the same polynomial features\n",
        "X_test_poly_cat = pd.concat([X_test_used_cat.reset_index(drop=True), pd.DataFrame(X_test_poly)], axis=1)\n",
        "X_test_poly_cat.columns = X_test_poly_cat.columns.astype(str)  #Ensure column names are strings\n",
        "y_pred = lasso_cv.predict(X_test_poly_cat)\n",
        "\n",
        "#Calculate performance metrics on the test set\n",
        "test_mse = mean_squared_error(y_test, y_pred)\n",
        "test_r2 = r2_score(y_test, y_pred)\n",
        "\n",
        "#Output the test MSE and R-squared values\n",
        "print(f\"Test MSE: {test_mse}\")\n",
        "print(f\"Test R-squared: {test_r2}\")\n",
        "\n",
        "#Coefficient analysis\n",
        "coefs = pd.Series(lasso_cv.coef_, index=X_train_poly_cat.columns)\n"
      ],
      "metadata": {
        "colab": {
          "base_uri": "https://localhost:8080/"
        },
        "id": "ZzZbRQx5Bqcm",
        "outputId": "7a20e65d-b343-4acb-82b5-303e49236dc0"
      },
      "execution_count": 48,
      "outputs": [
        {
          "output_type": "stream",
          "name": "stdout",
          "text": [
            "Test MSE: 302.5812751236815\n",
            "Test R-squared: 0.9937545763948497\n"
          ]
        }
      ]
    },
    {
      "cell_type": "code",
      "source": [
        "coefs"
      ],
      "metadata": {
        "colab": {
          "base_uri": "https://localhost:8080/"
        },
        "id": "Vc3ApPvcBqaR",
        "outputId": "acea0af4-2594-41ea-b467-79f4a5c86a35"
      },
      "execution_count": 49,
      "outputs": [
        {
          "output_type": "execute_result",
          "data": {
            "text/plain": [
              "Packaged Single Zone - heat pump                          9.011407\n",
              "Variable Air Volume air-cooled chiller - gas boiler     -26.111149\n",
              "Variable Air Volume air-cooled chiller - heat pump      -18.021311\n",
              "Variable Air Volume chiller with central - gas boiler   -26.394889\n",
              "Variable Air Volume chiller with central - heat pump    -18.492417\n",
              "                                                           ...    \n",
              "114                                                       0.227077\n",
              "115                                                       1.448140\n",
              "116                                                       1.380307\n",
              "117                                                      -1.497874\n",
              "118                                                       4.629744\n",
              "Length: 136, dtype: float64"
            ]
          },
          "metadata": {},
          "execution_count": 49
        }
      ]
    },
    {
      "cell_type": "markdown",
      "source": [
        "<hr>\n",
        "Examing the polynomial features and understand interactions\n",
        "<hr>"
      ],
      "metadata": {
        "id": "FXEei9GQG5th"
      }
    },
    {
      "cell_type": "code",
      "source": [
        "original_feature_names = X_train_used_quant.columns\n",
        "\n",
        "poly_feature_names = poly.get_feature_names_out(input_features=original_feature_names)\n",
        "\n",
        "combined_feature_names = list(X_train_used_cat.columns) + list(poly_feature_names)\n",
        "\n",
        "feature_coefficients = pd.Series(lasso_cv.coef_, index=combined_feature_names)\n",
        "\n",
        "sorted_features = feature_coefficients.abs().sort_values(ascending=False)\n",
        "\n",
        "print(sorted_features)"
      ],
      "metadata": {
        "colab": {
          "base_uri": "https://localhost:8080/"
        },
        "id": "oZ-_96BYGWcy",
        "outputId": "d5683339-b109-4020-d9c1-e351f73d7e19"
      },
      "execution_count": 57,
      "outputs": [
        {
          "output_type": "stream",
          "name": "stdout",
          "text": [
            "Full Service Restaurant                         732.561492\n",
            "Large Hotel                                     196.112779\n",
            "Hospital                                        162.613168\n",
            "Secondary School                                 82.507570\n",
            "Supermarket                                      77.660246\n",
            "                                                   ...    \n",
            "MassWallR [m^2-K/W] RoofR [m^2-K/W]               0.000000\n",
            "WWReast WindowR [m^2-K/W]                         0.000000\n",
            "nonMassWallR [m^2-K/W] SHGC                       0.000000\n",
            "ExteriorFloorR [m^2-K/W]                          0.000000\n",
            "ExteriorFloorR [m^2-K/W] VolumeToFacadeRatio      0.000000\n",
            "Length: 136, dtype: float64\n"
          ]
        }
      ]
    },
    {
      "cell_type": "code",
      "source": [
        "plt.figure(figsize=(10, 8))\n",
        "plt.scatter(y_test, y_pred, alpha=0.3, c='teal', label='Predicted')\n",
        "plt.scatter(y_test, y_test, alpha=0.3, c='blue', label='Actual')\n",
        "\n",
        "plt.plot([y_test.min(), y_test.max()], [y_test.min(), y_test.max()], 'r--', lw=2, label='Perfect Prediction')\n",
        "\n",
        "plt.xlabel('Actual Values')\n",
        "plt.ylabel('Predicted Values')\n",
        "plt.title('Actual vs. Predicted Values')\n",
        "plt.legend()\n",
        "plt.show()"
      ],
      "metadata": {
        "colab": {
          "base_uri": "https://localhost:8080/",
          "height": 718
        },
        "id": "VcL-CinvGWVQ",
        "outputId": "ffba9b6e-805f-4abc-8977-5a37329a413a"
      },
      "execution_count": 62,
      "outputs": [
        {
          "output_type": "display_data",
          "data": {
            "text/plain": [
              "<Figure size 1000x800 with 1 Axes>"
            ],
            "image/png": "[encoded data removed]"
          },
          "metadata": {}
        }
      ]
    },
    {
      "cell_type": "code",
      "source": [],
      "metadata": {
        "id": "RysactHwGWST"
      },
      "execution_count": null,
      "outputs": []
    },
    {
      "cell_type": "code",
      "source": [],
      "metadata": {
        "id": "WR58jrp-GWMN"
      },
      "execution_count": null,
      "outputs": []
    },
    {
      "cell_type": "code",
      "source": [],
      "metadata": {
        "id": "8A7TCp9iBqVm"
      },
      "execution_count": null,
      "outputs": []
    }
  ],
  "metadata": {
    "colab": {
      "provenance": []
    },
    "kernelspec": {
      "display_name": "Python 3 (ipykernel)",
      "language": "python",
      "name": "python3"
    },
    "language_info": {
      "codemirror_mode": {
        "name": "ipython",
        "version": 3
      },
      "file_extension": ".py",
      "mimetype": "text/x-python",
      "name": "python",
      "nbconvert_exporter": "python",
      "pygments_lexer": "ipython3",
      "version": "3.11.4"
    }
  },
  "nbformat": 4,
  "nbformat_minor": 0
}